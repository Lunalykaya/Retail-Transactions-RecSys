{
 "cells": [
  {
   "cell_type": "code",
   "execution_count": 1,
   "id": "9920258d",
   "metadata": {
    "_cell_guid": "b1076dfc-b9ad-4769-8c92-a6c4dae69d19",
    "_uuid": "8f2839f25d086af736a60e9eeb907d3b93b6e0e5",
    "execution": {
     "iopub.execute_input": "2025-10-24T13:46:50.717941Z",
     "iopub.status.busy": "2025-10-24T13:46:50.717533Z",
     "iopub.status.idle": "2025-10-24T13:46:52.914239Z",
     "shell.execute_reply": "2025-10-24T13:46:52.912879Z"
    },
    "papermill": {
     "duration": 2.207653,
     "end_time": "2025-10-24T13:46:52.916499",
     "exception": false,
     "start_time": "2025-10-24T13:46:50.708846",
     "status": "completed"
    },
    "tags": []
   },
   "outputs": [
    {
     "name": "stdout",
     "output_type": "stream",
     "text": [
      "/kaggle/input/retail-transactions-dataset/Retail_Transactions_Dataset.csv\n"
     ]
    }
   ],
   "source": [
    "# This Python 3 environment comes with many helpful analytics libraries installed\n",
    "# It is defined by the kaggle/python Docker image: https://github.com/kaggle/docker-python\n",
    "# For example, here's several helpful packages to load\n",
    "\n",
    "import numpy as np # linear algebra\n",
    "import pandas as pd # data processing, CSV file I/O (e.g. pd.read_csv)\n",
    "\n",
    "# Input data files are available in the read-only \"../input/\" directory\n",
    "# For example, running this (by clicking run or pressing Shift+Enter) will list all files under the input directory\n",
    "\n",
    "import os\n",
    "for dirname, _, filenames in os.walk('/kaggle/input'):\n",
    "    for filename in filenames:\n",
    "        print(os.path.join(dirname, filename))\n",
    "\n",
    "# You can write up to 20GB to the current directory (/kaggle/working/) that gets preserved as output when you create a version using \"Save & Run All\" \n",
    "# You can also write temporary files to /kaggle/temp/, but they won't be saved outside of the current session"
   ]
  },
  {
   "cell_type": "code",
   "execution_count": 2,
   "id": "835f09d8",
   "metadata": {
    "execution": {
     "iopub.execute_input": "2025-10-24T13:46:52.930605Z",
     "iopub.status.busy": "2025-10-24T13:46:52.930053Z",
     "iopub.status.idle": "2025-10-24T13:46:55.421565Z",
     "shell.execute_reply": "2025-10-24T13:46:55.419640Z"
    },
    "papermill": {
     "duration": 2.501173,
     "end_time": "2025-10-24T13:46:55.423983",
     "exception": false,
     "start_time": "2025-10-24T13:46:52.922810",
     "status": "completed"
    },
    "tags": []
   },
   "outputs": [],
   "source": [
    "import matplotlib.pyplot as plt\n",
    "import seaborn as sns\n",
    "from itertools import chain\n",
    "from mlxtend.preprocessing import TransactionEncoder\n",
    "from mlxtend.frequent_patterns import apriori, association_rules"
   ]
  },
  {
   "cell_type": "markdown",
   "id": "0b9ceb9a",
   "metadata": {
    "papermill": {
     "duration": 0.005289,
     "end_time": "2025-10-24T13:46:55.435336",
     "exception": false,
     "start_time": "2025-10-24T13:46:55.430047",
     "status": "completed"
    },
    "tags": []
   },
   "source": [
    "# Data loading, EDA & Data Preporasion"
   ]
  },
  {
   "cell_type": "code",
   "execution_count": 3,
   "id": "b8245e84",
   "metadata": {
    "execution": {
     "iopub.execute_input": "2025-10-24T13:46:55.448045Z",
     "iopub.status.busy": "2025-10-24T13:46:55.447587Z",
     "iopub.status.idle": "2025-10-24T13:47:01.640206Z",
     "shell.execute_reply": "2025-10-24T13:47:01.639051Z"
    },
    "papermill": {
     "duration": 6.201132,
     "end_time": "2025-10-24T13:47:01.642093",
     "exception": false,
     "start_time": "2025-10-24T13:46:55.440961",
     "status": "completed"
    },
    "tags": []
   },
   "outputs": [],
   "source": [
    "df = pd.read_csv('/kaggle/input/retail-transactions-dataset/Retail_Transactions_Dataset.csv')"
   ]
  },
  {
   "cell_type": "code",
   "execution_count": 4,
   "id": "79bced2a",
   "metadata": {
    "execution": {
     "iopub.execute_input": "2025-10-24T13:47:01.655993Z",
     "iopub.status.busy": "2025-10-24T13:47:01.655623Z",
     "iopub.status.idle": "2025-10-24T13:47:01.688387Z",
     "shell.execute_reply": "2025-10-24T13:47:01.687131Z"
    },
    "papermill": {
     "duration": 0.042384,
     "end_time": "2025-10-24T13:47:01.690347",
     "exception": false,
     "start_time": "2025-10-24T13:47:01.647963",
     "status": "completed"
    },
    "tags": []
   },
   "outputs": [
    {
     "data": {
      "text/html": [
       "<div>\n",
       "<style scoped>\n",
       "    .dataframe tbody tr th:only-of-type {\n",
       "        vertical-align: middle;\n",
       "    }\n",
       "\n",
       "    .dataframe tbody tr th {\n",
       "        vertical-align: top;\n",
       "    }\n",
       "\n",
       "    .dataframe thead th {\n",
       "        text-align: right;\n",
       "    }\n",
       "</style>\n",
       "<table border=\"1\" class=\"dataframe\">\n",
       "  <thead>\n",
       "    <tr style=\"text-align: right;\">\n",
       "      <th></th>\n",
       "      <th>Transaction_ID</th>\n",
       "      <th>Date</th>\n",
       "      <th>Customer_Name</th>\n",
       "      <th>Product</th>\n",
       "      <th>Total_Items</th>\n",
       "      <th>Total_Cost</th>\n",
       "      <th>Payment_Method</th>\n",
       "      <th>City</th>\n",
       "      <th>Store_Type</th>\n",
       "      <th>Discount_Applied</th>\n",
       "      <th>Customer_Category</th>\n",
       "      <th>Season</th>\n",
       "      <th>Promotion</th>\n",
       "    </tr>\n",
       "  </thead>\n",
       "  <tbody>\n",
       "    <tr>\n",
       "      <th>0</th>\n",
       "      <td>1000000000</td>\n",
       "      <td>2022-01-21 06:27:29</td>\n",
       "      <td>Stacey Price</td>\n",
       "      <td>['Ketchup', 'Shaving Cream', 'Light Bulbs']</td>\n",
       "      <td>3</td>\n",
       "      <td>71.65</td>\n",
       "      <td>Mobile Payment</td>\n",
       "      <td>Los Angeles</td>\n",
       "      <td>Warehouse Club</td>\n",
       "      <td>True</td>\n",
       "      <td>Homemaker</td>\n",
       "      <td>Winter</td>\n",
       "      <td>NaN</td>\n",
       "    </tr>\n",
       "    <tr>\n",
       "      <th>1</th>\n",
       "      <td>1000000001</td>\n",
       "      <td>2023-03-01 13:01:21</td>\n",
       "      <td>Michelle Carlson</td>\n",
       "      <td>['Ice Cream', 'Milk', 'Olive Oil', 'Bread', 'P...</td>\n",
       "      <td>2</td>\n",
       "      <td>25.93</td>\n",
       "      <td>Cash</td>\n",
       "      <td>San Francisco</td>\n",
       "      <td>Specialty Store</td>\n",
       "      <td>True</td>\n",
       "      <td>Professional</td>\n",
       "      <td>Fall</td>\n",
       "      <td>BOGO (Buy One Get One)</td>\n",
       "    </tr>\n",
       "    <tr>\n",
       "      <th>2</th>\n",
       "      <td>1000000002</td>\n",
       "      <td>2024-03-21 15:37:04</td>\n",
       "      <td>Lisa Graves</td>\n",
       "      <td>['Spinach']</td>\n",
       "      <td>6</td>\n",
       "      <td>41.49</td>\n",
       "      <td>Credit Card</td>\n",
       "      <td>Houston</td>\n",
       "      <td>Department Store</td>\n",
       "      <td>True</td>\n",
       "      <td>Professional</td>\n",
       "      <td>Winter</td>\n",
       "      <td>NaN</td>\n",
       "    </tr>\n",
       "    <tr>\n",
       "      <th>3</th>\n",
       "      <td>1000000003</td>\n",
       "      <td>2020-10-31 09:59:47</td>\n",
       "      <td>Mrs. Patricia May</td>\n",
       "      <td>['Tissues', 'Mustard']</td>\n",
       "      <td>1</td>\n",
       "      <td>39.34</td>\n",
       "      <td>Mobile Payment</td>\n",
       "      <td>Chicago</td>\n",
       "      <td>Pharmacy</td>\n",
       "      <td>True</td>\n",
       "      <td>Homemaker</td>\n",
       "      <td>Spring</td>\n",
       "      <td>NaN</td>\n",
       "    </tr>\n",
       "    <tr>\n",
       "      <th>4</th>\n",
       "      <td>1000000004</td>\n",
       "      <td>2020-12-10 00:59:59</td>\n",
       "      <td>Susan Mitchell</td>\n",
       "      <td>['Dish Soap']</td>\n",
       "      <td>10</td>\n",
       "      <td>16.42</td>\n",
       "      <td>Debit Card</td>\n",
       "      <td>Houston</td>\n",
       "      <td>Specialty Store</td>\n",
       "      <td>False</td>\n",
       "      <td>Young Adult</td>\n",
       "      <td>Winter</td>\n",
       "      <td>Discount on Selected Items</td>\n",
       "    </tr>\n",
       "  </tbody>\n",
       "</table>\n",
       "</div>"
      ],
      "text/plain": [
       "   Transaction_ID                 Date      Customer_Name  \\\n",
       "0      1000000000  2022-01-21 06:27:29       Stacey Price   \n",
       "1      1000000001  2023-03-01 13:01:21   Michelle Carlson   \n",
       "2      1000000002  2024-03-21 15:37:04        Lisa Graves   \n",
       "3      1000000003  2020-10-31 09:59:47  Mrs. Patricia May   \n",
       "4      1000000004  2020-12-10 00:59:59     Susan Mitchell   \n",
       "\n",
       "                                             Product  Total_Items  Total_Cost  \\\n",
       "0        ['Ketchup', 'Shaving Cream', 'Light Bulbs']            3       71.65   \n",
       "1  ['Ice Cream', 'Milk', 'Olive Oil', 'Bread', 'P...            2       25.93   \n",
       "2                                        ['Spinach']            6       41.49   \n",
       "3                             ['Tissues', 'Mustard']            1       39.34   \n",
       "4                                      ['Dish Soap']           10       16.42   \n",
       "\n",
       "   Payment_Method           City        Store_Type  Discount_Applied  \\\n",
       "0  Mobile Payment    Los Angeles    Warehouse Club              True   \n",
       "1            Cash  San Francisco   Specialty Store              True   \n",
       "2     Credit Card        Houston  Department Store              True   \n",
       "3  Mobile Payment        Chicago          Pharmacy              True   \n",
       "4      Debit Card        Houston   Specialty Store             False   \n",
       "\n",
       "  Customer_Category  Season                   Promotion  \n",
       "0         Homemaker  Winter                         NaN  \n",
       "1      Professional    Fall      BOGO (Buy One Get One)  \n",
       "2      Professional  Winter                         NaN  \n",
       "3         Homemaker  Spring                         NaN  \n",
       "4       Young Adult  Winter  Discount on Selected Items  "
      ]
     },
     "execution_count": 4,
     "metadata": {},
     "output_type": "execute_result"
    }
   ],
   "source": [
    "df.head()"
   ]
  },
  {
   "cell_type": "code",
   "execution_count": 5,
   "id": "98d8fbf3",
   "metadata": {
    "execution": {
     "iopub.execute_input": "2025-10-24T13:47:01.704188Z",
     "iopub.status.busy": "2025-10-24T13:47:01.703290Z",
     "iopub.status.idle": "2025-10-24T13:47:02.197610Z",
     "shell.execute_reply": "2025-10-24T13:47:02.196419Z"
    },
    "papermill": {
     "duration": 0.50267,
     "end_time": "2025-10-24T13:47:02.199235",
     "exception": false,
     "start_time": "2025-10-24T13:47:01.696565",
     "status": "completed"
    },
    "tags": []
   },
   "outputs": [
    {
     "name": "stdout",
     "output_type": "stream",
     "text": [
      "<class 'pandas.core.frame.DataFrame'>\n",
      "RangeIndex: 1000000 entries, 0 to 999999\n",
      "Data columns (total 13 columns):\n",
      " #   Column             Non-Null Count    Dtype  \n",
      "---  ------             --------------    -----  \n",
      " 0   Transaction_ID     1000000 non-null  int64  \n",
      " 1   Date               1000000 non-null  object \n",
      " 2   Customer_Name      1000000 non-null  object \n",
      " 3   Product            1000000 non-null  object \n",
      " 4   Total_Items        1000000 non-null  int64  \n",
      " 5   Total_Cost         1000000 non-null  float64\n",
      " 6   Payment_Method     1000000 non-null  object \n",
      " 7   City               1000000 non-null  object \n",
      " 8   Store_Type         1000000 non-null  object \n",
      " 9   Discount_Applied   1000000 non-null  bool   \n",
      " 10  Customer_Category  1000000 non-null  object \n",
      " 11  Season             1000000 non-null  object \n",
      " 12  Promotion          666057 non-null   object \n",
      "dtypes: bool(1), float64(1), int64(2), object(9)\n",
      "memory usage: 92.5+ MB\n"
     ]
    }
   ],
   "source": [
    "df.info()"
   ]
  },
  {
   "cell_type": "code",
   "execution_count": 6,
   "id": "ca35594c",
   "metadata": {
    "execution": {
     "iopub.execute_input": "2025-10-24T13:47:02.212823Z",
     "iopub.status.busy": "2025-10-24T13:47:02.212495Z",
     "iopub.status.idle": "2025-10-24T13:47:03.636861Z",
     "shell.execute_reply": "2025-10-24T13:47:03.635500Z"
    },
    "papermill": {
     "duration": 1.433634,
     "end_time": "2025-10-24T13:47:03.638981",
     "exception": false,
     "start_time": "2025-10-24T13:47:02.205347",
     "status": "completed"
    },
    "tags": []
   },
   "outputs": [
    {
     "data": {
      "text/plain": [
       "0"
      ]
     },
     "execution_count": 6,
     "metadata": {},
     "output_type": "execute_result"
    }
   ],
   "source": [
    "df.duplicated().sum()"
   ]
  },
  {
   "cell_type": "code",
   "execution_count": 7,
   "id": "067bf6c2",
   "metadata": {
    "execution": {
     "iopub.execute_input": "2025-10-24T13:47:03.654404Z",
     "iopub.status.busy": "2025-10-24T13:47:03.654035Z",
     "iopub.status.idle": "2025-10-24T13:47:04.565407Z",
     "shell.execute_reply": "2025-10-24T13:47:04.564124Z"
    },
    "papermill": {
     "duration": 0.921367,
     "end_time": "2025-10-24T13:47:04.567052",
     "exception": false,
     "start_time": "2025-10-24T13:47:03.645685",
     "status": "completed"
    },
    "tags": []
   },
   "outputs": [
    {
     "name": "stdout",
     "output_type": "stream",
     "text": [
      "1000000\n",
      "329738\n",
      "571947\n",
      "996337\n",
      "10\n"
     ]
    }
   ],
   "source": [
    "for c in ['Transaction_ID', 'Customer_Name', 'Product', 'Date', 'City']:\n",
    "    print(df[c].nunique())"
   ]
  },
  {
   "cell_type": "markdown",
   "id": "89834af8",
   "metadata": {
    "papermill": {
     "duration": 0.005942,
     "end_time": "2025-10-24T13:47:04.579321",
     "exception": false,
     "start_time": "2025-10-24T13:47:04.573379",
     "status": "completed"
    },
    "tags": []
   },
   "source": [
    "* **1,000,000 transactions**\n",
    "* **329,738 customers**\n",
    "* **571,947 unique products**\n",
    "* **10 cities**"
   ]
  },
  {
   "cell_type": "markdown",
   "id": "6c23dcd1",
   "metadata": {
    "papermill": {
     "duration": 0.005752,
     "end_time": "2025-10-24T13:47:04.591142",
     "exception": false,
     "start_time": "2025-10-24T13:47:04.585390",
     "status": "completed"
    },
    "tags": []
   },
   "source": []
  },
  {
   "cell_type": "code",
   "execution_count": 8,
   "id": "5add2c9e",
   "metadata": {
    "execution": {
     "iopub.execute_input": "2025-10-24T13:47:04.604706Z",
     "iopub.status.busy": "2025-10-24T13:47:04.604289Z",
     "iopub.status.idle": "2025-10-24T13:47:05.527130Z",
     "shell.execute_reply": "2025-10-24T13:47:05.526350Z"
    },
    "papermill": {
     "duration": 0.931304,
     "end_time": "2025-10-24T13:47:05.528629",
     "exception": false,
     "start_time": "2025-10-24T13:47:04.597325",
     "status": "completed"
    },
    "tags": []
   },
   "outputs": [
    {
     "data": {
      "text/plain": [
       "count    329738.000000\n",
       "mean          3.032711\n",
       "std           6.383718\n",
       "min           1.000000\n",
       "25%           1.000000\n",
       "50%           1.000000\n",
       "75%           3.000000\n",
       "max         454.000000\n",
       "Name: Transaction_ID, dtype: float64"
      ]
     },
     "execution_count": 8,
     "metadata": {},
     "output_type": "execute_result"
    }
   ],
   "source": [
    "df.groupby('Customer_Name')['Transaction_ID'].count().describe()"
   ]
  },
  {
   "cell_type": "code",
   "execution_count": 9,
   "id": "23d03d9f",
   "metadata": {
    "execution": {
     "iopub.execute_input": "2025-10-24T13:47:05.542834Z",
     "iopub.status.busy": "2025-10-24T13:47:05.542547Z",
     "iopub.status.idle": "2025-10-24T13:47:06.512032Z",
     "shell.execute_reply": "2025-10-24T13:47:06.511125Z"
    },
    "papermill": {
     "duration": 0.978262,
     "end_time": "2025-10-24T13:47:06.513710",
     "exception": false,
     "start_time": "2025-10-24T13:47:05.535448",
     "status": "completed"
    },
    "tags": []
   },
   "outputs": [
    {
     "data": {
      "text/plain": [
       "Customer_Name\n",
       "Michael Smith    454\n",
       "Name: Transaction_ID, dtype: int64"
      ]
     },
     "execution_count": 9,
     "metadata": {},
     "output_type": "execute_result"
    }
   ],
   "source": [
    "cust_counts = df.groupby('Customer_Name')['Transaction_ID'].count()\n",
    "outliers = cust_counts[cust_counts == cust_counts.max()]\n",
    "outliers"
   ]
  },
  {
   "cell_type": "code",
   "execution_count": 10,
   "id": "41176d4c",
   "metadata": {
    "execution": {
     "iopub.execute_input": "2025-10-24T13:47:06.528151Z",
     "iopub.status.busy": "2025-10-24T13:47:06.527157Z",
     "iopub.status.idle": "2025-10-24T13:47:06.603205Z",
     "shell.execute_reply": "2025-10-24T13:47:06.602221Z"
    },
    "papermill": {
     "duration": 0.084768,
     "end_time": "2025-10-24T13:47:06.604869",
     "exception": false,
     "start_time": "2025-10-24T13:47:06.520101",
     "status": "completed"
    },
    "tags": []
   },
   "outputs": [
    {
     "data": {
      "text/html": [
       "<div>\n",
       "<style scoped>\n",
       "    .dataframe tbody tr th:only-of-type {\n",
       "        vertical-align: middle;\n",
       "    }\n",
       "\n",
       "    .dataframe tbody tr th {\n",
       "        vertical-align: top;\n",
       "    }\n",
       "\n",
       "    .dataframe thead th {\n",
       "        text-align: right;\n",
       "    }\n",
       "</style>\n",
       "<table border=\"1\" class=\"dataframe\">\n",
       "  <thead>\n",
       "    <tr style=\"text-align: right;\">\n",
       "      <th></th>\n",
       "      <th>Transaction_ID</th>\n",
       "      <th>Date</th>\n",
       "      <th>Customer_Name</th>\n",
       "      <th>Product</th>\n",
       "      <th>Total_Items</th>\n",
       "      <th>Total_Cost</th>\n",
       "      <th>Payment_Method</th>\n",
       "      <th>City</th>\n",
       "      <th>Store_Type</th>\n",
       "      <th>Discount_Applied</th>\n",
       "      <th>Customer_Category</th>\n",
       "      <th>Season</th>\n",
       "      <th>Promotion</th>\n",
       "    </tr>\n",
       "  </thead>\n",
       "  <tbody>\n",
       "    <tr>\n",
       "      <th>390</th>\n",
       "      <td>1000000390</td>\n",
       "      <td>2024-03-14 19:01:00</td>\n",
       "      <td>Michael Smith</td>\n",
       "      <td>['Salmon']</td>\n",
       "      <td>8</td>\n",
       "      <td>65.90</td>\n",
       "      <td>Debit Card</td>\n",
       "      <td>New York</td>\n",
       "      <td>Convenience Store</td>\n",
       "      <td>False</td>\n",
       "      <td>Professional</td>\n",
       "      <td>Spring</td>\n",
       "      <td>NaN</td>\n",
       "    </tr>\n",
       "    <tr>\n",
       "      <th>3664</th>\n",
       "      <td>1000003664</td>\n",
       "      <td>2022-11-25 02:56:15</td>\n",
       "      <td>Michael Smith</td>\n",
       "      <td>['Soda', 'Ironing Board']</td>\n",
       "      <td>4</td>\n",
       "      <td>38.64</td>\n",
       "      <td>Credit Card</td>\n",
       "      <td>Los Angeles</td>\n",
       "      <td>Warehouse Club</td>\n",
       "      <td>False</td>\n",
       "      <td>Middle-Aged</td>\n",
       "      <td>Fall</td>\n",
       "      <td>Discount on Selected Items</td>\n",
       "    </tr>\n",
       "    <tr>\n",
       "      <th>5671</th>\n",
       "      <td>1000005671</td>\n",
       "      <td>2021-08-24 16:03:47</td>\n",
       "      <td>Michael Smith</td>\n",
       "      <td>['Salmon', 'Carrots', 'Mayonnaise']</td>\n",
       "      <td>9</td>\n",
       "      <td>10.11</td>\n",
       "      <td>Debit Card</td>\n",
       "      <td>Boston</td>\n",
       "      <td>Pharmacy</td>\n",
       "      <td>True</td>\n",
       "      <td>Middle-Aged</td>\n",
       "      <td>Summer</td>\n",
       "      <td>NaN</td>\n",
       "    </tr>\n",
       "    <tr>\n",
       "      <th>6343</th>\n",
       "      <td>1000006343</td>\n",
       "      <td>2023-08-09 11:42:15</td>\n",
       "      <td>Michael Smith</td>\n",
       "      <td>['Toilet Paper', 'Lawn Mower', 'Pasta', 'Orange']</td>\n",
       "      <td>7</td>\n",
       "      <td>36.80</td>\n",
       "      <td>Mobile Payment</td>\n",
       "      <td>Los Angeles</td>\n",
       "      <td>Convenience Store</td>\n",
       "      <td>True</td>\n",
       "      <td>Homemaker</td>\n",
       "      <td>Spring</td>\n",
       "      <td>Discount on Selected Items</td>\n",
       "    </tr>\n",
       "    <tr>\n",
       "      <th>9924</th>\n",
       "      <td>1000009924</td>\n",
       "      <td>2020-03-26 22:53:34</td>\n",
       "      <td>Michael Smith</td>\n",
       "      <td>['Insect Repellent', 'Pancake Mix']</td>\n",
       "      <td>7</td>\n",
       "      <td>19.22</td>\n",
       "      <td>Credit Card</td>\n",
       "      <td>Houston</td>\n",
       "      <td>Specialty Store</td>\n",
       "      <td>True</td>\n",
       "      <td>Homemaker</td>\n",
       "      <td>Spring</td>\n",
       "      <td>Discount on Selected Items</td>\n",
       "    </tr>\n",
       "    <tr>\n",
       "      <th>...</th>\n",
       "      <td>...</td>\n",
       "      <td>...</td>\n",
       "      <td>...</td>\n",
       "      <td>...</td>\n",
       "      <td>...</td>\n",
       "      <td>...</td>\n",
       "      <td>...</td>\n",
       "      <td>...</td>\n",
       "      <td>...</td>\n",
       "      <td>...</td>\n",
       "      <td>...</td>\n",
       "      <td>...</td>\n",
       "      <td>...</td>\n",
       "    </tr>\n",
       "    <tr>\n",
       "      <th>995620</th>\n",
       "      <td>1000995620</td>\n",
       "      <td>2021-08-07 18:08:43</td>\n",
       "      <td>Michael Smith</td>\n",
       "      <td>['Sponges', 'Shaving Cream', 'Beef', 'Apple']</td>\n",
       "      <td>3</td>\n",
       "      <td>42.30</td>\n",
       "      <td>Credit Card</td>\n",
       "      <td>Miami</td>\n",
       "      <td>Convenience Store</td>\n",
       "      <td>False</td>\n",
       "      <td>Homemaker</td>\n",
       "      <td>Winter</td>\n",
       "      <td>BOGO (Buy One Get One)</td>\n",
       "    </tr>\n",
       "    <tr>\n",
       "      <th>996466</th>\n",
       "      <td>1000996466</td>\n",
       "      <td>2020-02-14 12:38:38</td>\n",
       "      <td>Michael Smith</td>\n",
       "      <td>['Mayonnaise', 'Deodorant']</td>\n",
       "      <td>8</td>\n",
       "      <td>47.83</td>\n",
       "      <td>Credit Card</td>\n",
       "      <td>Houston</td>\n",
       "      <td>Convenience Store</td>\n",
       "      <td>False</td>\n",
       "      <td>Senior Citizen</td>\n",
       "      <td>Winter</td>\n",
       "      <td>BOGO (Buy One Get One)</td>\n",
       "    </tr>\n",
       "    <tr>\n",
       "      <th>997142</th>\n",
       "      <td>1000997142</td>\n",
       "      <td>2021-07-16 12:52:46</td>\n",
       "      <td>Michael Smith</td>\n",
       "      <td>['Pasta', 'Hair Gel', 'Broom']</td>\n",
       "      <td>7</td>\n",
       "      <td>8.11</td>\n",
       "      <td>Debit Card</td>\n",
       "      <td>Boston</td>\n",
       "      <td>Specialty Store</td>\n",
       "      <td>True</td>\n",
       "      <td>Student</td>\n",
       "      <td>Spring</td>\n",
       "      <td>Discount on Selected Items</td>\n",
       "    </tr>\n",
       "    <tr>\n",
       "      <th>997374</th>\n",
       "      <td>1000997374</td>\n",
       "      <td>2020-03-22 05:34:56</td>\n",
       "      <td>Michael Smith</td>\n",
       "      <td>['Pickles']</td>\n",
       "      <td>7</td>\n",
       "      <td>49.30</td>\n",
       "      <td>Credit Card</td>\n",
       "      <td>Dallas</td>\n",
       "      <td>Pharmacy</td>\n",
       "      <td>True</td>\n",
       "      <td>Young Adult</td>\n",
       "      <td>Spring</td>\n",
       "      <td>NaN</td>\n",
       "    </tr>\n",
       "    <tr>\n",
       "      <th>997895</th>\n",
       "      <td>1000997895</td>\n",
       "      <td>2022-01-07 15:27:02</td>\n",
       "      <td>Michael Smith</td>\n",
       "      <td>['Paper Towels', 'Extension Cords', 'Baby Wipes']</td>\n",
       "      <td>2</td>\n",
       "      <td>93.25</td>\n",
       "      <td>Mobile Payment</td>\n",
       "      <td>Atlanta</td>\n",
       "      <td>Convenience Store</td>\n",
       "      <td>False</td>\n",
       "      <td>Homemaker</td>\n",
       "      <td>Summer</td>\n",
       "      <td>Discount on Selected Items</td>\n",
       "    </tr>\n",
       "  </tbody>\n",
       "</table>\n",
       "<p>454 rows × 13 columns</p>\n",
       "</div>"
      ],
      "text/plain": [
       "        Transaction_ID                 Date  Customer_Name  \\\n",
       "390         1000000390  2024-03-14 19:01:00  Michael Smith   \n",
       "3664        1000003664  2022-11-25 02:56:15  Michael Smith   \n",
       "5671        1000005671  2021-08-24 16:03:47  Michael Smith   \n",
       "6343        1000006343  2023-08-09 11:42:15  Michael Smith   \n",
       "9924        1000009924  2020-03-26 22:53:34  Michael Smith   \n",
       "...                ...                  ...            ...   \n",
       "995620      1000995620  2021-08-07 18:08:43  Michael Smith   \n",
       "996466      1000996466  2020-02-14 12:38:38  Michael Smith   \n",
       "997142      1000997142  2021-07-16 12:52:46  Michael Smith   \n",
       "997374      1000997374  2020-03-22 05:34:56  Michael Smith   \n",
       "997895      1000997895  2022-01-07 15:27:02  Michael Smith   \n",
       "\n",
       "                                                  Product  Total_Items  \\\n",
       "390                                            ['Salmon']            8   \n",
       "3664                            ['Soda', 'Ironing Board']            4   \n",
       "5671                  ['Salmon', 'Carrots', 'Mayonnaise']            9   \n",
       "6343    ['Toilet Paper', 'Lawn Mower', 'Pasta', 'Orange']            7   \n",
       "9924                  ['Insect Repellent', 'Pancake Mix']            7   \n",
       "...                                                   ...          ...   \n",
       "995620      ['Sponges', 'Shaving Cream', 'Beef', 'Apple']            3   \n",
       "996466                        ['Mayonnaise', 'Deodorant']            8   \n",
       "997142                     ['Pasta', 'Hair Gel', 'Broom']            7   \n",
       "997374                                        ['Pickles']            7   \n",
       "997895  ['Paper Towels', 'Extension Cords', 'Baby Wipes']            2   \n",
       "\n",
       "        Total_Cost  Payment_Method         City         Store_Type  \\\n",
       "390          65.90      Debit Card     New York  Convenience Store   \n",
       "3664         38.64     Credit Card  Los Angeles     Warehouse Club   \n",
       "5671         10.11      Debit Card       Boston           Pharmacy   \n",
       "6343         36.80  Mobile Payment  Los Angeles  Convenience Store   \n",
       "9924         19.22     Credit Card      Houston    Specialty Store   \n",
       "...            ...             ...          ...                ...   \n",
       "995620       42.30     Credit Card        Miami  Convenience Store   \n",
       "996466       47.83     Credit Card      Houston  Convenience Store   \n",
       "997142        8.11      Debit Card       Boston    Specialty Store   \n",
       "997374       49.30     Credit Card       Dallas           Pharmacy   \n",
       "997895       93.25  Mobile Payment      Atlanta  Convenience Store   \n",
       "\n",
       "        Discount_Applied Customer_Category  Season                   Promotion  \n",
       "390                False      Professional  Spring                         NaN  \n",
       "3664               False       Middle-Aged    Fall  Discount on Selected Items  \n",
       "5671                True       Middle-Aged  Summer                         NaN  \n",
       "6343                True         Homemaker  Spring  Discount on Selected Items  \n",
       "9924                True         Homemaker  Spring  Discount on Selected Items  \n",
       "...                  ...               ...     ...                         ...  \n",
       "995620             False         Homemaker  Winter      BOGO (Buy One Get One)  \n",
       "996466             False    Senior Citizen  Winter      BOGO (Buy One Get One)  \n",
       "997142              True           Student  Spring  Discount on Selected Items  \n",
       "997374              True       Young Adult  Spring                         NaN  \n",
       "997895             False         Homemaker  Summer  Discount on Selected Items  \n",
       "\n",
       "[454 rows x 13 columns]"
      ]
     },
     "execution_count": 10,
     "metadata": {},
     "output_type": "execute_result"
    }
   ],
   "source": [
    "df[df['Customer_Name'].isin(outliers.index)]"
   ]
  },
  {
   "cell_type": "code",
   "execution_count": 11,
   "id": "7364d07a",
   "metadata": {
    "execution": {
     "iopub.execute_input": "2025-10-24T13:47:06.619430Z",
     "iopub.status.busy": "2025-10-24T13:47:06.619068Z",
     "iopub.status.idle": "2025-10-24T13:47:09.609426Z",
     "shell.execute_reply": "2025-10-24T13:47:09.608382Z"
    },
    "papermill": {
     "duration": 2.999462,
     "end_time": "2025-10-24T13:47:09.611132",
     "exception": false,
     "start_time": "2025-10-24T13:47:06.611670",
     "status": "completed"
    },
    "tags": []
   },
   "outputs": [
    {
     "name": "stderr",
     "output_type": "stream",
     "text": [
      "/usr/local/lib/python3.11/dist-packages/seaborn/_oldcore.py:1498: DeprecationWarning: is_categorical_dtype is deprecated and will be removed in a future version. Use isinstance(dtype, pd.CategoricalDtype) instead\n",
      "  if pd.api.types.is_categorical_dtype(vector):\n",
      "/usr/local/lib/python3.11/dist-packages/seaborn/_oldcore.py:1119: FutureWarning: use_inf_as_na option is deprecated and will be removed in a future version. Convert inf values to NaN before operating instead.\n",
      "  with pd.option_context('mode.use_inf_as_na', True):\n"
     ]
    },
    {
     "data": {
      "image/png": "[encoded data removed]",
      "text/plain": [
       "<Figure size 640x480 with 1 Axes>"
      ]
     },
     "metadata": {},
     "output_type": "display_data"
    }
   ],
   "source": [
    "transactions_per_customer = df.groupby('Customer_Name')['Transaction_ID'].count()\n",
    "transactions_no_outlier = transactions_per_customer[transactions_per_customer < 10]\n",
    "sns.histplot(transactions_no_outlier, kde=True, bins=20, edgecolor='black')\n",
    "plt.title('Distribution of Transactions per Customer (without outlier)')\n",
    "plt.xlabel('Number of Transactions')\n",
    "plt.ylabel('Number of Customers')\n",
    "plt.show()"
   ]
  },
  {
   "cell_type": "code",
   "execution_count": 12,
   "id": "e2627b1b",
   "metadata": {
    "execution": {
     "iopub.execute_input": "2025-10-24T13:47:09.627955Z",
     "iopub.status.busy": "2025-10-24T13:47:09.627640Z",
     "iopub.status.idle": "2025-10-24T13:47:10.001416Z",
     "shell.execute_reply": "2025-10-24T13:47:09.999860Z"
    },
    "papermill": {
     "duration": 0.384247,
     "end_time": "2025-10-24T13:47:10.003217",
     "exception": false,
     "start_time": "2025-10-24T13:47:09.618970",
     "status": "completed"
    },
    "tags": []
   },
   "outputs": [
    {
     "name": "stderr",
     "output_type": "stream",
     "text": [
      "/usr/local/lib/python3.11/dist-packages/seaborn/_oldcore.py:1498: DeprecationWarning: is_categorical_dtype is deprecated and will be removed in a future version. Use isinstance(dtype, pd.CategoricalDtype) instead\n",
      "  if pd.api.types.is_categorical_dtype(vector):\n",
      "/usr/local/lib/python3.11/dist-packages/seaborn/_oldcore.py:1119: FutureWarning: use_inf_as_na option is deprecated and will be removed in a future version. Convert inf values to NaN before operating instead.\n",
      "  with pd.option_context('mode.use_inf_as_na', True):\n"
     ]
    },
    {
     "data": {
      "image/png": "[encoded data removed]",
      "text/plain": [
       "<Figure size 640x480 with 1 Axes>"
      ]
     },
     "metadata": {},
     "output_type": "display_data"
    }
   ],
   "source": [
    "transactions_max = transactions_per_customer[transactions_per_customer > 10]\n",
    "sns.histplot(transactions_max, kde=True, bins=20, edgecolor='black')\n",
    "plt.title('Distribution of Transactions per Customer (without outlier)')\n",
    "plt.xlabel('Number of Transactions')\n",
    "plt.ylabel('Number of Customers')\n",
    "plt.show()"
   ]
  },
  {
   "cell_type": "code",
   "execution_count": 13,
   "id": "8038106b",
   "metadata": {
    "execution": {
     "iopub.execute_input": "2025-10-24T13:47:10.024368Z",
     "iopub.status.busy": "2025-10-24T13:47:10.023861Z",
     "iopub.status.idle": "2025-10-24T13:47:10.210839Z",
     "shell.execute_reply": "2025-10-24T13:47:10.209422Z"
    },
    "papermill": {
     "duration": 0.200469,
     "end_time": "2025-10-24T13:47:10.212754",
     "exception": false,
     "start_time": "2025-10-24T13:47:10.012285",
     "status": "completed"
    },
    "tags": []
   },
   "outputs": [
    {
     "name": "stdout",
     "output_type": "stream",
     "text": [
      "2020-01-01 00:03:54\n",
      "2024-05-18 19:31:03\n"
     ]
    }
   ],
   "source": [
    "print(df['Date'].min())\n",
    "print(df['Date'].max())"
   ]
  },
  {
   "cell_type": "code",
   "execution_count": 14,
   "id": "c04fd976",
   "metadata": {
    "execution": {
     "iopub.execute_input": "2025-10-24T13:47:10.231815Z",
     "iopub.status.busy": "2025-10-24T13:47:10.231501Z",
     "iopub.status.idle": "2025-10-24T13:47:10.275847Z",
     "shell.execute_reply": "2025-10-24T13:47:10.273819Z"
    },
    "papermill": {
     "duration": 0.057058,
     "end_time": "2025-10-24T13:47:10.278243",
     "exception": false,
     "start_time": "2025-10-24T13:47:10.221185",
     "status": "completed"
    },
    "tags": []
   },
   "outputs": [
    {
     "data": {
      "text/plain": [
       "count    1000000.000000\n",
       "mean           5.495941\n",
       "std            2.871654\n",
       "min            1.000000\n",
       "25%            3.000000\n",
       "50%            5.000000\n",
       "75%            8.000000\n",
       "max           10.000000\n",
       "Name: Total_Items, dtype: float64"
      ]
     },
     "execution_count": 14,
     "metadata": {},
     "output_type": "execute_result"
    }
   ],
   "source": [
    "df['Total_Items'].describe()"
   ]
  },
  {
   "cell_type": "code",
   "execution_count": 15,
   "id": "518b86b5",
   "metadata": {
    "execution": {
     "iopub.execute_input": "2025-10-24T13:47:10.299745Z",
     "iopub.status.busy": "2025-10-24T13:47:10.299289Z",
     "iopub.status.idle": "2025-10-24T13:47:10.381509Z",
     "shell.execute_reply": "2025-10-24T13:47:10.380473Z"
    },
    "papermill": {
     "duration": 0.095629,
     "end_time": "2025-10-24T13:47:10.383621",
     "exception": false,
     "start_time": "2025-10-24T13:47:10.287992",
     "status": "completed"
    },
    "tags": []
   },
   "outputs": [
    {
     "data": {
      "text/plain": [
       "100097"
      ]
     },
     "execution_count": 15,
     "metadata": {},
     "output_type": "execute_result"
    }
   ],
   "source": [
    "sum(df['Total_Items'] == 1)"
   ]
  },
  {
   "cell_type": "code",
   "execution_count": 16,
   "id": "e6d02a2f",
   "metadata": {
    "execution": {
     "iopub.execute_input": "2025-10-24T13:47:10.402000Z",
     "iopub.status.busy": "2025-10-24T13:47:10.401681Z",
     "iopub.status.idle": "2025-10-24T13:47:10.612872Z",
     "shell.execute_reply": "2025-10-24T13:47:10.611845Z"
    },
    "papermill": {
     "duration": 0.22272,
     "end_time": "2025-10-24T13:47:10.614878",
     "exception": false,
     "start_time": "2025-10-24T13:47:10.392158",
     "status": "completed"
    },
    "tags": []
   },
   "outputs": [],
   "source": [
    "duplicated = df.Product[df['Product'].duplicated()]"
   ]
  },
  {
   "cell_type": "code",
   "execution_count": 17,
   "id": "09490ac3",
   "metadata": {
    "execution": {
     "iopub.execute_input": "2025-10-24T13:47:10.632934Z",
     "iopub.status.busy": "2025-10-24T13:47:10.632605Z",
     "iopub.status.idle": "2025-10-24T13:47:10.682946Z",
     "shell.execute_reply": "2025-10-24T13:47:10.681416Z"
    },
    "papermill": {
     "duration": 0.06158,
     "end_time": "2025-10-24T13:47:10.684954",
     "exception": false,
     "start_time": "2025-10-24T13:47:10.623374",
     "status": "completed"
    },
    "tags": []
   },
   "outputs": [
    {
     "name": "stdout",
     "output_type": "stream",
     "text": [
      "<class 'pandas.core.series.Series'>\n",
      "Index: 428053 entries, 76 to 999997\n",
      "Series name: Product\n",
      "Non-Null Count   Dtype \n",
      "--------------   ----- \n",
      "428053 non-null  object\n",
      "dtypes: object(1)\n",
      "memory usage: 6.5+ MB\n"
     ]
    }
   ],
   "source": [
    "duplicated.info()"
   ]
  },
  {
   "cell_type": "code",
   "execution_count": 18,
   "id": "c6b1fb97",
   "metadata": {
    "execution": {
     "iopub.execute_input": "2025-10-24T13:47:10.704258Z",
     "iopub.status.busy": "2025-10-24T13:47:10.703927Z",
     "iopub.status.idle": "2025-10-24T13:47:10.718203Z",
     "shell.execute_reply": "2025-10-24T13:47:10.717247Z"
    },
    "papermill": {
     "duration": 0.025238,
     "end_time": "2025-10-24T13:47:10.719696",
     "exception": false,
     "start_time": "2025-10-24T13:47:10.694458",
     "status": "completed"
    },
    "tags": []
   },
   "outputs": [
    {
     "data": {
      "text/html": [
       "<div>\n",
       "<style scoped>\n",
       "    .dataframe tbody tr th:only-of-type {\n",
       "        vertical-align: middle;\n",
       "    }\n",
       "\n",
       "    .dataframe tbody tr th {\n",
       "        vertical-align: top;\n",
       "    }\n",
       "\n",
       "    .dataframe thead th {\n",
       "        text-align: right;\n",
       "    }\n",
       "</style>\n",
       "<table border=\"1\" class=\"dataframe\">\n",
       "  <thead>\n",
       "    <tr style=\"text-align: right;\">\n",
       "      <th></th>\n",
       "      <th>Transaction_ID</th>\n",
       "      <th>Date</th>\n",
       "      <th>Customer_Name</th>\n",
       "      <th>Product</th>\n",
       "      <th>Total_Items</th>\n",
       "      <th>Total_Cost</th>\n",
       "      <th>Payment_Method</th>\n",
       "      <th>City</th>\n",
       "      <th>Store_Type</th>\n",
       "      <th>Discount_Applied</th>\n",
       "      <th>Customer_Category</th>\n",
       "      <th>Season</th>\n",
       "      <th>Promotion</th>\n",
       "    </tr>\n",
       "  </thead>\n",
       "  <tbody>\n",
       "    <tr>\n",
       "      <th>0</th>\n",
       "      <td>1000000000</td>\n",
       "      <td>2022-01-21 06:27:29</td>\n",
       "      <td>Stacey Price</td>\n",
       "      <td>['Ketchup', 'Shaving Cream', 'Light Bulbs']</td>\n",
       "      <td>3</td>\n",
       "      <td>71.65</td>\n",
       "      <td>Mobile Payment</td>\n",
       "      <td>Los Angeles</td>\n",
       "      <td>Warehouse Club</td>\n",
       "      <td>True</td>\n",
       "      <td>Homemaker</td>\n",
       "      <td>Winter</td>\n",
       "      <td>NaN</td>\n",
       "    </tr>\n",
       "    <tr>\n",
       "      <th>1</th>\n",
       "      <td>1000000001</td>\n",
       "      <td>2023-03-01 13:01:21</td>\n",
       "      <td>Michelle Carlson</td>\n",
       "      <td>['Ice Cream', 'Milk', 'Olive Oil', 'Bread', 'P...</td>\n",
       "      <td>2</td>\n",
       "      <td>25.93</td>\n",
       "      <td>Cash</td>\n",
       "      <td>San Francisco</td>\n",
       "      <td>Specialty Store</td>\n",
       "      <td>True</td>\n",
       "      <td>Professional</td>\n",
       "      <td>Fall</td>\n",
       "      <td>BOGO (Buy One Get One)</td>\n",
       "    </tr>\n",
       "    <tr>\n",
       "      <th>2</th>\n",
       "      <td>1000000002</td>\n",
       "      <td>2024-03-21 15:37:04</td>\n",
       "      <td>Lisa Graves</td>\n",
       "      <td>['Spinach']</td>\n",
       "      <td>6</td>\n",
       "      <td>41.49</td>\n",
       "      <td>Credit Card</td>\n",
       "      <td>Houston</td>\n",
       "      <td>Department Store</td>\n",
       "      <td>True</td>\n",
       "      <td>Professional</td>\n",
       "      <td>Winter</td>\n",
       "      <td>NaN</td>\n",
       "    </tr>\n",
       "    <tr>\n",
       "      <th>3</th>\n",
       "      <td>1000000003</td>\n",
       "      <td>2020-10-31 09:59:47</td>\n",
       "      <td>Mrs. Patricia May</td>\n",
       "      <td>['Tissues', 'Mustard']</td>\n",
       "      <td>1</td>\n",
       "      <td>39.34</td>\n",
       "      <td>Mobile Payment</td>\n",
       "      <td>Chicago</td>\n",
       "      <td>Pharmacy</td>\n",
       "      <td>True</td>\n",
       "      <td>Homemaker</td>\n",
       "      <td>Spring</td>\n",
       "      <td>NaN</td>\n",
       "    </tr>\n",
       "    <tr>\n",
       "      <th>4</th>\n",
       "      <td>1000000004</td>\n",
       "      <td>2020-12-10 00:59:59</td>\n",
       "      <td>Susan Mitchell</td>\n",
       "      <td>['Dish Soap']</td>\n",
       "      <td>10</td>\n",
       "      <td>16.42</td>\n",
       "      <td>Debit Card</td>\n",
       "      <td>Houston</td>\n",
       "      <td>Specialty Store</td>\n",
       "      <td>False</td>\n",
       "      <td>Young Adult</td>\n",
       "      <td>Winter</td>\n",
       "      <td>Discount on Selected Items</td>\n",
       "    </tr>\n",
       "  </tbody>\n",
       "</table>\n",
       "</div>"
      ],
      "text/plain": [
       "   Transaction_ID                 Date      Customer_Name  \\\n",
       "0      1000000000  2022-01-21 06:27:29       Stacey Price   \n",
       "1      1000000001  2023-03-01 13:01:21   Michelle Carlson   \n",
       "2      1000000002  2024-03-21 15:37:04        Lisa Graves   \n",
       "3      1000000003  2020-10-31 09:59:47  Mrs. Patricia May   \n",
       "4      1000000004  2020-12-10 00:59:59     Susan Mitchell   \n",
       "\n",
       "                                             Product  Total_Items  Total_Cost  \\\n",
       "0        ['Ketchup', 'Shaving Cream', 'Light Bulbs']            3       71.65   \n",
       "1  ['Ice Cream', 'Milk', 'Olive Oil', 'Bread', 'P...            2       25.93   \n",
       "2                                        ['Spinach']            6       41.49   \n",
       "3                             ['Tissues', 'Mustard']            1       39.34   \n",
       "4                                      ['Dish Soap']           10       16.42   \n",
       "\n",
       "   Payment_Method           City        Store_Type  Discount_Applied  \\\n",
       "0  Mobile Payment    Los Angeles    Warehouse Club              True   \n",
       "1            Cash  San Francisco   Specialty Store              True   \n",
       "2     Credit Card        Houston  Department Store              True   \n",
       "3  Mobile Payment        Chicago          Pharmacy              True   \n",
       "4      Debit Card        Houston   Specialty Store             False   \n",
       "\n",
       "  Customer_Category  Season                   Promotion  \n",
       "0         Homemaker  Winter                         NaN  \n",
       "1      Professional    Fall      BOGO (Buy One Get One)  \n",
       "2      Professional  Winter                         NaN  \n",
       "3         Homemaker  Spring                         NaN  \n",
       "4       Young Adult  Winter  Discount on Selected Items  "
      ]
     },
     "execution_count": 18,
     "metadata": {},
     "output_type": "execute_result"
    }
   ],
   "source": [
    "df.head()"
   ]
  },
  {
   "cell_type": "code",
   "execution_count": 19,
   "id": "93c550be",
   "metadata": {
    "execution": {
     "iopub.execute_input": "2025-10-24T13:47:10.739664Z",
     "iopub.status.busy": "2025-10-24T13:47:10.739185Z",
     "iopub.status.idle": "2025-10-24T13:47:24.650832Z",
     "shell.execute_reply": "2025-10-24T13:47:24.649396Z"
    },
    "papermill": {
     "duration": 13.923684,
     "end_time": "2025-10-24T13:47:24.652929",
     "exception": false,
     "start_time": "2025-10-24T13:47:10.729245",
     "status": "completed"
    },
    "tags": []
   },
   "outputs": [
    {
     "data": {
      "text/plain": [
       "list"
      ]
     },
     "execution_count": 19,
     "metadata": {},
     "output_type": "execute_result"
    }
   ],
   "source": [
    "import ast\n",
    "df['Product'] = df['Product'].apply(ast.literal_eval)\n",
    "type(df.loc[0, 'Product'])"
   ]
  },
  {
   "cell_type": "code",
   "execution_count": 20,
   "id": "c6702494",
   "metadata": {
    "execution": {
     "iopub.execute_input": "2025-10-24T13:47:24.677698Z",
     "iopub.status.busy": "2025-10-24T13:47:24.675874Z",
     "iopub.status.idle": "2025-10-24T13:47:24.984050Z",
     "shell.execute_reply": "2025-10-24T13:47:24.982854Z"
    },
    "papermill": {
     "duration": 0.322367,
     "end_time": "2025-10-24T13:47:24.985937",
     "exception": false,
     "start_time": "2025-10-24T13:47:24.663570",
     "status": "completed"
    },
    "tags": []
   },
   "outputs": [
    {
     "data": {
      "text/plain": [
       "(81,\n",
       " {'Air Freshener',\n",
       "  'Apple',\n",
       "  'BBQ Sauce',\n",
       "  'Baby Wipes',\n",
       "  'Banana',\n",
       "  'Bath Towels',\n",
       "  'Beef',\n",
       "  'Bread',\n",
       "  'Broom',\n",
       "  'Butter',\n",
       "  'Canned Soup',\n",
       "  'Carrots',\n",
       "  'Cereal',\n",
       "  'Cereal Bars',\n",
       "  'Cheese',\n",
       "  'Chicken',\n",
       "  'Chips',\n",
       "  'Cleaning Rags',\n",
       "  'Cleaning Spray',\n",
       "  'Coffee',\n",
       "  'Deodorant',\n",
       "  'Diapers',\n",
       "  'Dish Soap',\n",
       "  'Dishware',\n",
       "  'Dustpan',\n",
       "  'Eggs',\n",
       "  'Extension Cords',\n",
       "  'Feminine Hygiene Products',\n",
       "  'Garden Hose',\n",
       "  'Hair Gel',\n",
       "  'Hand Sanitizer',\n",
       "  'Honey',\n",
       "  'Ice Cream',\n",
       "  'Insect Repellent',\n",
       "  'Iron',\n",
       "  'Ironing Board',\n",
       "  'Jam',\n",
       "  'Ketchup',\n",
       "  'Laundry Detergent',\n",
       "  'Lawn Mower',\n",
       "  'Light Bulbs',\n",
       "  'Mayonnaise',\n",
       "  'Milk',\n",
       "  'Mop',\n",
       "  'Mustard',\n",
       "  'Olive Oil',\n",
       "  'Onions',\n",
       "  'Orange',\n",
       "  'Pancake Mix',\n",
       "  'Paper Towels',\n",
       "  'Pasta',\n",
       "  'Peanut Butter',\n",
       "  'Pickles',\n",
       "  'Plant Fertilizer',\n",
       "  'Potatoes',\n",
       "  'Power Strips',\n",
       "  'Razors',\n",
       "  'Rice',\n",
       "  'Salmon',\n",
       "  'Shampoo',\n",
       "  'Shaving Cream',\n",
       "  'Shower Gel',\n",
       "  'Shrimp',\n",
       "  'Soap',\n",
       "  'Soda',\n",
       "  'Spinach',\n",
       "  'Sponges',\n",
       "  'Syrup',\n",
       "  'Tea',\n",
       "  'Tissues',\n",
       "  'Toilet Paper',\n",
       "  'Tomatoes',\n",
       "  'Toothbrush',\n",
       "  'Toothpaste',\n",
       "  'Trash Bags',\n",
       "  'Trash Cans',\n",
       "  'Tuna',\n",
       "  'Vacuum Cleaner',\n",
       "  'Vinegar',\n",
       "  'Water',\n",
       "  'Yogurt'})"
      ]
     },
     "execution_count": 20,
     "metadata": {},
     "output_type": "execute_result"
    }
   ],
   "source": [
    "from itertools import chain\n",
    "\n",
    "unique_products = set(chain.from_iterable(df['Product']))\n",
    "len(unique_products), unique_products"
   ]
  },
  {
   "cell_type": "code",
   "execution_count": 21,
   "id": "6c72c96b",
   "metadata": {
    "execution": {
     "iopub.execute_input": "2025-10-24T13:47:25.007027Z",
     "iopub.status.busy": "2025-10-24T13:47:25.006709Z",
     "iopub.status.idle": "2025-10-24T13:47:26.460278Z",
     "shell.execute_reply": "2025-10-24T13:47:26.458967Z"
    },
    "papermill": {
     "duration": 1.468594,
     "end_time": "2025-10-24T13:47:26.464191",
     "exception": false,
     "start_time": "2025-10-24T13:47:24.995597",
     "status": "completed"
    },
    "tags": []
   },
   "outputs": [
    {
     "name": "stderr",
     "output_type": "stream",
     "text": [
      "/usr/local/lib/python3.11/dist-packages/seaborn/_oldcore.py:1498: DeprecationWarning: is_categorical_dtype is deprecated and will be removed in a future version. Use isinstance(dtype, pd.CategoricalDtype) instead\n",
      "  if pd.api.types.is_categorical_dtype(vector):\n",
      "/usr/local/lib/python3.11/dist-packages/seaborn/_oldcore.py:1498: DeprecationWarning: is_categorical_dtype is deprecated and will be removed in a future version. Use isinstance(dtype, pd.CategoricalDtype) instead\n",
      "  if pd.api.types.is_categorical_dtype(vector):\n",
      "/usr/local/lib/python3.11/dist-packages/seaborn/_oldcore.py:1765: FutureWarning: unique with argument that is not not a Series, Index, ExtensionArray, or np.ndarray is deprecated and will raise in a future version.\n",
      "  order = pd.unique(vector)\n",
      "/usr/local/lib/python3.11/dist-packages/seaborn/_oldcore.py:1498: DeprecationWarning: is_categorical_dtype is deprecated and will be removed in a future version. Use isinstance(dtype, pd.CategoricalDtype) instead\n",
      "  if pd.api.types.is_categorical_dtype(vector):\n"
     ]
    },
    {
     "data": {
      "image/png": "[encoded data removed]",
      "text/plain": [
       "<Figure size 1500x800 with 1 Axes>"
      ]
     },
     "metadata": {},
     "output_type": "display_data"
    }
   ],
   "source": [
    "from collections import Counter\n",
    "\n",
    "\n",
    "all_products = list(chain.from_iterable(df['Product']))\n",
    "\n",
    "product_counts = Counter(all_products)\n",
    "\n",
    "top_products = product_counts.most_common(81)\n",
    "products, counts = zip(*top_products)\n",
    "\n",
    "plt.figure(figsize=(15, 8))\n",
    "sns.barplot(x=list(products), y=list(counts), palette=\"viridis\")\n",
    "plt.xticks(rotation=45, ha='right')\n",
    "plt.title('Топ-10 самых популярных товаров')\n",
    "plt.xlabel('Товар')\n",
    "plt.ylabel('Количество')\n",
    "plt.show()"
   ]
  },
  {
   "cell_type": "code",
   "execution_count": 22,
   "id": "b718242f",
   "metadata": {
    "execution": {
     "iopub.execute_input": "2025-10-24T13:47:26.494849Z",
     "iopub.status.busy": "2025-10-24T13:47:26.493403Z",
     "iopub.status.idle": "2025-10-24T13:47:26.512208Z",
     "shell.execute_reply": "2025-10-24T13:47:26.510676Z"
    },
    "papermill": {
     "duration": 0.03629,
     "end_time": "2025-10-24T13:47:26.514086",
     "exception": false,
     "start_time": "2025-10-24T13:47:26.477796",
     "status": "completed"
    },
    "tags": []
   },
   "outputs": [
    {
     "data": {
      "text/html": [
       "<div>\n",
       "<style scoped>\n",
       "    .dataframe tbody tr th:only-of-type {\n",
       "        vertical-align: middle;\n",
       "    }\n",
       "\n",
       "    .dataframe tbody tr th {\n",
       "        vertical-align: top;\n",
       "    }\n",
       "\n",
       "    .dataframe thead th {\n",
       "        text-align: right;\n",
       "    }\n",
       "</style>\n",
       "<table border=\"1\" class=\"dataframe\">\n",
       "  <thead>\n",
       "    <tr style=\"text-align: right;\">\n",
       "      <th></th>\n",
       "      <th>Transaction_ID</th>\n",
       "      <th>Date</th>\n",
       "      <th>Customer_Name</th>\n",
       "      <th>Product</th>\n",
       "      <th>Total_Items</th>\n",
       "      <th>Total_Cost</th>\n",
       "      <th>Payment_Method</th>\n",
       "      <th>City</th>\n",
       "      <th>Store_Type</th>\n",
       "      <th>Discount_Applied</th>\n",
       "      <th>Customer_Category</th>\n",
       "      <th>Season</th>\n",
       "      <th>Promotion</th>\n",
       "    </tr>\n",
       "  </thead>\n",
       "  <tbody>\n",
       "    <tr>\n",
       "      <th>0</th>\n",
       "      <td>1000000000</td>\n",
       "      <td>2022-01-21 06:27:29</td>\n",
       "      <td>Stacey Price</td>\n",
       "      <td>[Ketchup, Shaving Cream, Light Bulbs]</td>\n",
       "      <td>3</td>\n",
       "      <td>71.65</td>\n",
       "      <td>Mobile Payment</td>\n",
       "      <td>Los Angeles</td>\n",
       "      <td>Warehouse Club</td>\n",
       "      <td>True</td>\n",
       "      <td>Homemaker</td>\n",
       "      <td>Winter</td>\n",
       "      <td>NaN</td>\n",
       "    </tr>\n",
       "    <tr>\n",
       "      <th>1</th>\n",
       "      <td>1000000001</td>\n",
       "      <td>2023-03-01 13:01:21</td>\n",
       "      <td>Michelle Carlson</td>\n",
       "      <td>[Ice Cream, Milk, Olive Oil, Bread, Potatoes]</td>\n",
       "      <td>2</td>\n",
       "      <td>25.93</td>\n",
       "      <td>Cash</td>\n",
       "      <td>San Francisco</td>\n",
       "      <td>Specialty Store</td>\n",
       "      <td>True</td>\n",
       "      <td>Professional</td>\n",
       "      <td>Fall</td>\n",
       "      <td>BOGO (Buy One Get One)</td>\n",
       "    </tr>\n",
       "    <tr>\n",
       "      <th>2</th>\n",
       "      <td>1000000002</td>\n",
       "      <td>2024-03-21 15:37:04</td>\n",
       "      <td>Lisa Graves</td>\n",
       "      <td>[Spinach]</td>\n",
       "      <td>6</td>\n",
       "      <td>41.49</td>\n",
       "      <td>Credit Card</td>\n",
       "      <td>Houston</td>\n",
       "      <td>Department Store</td>\n",
       "      <td>True</td>\n",
       "      <td>Professional</td>\n",
       "      <td>Winter</td>\n",
       "      <td>NaN</td>\n",
       "    </tr>\n",
       "    <tr>\n",
       "      <th>3</th>\n",
       "      <td>1000000003</td>\n",
       "      <td>2020-10-31 09:59:47</td>\n",
       "      <td>Mrs. Patricia May</td>\n",
       "      <td>[Tissues, Mustard]</td>\n",
       "      <td>1</td>\n",
       "      <td>39.34</td>\n",
       "      <td>Mobile Payment</td>\n",
       "      <td>Chicago</td>\n",
       "      <td>Pharmacy</td>\n",
       "      <td>True</td>\n",
       "      <td>Homemaker</td>\n",
       "      <td>Spring</td>\n",
       "      <td>NaN</td>\n",
       "    </tr>\n",
       "    <tr>\n",
       "      <th>4</th>\n",
       "      <td>1000000004</td>\n",
       "      <td>2020-12-10 00:59:59</td>\n",
       "      <td>Susan Mitchell</td>\n",
       "      <td>[Dish Soap]</td>\n",
       "      <td>10</td>\n",
       "      <td>16.42</td>\n",
       "      <td>Debit Card</td>\n",
       "      <td>Houston</td>\n",
       "      <td>Specialty Store</td>\n",
       "      <td>False</td>\n",
       "      <td>Young Adult</td>\n",
       "      <td>Winter</td>\n",
       "      <td>Discount on Selected Items</td>\n",
       "    </tr>\n",
       "  </tbody>\n",
       "</table>\n",
       "</div>"
      ],
      "text/plain": [
       "   Transaction_ID                 Date      Customer_Name  \\\n",
       "0      1000000000  2022-01-21 06:27:29       Stacey Price   \n",
       "1      1000000001  2023-03-01 13:01:21   Michelle Carlson   \n",
       "2      1000000002  2024-03-21 15:37:04        Lisa Graves   \n",
       "3      1000000003  2020-10-31 09:59:47  Mrs. Patricia May   \n",
       "4      1000000004  2020-12-10 00:59:59     Susan Mitchell   \n",
       "\n",
       "                                         Product  Total_Items  Total_Cost  \\\n",
       "0          [Ketchup, Shaving Cream, Light Bulbs]            3       71.65   \n",
       "1  [Ice Cream, Milk, Olive Oil, Bread, Potatoes]            2       25.93   \n",
       "2                                      [Spinach]            6       41.49   \n",
       "3                             [Tissues, Mustard]            1       39.34   \n",
       "4                                    [Dish Soap]           10       16.42   \n",
       "\n",
       "   Payment_Method           City        Store_Type  Discount_Applied  \\\n",
       "0  Mobile Payment    Los Angeles    Warehouse Club              True   \n",
       "1            Cash  San Francisco   Specialty Store              True   \n",
       "2     Credit Card        Houston  Department Store              True   \n",
       "3  Mobile Payment        Chicago          Pharmacy              True   \n",
       "4      Debit Card        Houston   Specialty Store             False   \n",
       "\n",
       "  Customer_Category  Season                   Promotion  \n",
       "0         Homemaker  Winter                         NaN  \n",
       "1      Professional    Fall      BOGO (Buy One Get One)  \n",
       "2      Professional  Winter                         NaN  \n",
       "3         Homemaker  Spring                         NaN  \n",
       "4       Young Adult  Winter  Discount on Selected Items  "
      ]
     },
     "execution_count": 22,
     "metadata": {},
     "output_type": "execute_result"
    }
   ],
   "source": [
    "df.head()"
   ]
  },
  {
   "cell_type": "markdown",
   "id": "b26af160",
   "metadata": {
    "papermill": {
     "duration": 0.012094,
     "end_time": "2025-10-24T13:47:26.538692",
     "exception": false,
     "start_time": "2025-10-24T13:47:26.526598",
     "status": "completed"
    },
    "tags": []
   },
   "source": [
    "# Dataset prep"
   ]
  },
  {
   "cell_type": "code",
   "execution_count": 23,
   "id": "72b2e91b",
   "metadata": {
    "execution": {
     "iopub.execute_input": "2025-10-24T13:47:26.564899Z",
     "iopub.status.busy": "2025-10-24T13:47:26.564554Z",
     "iopub.status.idle": "2025-10-24T13:47:26.605081Z",
     "shell.execute_reply": "2025-10-24T13:47:26.603874Z"
    },
    "papermill": {
     "duration": 0.056527,
     "end_time": "2025-10-24T13:47:26.607375",
     "exception": false,
     "start_time": "2025-10-24T13:47:26.550848",
     "status": "completed"
    },
    "tags": []
   },
   "outputs": [],
   "source": [
    "transactions = df['Product'].tolist()"
   ]
  },
  {
   "cell_type": "code",
   "execution_count": 24,
   "id": "739df0c7",
   "metadata": {
    "execution": {
     "iopub.execute_input": "2025-10-24T13:47:26.635684Z",
     "iopub.status.busy": "2025-10-24T13:47:26.635049Z",
     "iopub.status.idle": "2025-10-24T13:47:26.640673Z",
     "shell.execute_reply": "2025-10-24T13:47:26.639329Z"
    },
    "papermill": {
     "duration": 0.021703,
     "end_time": "2025-10-24T13:47:26.642944",
     "exception": false,
     "start_time": "2025-10-24T13:47:26.621241",
     "status": "completed"
    },
    "tags": []
   },
   "outputs": [],
   "source": [
    "te = TransactionEncoder()"
   ]
  },
  {
   "cell_type": "code",
   "execution_count": 25,
   "id": "2c6e35d1",
   "metadata": {
    "execution": {
     "iopub.execute_input": "2025-10-24T13:47:26.670518Z",
     "iopub.status.busy": "2025-10-24T13:47:26.669723Z",
     "iopub.status.idle": "2025-10-24T13:47:27.729719Z",
     "shell.execute_reply": "2025-10-24T13:47:27.728291Z"
    },
    "papermill": {
     "duration": 1.07631,
     "end_time": "2025-10-24T13:47:27.731930",
     "exception": false,
     "start_time": "2025-10-24T13:47:26.655620",
     "status": "completed"
    },
    "tags": []
   },
   "outputs": [],
   "source": [
    "te_ary = te.fit(transactions).transform(transactions)"
   ]
  },
  {
   "cell_type": "code",
   "execution_count": 26,
   "id": "8b66a91e",
   "metadata": {
    "execution": {
     "iopub.execute_input": "2025-10-24T13:47:27.764510Z",
     "iopub.status.busy": "2025-10-24T13:47:27.763146Z",
     "iopub.status.idle": "2025-10-24T13:47:27.769986Z",
     "shell.execute_reply": "2025-10-24T13:47:27.768648Z"
    },
    "papermill": {
     "duration": 0.025529,
     "end_time": "2025-10-24T13:47:27.772442",
     "exception": false,
     "start_time": "2025-10-24T13:47:27.746913",
     "status": "completed"
    },
    "tags": []
   },
   "outputs": [],
   "source": [
    "basket_df = pd.DataFrame(te_ary, columns=te.columns_)"
   ]
  },
  {
   "cell_type": "code",
   "execution_count": 27,
   "id": "cf798059",
   "metadata": {
    "execution": {
     "iopub.execute_input": "2025-10-24T13:47:27.802006Z",
     "iopub.status.busy": "2025-10-24T13:47:27.801684Z",
     "iopub.status.idle": "2025-10-24T13:47:27.822258Z",
     "shell.execute_reply": "2025-10-24T13:47:27.821160Z"
    },
    "papermill": {
     "duration": 0.038367,
     "end_time": "2025-10-24T13:47:27.825098",
     "exception": false,
     "start_time": "2025-10-24T13:47:27.786731",
     "status": "completed"
    },
    "tags": []
   },
   "outputs": [
    {
     "data": {
      "text/html": [
       "<div>\n",
       "<style scoped>\n",
       "    .dataframe tbody tr th:only-of-type {\n",
       "        vertical-align: middle;\n",
       "    }\n",
       "\n",
       "    .dataframe tbody tr th {\n",
       "        vertical-align: top;\n",
       "    }\n",
       "\n",
       "    .dataframe thead th {\n",
       "        text-align: right;\n",
       "    }\n",
       "</style>\n",
       "<table border=\"1\" class=\"dataframe\">\n",
       "  <thead>\n",
       "    <tr style=\"text-align: right;\">\n",
       "      <th></th>\n",
       "      <th>Air Freshener</th>\n",
       "      <th>Apple</th>\n",
       "      <th>BBQ Sauce</th>\n",
       "      <th>Baby Wipes</th>\n",
       "      <th>Banana</th>\n",
       "      <th>Bath Towels</th>\n",
       "      <th>Beef</th>\n",
       "      <th>Bread</th>\n",
       "      <th>Broom</th>\n",
       "      <th>Butter</th>\n",
       "      <th>...</th>\n",
       "      <th>Tomatoes</th>\n",
       "      <th>Toothbrush</th>\n",
       "      <th>Toothpaste</th>\n",
       "      <th>Trash Bags</th>\n",
       "      <th>Trash Cans</th>\n",
       "      <th>Tuna</th>\n",
       "      <th>Vacuum Cleaner</th>\n",
       "      <th>Vinegar</th>\n",
       "      <th>Water</th>\n",
       "      <th>Yogurt</th>\n",
       "    </tr>\n",
       "  </thead>\n",
       "  <tbody>\n",
       "    <tr>\n",
       "      <th>0</th>\n",
       "      <td>False</td>\n",
       "      <td>False</td>\n",
       "      <td>False</td>\n",
       "      <td>False</td>\n",
       "      <td>False</td>\n",
       "      <td>False</td>\n",
       "      <td>False</td>\n",
       "      <td>False</td>\n",
       "      <td>False</td>\n",
       "      <td>False</td>\n",
       "      <td>...</td>\n",
       "      <td>False</td>\n",
       "      <td>False</td>\n",
       "      <td>False</td>\n",
       "      <td>False</td>\n",
       "      <td>False</td>\n",
       "      <td>False</td>\n",
       "      <td>False</td>\n",
       "      <td>False</td>\n",
       "      <td>False</td>\n",
       "      <td>False</td>\n",
       "    </tr>\n",
       "    <tr>\n",
       "      <th>1</th>\n",
       "      <td>False</td>\n",
       "      <td>False</td>\n",
       "      <td>False</td>\n",
       "      <td>False</td>\n",
       "      <td>False</td>\n",
       "      <td>False</td>\n",
       "      <td>False</td>\n",
       "      <td>True</td>\n",
       "      <td>False</td>\n",
       "      <td>False</td>\n",
       "      <td>...</td>\n",
       "      <td>False</td>\n",
       "      <td>False</td>\n",
       "      <td>False</td>\n",
       "      <td>False</td>\n",
       "      <td>False</td>\n",
       "      <td>False</td>\n",
       "      <td>False</td>\n",
       "      <td>False</td>\n",
       "      <td>False</td>\n",
       "      <td>False</td>\n",
       "    </tr>\n",
       "    <tr>\n",
       "      <th>2</th>\n",
       "      <td>False</td>\n",
       "      <td>False</td>\n",
       "      <td>False</td>\n",
       "      <td>False</td>\n",
       "      <td>False</td>\n",
       "      <td>False</td>\n",
       "      <td>False</td>\n",
       "      <td>False</td>\n",
       "      <td>False</td>\n",
       "      <td>False</td>\n",
       "      <td>...</td>\n",
       "      <td>False</td>\n",
       "      <td>False</td>\n",
       "      <td>False</td>\n",
       "      <td>False</td>\n",
       "      <td>False</td>\n",
       "      <td>False</td>\n",
       "      <td>False</td>\n",
       "      <td>False</td>\n",
       "      <td>False</td>\n",
       "      <td>False</td>\n",
       "    </tr>\n",
       "    <tr>\n",
       "      <th>3</th>\n",
       "      <td>False</td>\n",
       "      <td>False</td>\n",
       "      <td>False</td>\n",
       "      <td>False</td>\n",
       "      <td>False</td>\n",
       "      <td>False</td>\n",
       "      <td>False</td>\n",
       "      <td>False</td>\n",
       "      <td>False</td>\n",
       "      <td>False</td>\n",
       "      <td>...</td>\n",
       "      <td>False</td>\n",
       "      <td>False</td>\n",
       "      <td>False</td>\n",
       "      <td>False</td>\n",
       "      <td>False</td>\n",
       "      <td>False</td>\n",
       "      <td>False</td>\n",
       "      <td>False</td>\n",
       "      <td>False</td>\n",
       "      <td>False</td>\n",
       "    </tr>\n",
       "    <tr>\n",
       "      <th>4</th>\n",
       "      <td>False</td>\n",
       "      <td>False</td>\n",
       "      <td>False</td>\n",
       "      <td>False</td>\n",
       "      <td>False</td>\n",
       "      <td>False</td>\n",
       "      <td>False</td>\n",
       "      <td>False</td>\n",
       "      <td>False</td>\n",
       "      <td>False</td>\n",
       "      <td>...</td>\n",
       "      <td>False</td>\n",
       "      <td>False</td>\n",
       "      <td>False</td>\n",
       "      <td>False</td>\n",
       "      <td>False</td>\n",
       "      <td>False</td>\n",
       "      <td>False</td>\n",
       "      <td>False</td>\n",
       "      <td>False</td>\n",
       "      <td>False</td>\n",
       "    </tr>\n",
       "  </tbody>\n",
       "</table>\n",
       "<p>5 rows × 81 columns</p>\n",
       "</div>"
      ],
      "text/plain": [
       "   Air Freshener  Apple  BBQ Sauce  Baby Wipes  Banana  Bath Towels   Beef  \\\n",
       "0          False  False      False       False   False        False  False   \n",
       "1          False  False      False       False   False        False  False   \n",
       "2          False  False      False       False   False        False  False   \n",
       "3          False  False      False       False   False        False  False   \n",
       "4          False  False      False       False   False        False  False   \n",
       "\n",
       "   Bread  Broom  Butter  ...  Tomatoes  Toothbrush  Toothpaste  Trash Bags  \\\n",
       "0  False  False   False  ...     False       False       False       False   \n",
       "1   True  False   False  ...     False       False       False       False   \n",
       "2  False  False   False  ...     False       False       False       False   \n",
       "3  False  False   False  ...     False       False       False       False   \n",
       "4  False  False   False  ...     False       False       False       False   \n",
       "\n",
       "   Trash Cans   Tuna  Vacuum Cleaner  Vinegar  Water  Yogurt  \n",
       "0       False  False           False    False  False   False  \n",
       "1       False  False           False    False  False   False  \n",
       "2       False  False           False    False  False   False  \n",
       "3       False  False           False    False  False   False  \n",
       "4       False  False           False    False  False   False  \n",
       "\n",
       "[5 rows x 81 columns]"
      ]
     },
     "execution_count": 27,
     "metadata": {},
     "output_type": "execute_result"
    }
   ],
   "source": [
    "basket_df.head()"
   ]
  },
  {
   "cell_type": "code",
   "execution_count": 28,
   "id": "1dfec170",
   "metadata": {
    "execution": {
     "iopub.execute_input": "2025-10-24T13:47:27.855589Z",
     "iopub.status.busy": "2025-10-24T13:47:27.854211Z",
     "iopub.status.idle": "2025-10-24T13:47:28.126504Z",
     "shell.execute_reply": "2025-10-24T13:47:28.124432Z"
    },
    "papermill": {
     "duration": 0.288641,
     "end_time": "2025-10-24T13:47:28.129360",
     "exception": false,
     "start_time": "2025-10-24T13:47:27.840719",
     "status": "completed"
    },
    "tags": []
   },
   "outputs": [
    {
     "name": "stdout",
     "output_type": "stream",
     "text": [
      "<class 'pandas.core.frame.DataFrame'>\n",
      "RangeIndex: 1000000 entries, 0 to 999999\n",
      "Data columns (total 81 columns):\n",
      " #   Column                     Non-Null Count    Dtype\n",
      "---  ------                     --------------    -----\n",
      " 0   Air Freshener              1000000 non-null  bool \n",
      " 1   Apple                      1000000 non-null  bool \n",
      " 2   BBQ Sauce                  1000000 non-null  bool \n",
      " 3   Baby Wipes                 1000000 non-null  bool \n",
      " 4   Banana                     1000000 non-null  bool \n",
      " 5   Bath Towels                1000000 non-null  bool \n",
      " 6   Beef                       1000000 non-null  bool \n",
      " 7   Bread                      1000000 non-null  bool \n",
      " 8   Broom                      1000000 non-null  bool \n",
      " 9   Butter                     1000000 non-null  bool \n",
      " 10  Canned Soup                1000000 non-null  bool \n",
      " 11  Carrots                    1000000 non-null  bool \n",
      " 12  Cereal                     1000000 non-null  bool \n",
      " 13  Cereal Bars                1000000 non-null  bool \n",
      " 14  Cheese                     1000000 non-null  bool \n",
      " 15  Chicken                    1000000 non-null  bool \n",
      " 16  Chips                      1000000 non-null  bool \n",
      " 17  Cleaning Rags              1000000 non-null  bool \n",
      " 18  Cleaning Spray             1000000 non-null  bool \n",
      " 19  Coffee                     1000000 non-null  bool \n",
      " 20  Deodorant                  1000000 non-null  bool \n",
      " 21  Diapers                    1000000 non-null  bool \n",
      " 22  Dish Soap                  1000000 non-null  bool \n",
      " 23  Dishware                   1000000 non-null  bool \n",
      " 24  Dustpan                    1000000 non-null  bool \n",
      " 25  Eggs                       1000000 non-null  bool \n",
      " 26  Extension Cords            1000000 non-null  bool \n",
      " 27  Feminine Hygiene Products  1000000 non-null  bool \n",
      " 28  Garden Hose                1000000 non-null  bool \n",
      " 29  Hair Gel                   1000000 non-null  bool \n",
      " 30  Hand Sanitizer             1000000 non-null  bool \n",
      " 31  Honey                      1000000 non-null  bool \n",
      " 32  Ice Cream                  1000000 non-null  bool \n",
      " 33  Insect Repellent           1000000 non-null  bool \n",
      " 34  Iron                       1000000 non-null  bool \n",
      " 35  Ironing Board              1000000 non-null  bool \n",
      " 36  Jam                        1000000 non-null  bool \n",
      " 37  Ketchup                    1000000 non-null  bool \n",
      " 38  Laundry Detergent          1000000 non-null  bool \n",
      " 39  Lawn Mower                 1000000 non-null  bool \n",
      " 40  Light Bulbs                1000000 non-null  bool \n",
      " 41  Mayonnaise                 1000000 non-null  bool \n",
      " 42  Milk                       1000000 non-null  bool \n",
      " 43  Mop                        1000000 non-null  bool \n",
      " 44  Mustard                    1000000 non-null  bool \n",
      " 45  Olive Oil                  1000000 non-null  bool \n",
      " 46  Onions                     1000000 non-null  bool \n",
      " 47  Orange                     1000000 non-null  bool \n",
      " 48  Pancake Mix                1000000 non-null  bool \n",
      " 49  Paper Towels               1000000 non-null  bool \n",
      " 50  Pasta                      1000000 non-null  bool \n",
      " 51  Peanut Butter              1000000 non-null  bool \n",
      " 52  Pickles                    1000000 non-null  bool \n",
      " 53  Plant Fertilizer           1000000 non-null  bool \n",
      " 54  Potatoes                   1000000 non-null  bool \n",
      " 55  Power Strips               1000000 non-null  bool \n",
      " 56  Razors                     1000000 non-null  bool \n",
      " 57  Rice                       1000000 non-null  bool \n",
      " 58  Salmon                     1000000 non-null  bool \n",
      " 59  Shampoo                    1000000 non-null  bool \n",
      " 60  Shaving Cream              1000000 non-null  bool \n",
      " 61  Shower Gel                 1000000 non-null  bool \n",
      " 62  Shrimp                     1000000 non-null  bool \n",
      " 63  Soap                       1000000 non-null  bool \n",
      " 64  Soda                       1000000 non-null  bool \n",
      " 65  Spinach                    1000000 non-null  bool \n",
      " 66  Sponges                    1000000 non-null  bool \n",
      " 67  Syrup                      1000000 non-null  bool \n",
      " 68  Tea                        1000000 non-null  bool \n",
      " 69  Tissues                    1000000 non-null  bool \n",
      " 70  Toilet Paper               1000000 non-null  bool \n",
      " 71  Tomatoes                   1000000 non-null  bool \n",
      " 72  Toothbrush                 1000000 non-null  bool \n",
      " 73  Toothpaste                 1000000 non-null  bool \n",
      " 74  Trash Bags                 1000000 non-null  bool \n",
      " 75  Trash Cans                 1000000 non-null  bool \n",
      " 76  Tuna                       1000000 non-null  bool \n",
      " 77  Vacuum Cleaner             1000000 non-null  bool \n",
      " 78  Vinegar                    1000000 non-null  bool \n",
      " 79  Water                      1000000 non-null  bool \n",
      " 80  Yogurt                     1000000 non-null  bool \n",
      "dtypes: bool(81)\n",
      "memory usage: 77.2 MB\n"
     ]
    }
   ],
   "source": [
    "basket_df.info()"
   ]
  },
  {
   "cell_type": "markdown",
   "id": "90c762f9",
   "metadata": {
    "papermill": {
     "duration": 0.014404,
     "end_time": "2025-10-24T13:47:28.157422",
     "exception": false,
     "start_time": "2025-10-24T13:47:28.143018",
     "status": "completed"
    },
    "tags": []
   },
   "source": [
    "# Association Rules"
   ]
  },
  {
   "cell_type": "code",
   "execution_count": 29,
   "id": "2851c6cb",
   "metadata": {
    "execution": {
     "iopub.execute_input": "2025-10-24T13:47:28.187910Z",
     "iopub.status.busy": "2025-10-24T13:47:28.187570Z",
     "iopub.status.idle": "2025-10-24T13:48:21.947903Z",
     "shell.execute_reply": "2025-10-24T13:48:21.946827Z"
    },
    "papermill": {
     "duration": 53.791529,
     "end_time": "2025-10-24T13:48:21.963318",
     "exception": false,
     "start_time": "2025-10-24T13:47:28.171789",
     "status": "completed"
    },
    "tags": []
   },
   "outputs": [
    {
     "name": "stdout",
     "output_type": "stream",
     "text": [
      "Processing 6480 combinations | Sampling itemset size 2\n"
     ]
    }
   ],
   "source": [
    "freq_items = apriori(basket_df, min_support=0.01, use_colnames=True, verbose=1)"
   ]
  },
  {
   "cell_type": "code",
   "execution_count": 30,
   "id": "748b6c80",
   "metadata": {
    "execution": {
     "iopub.execute_input": "2025-10-24T13:48:21.991084Z",
     "iopub.status.busy": "2025-10-24T13:48:21.990767Z",
     "iopub.status.idle": "2025-10-24T13:48:22.006591Z",
     "shell.execute_reply": "2025-10-24T13:48:22.005423Z"
    },
    "papermill": {
     "duration": 0.032395,
     "end_time": "2025-10-24T13:48:22.008628",
     "exception": false,
     "start_time": "2025-10-24T13:48:21.976233",
     "status": "completed"
    },
    "tags": []
   },
   "outputs": [
    {
     "data": {
      "text/html": [
       "<div>\n",
       "<style scoped>\n",
       "    .dataframe tbody tr th:only-of-type {\n",
       "        vertical-align: middle;\n",
       "    }\n",
       "\n",
       "    .dataframe tbody tr th {\n",
       "        vertical-align: top;\n",
       "    }\n",
       "\n",
       "    .dataframe thead th {\n",
       "        text-align: right;\n",
       "    }\n",
       "</style>\n",
       "<table border=\"1\" class=\"dataframe\">\n",
       "  <thead>\n",
       "    <tr style=\"text-align: right;\">\n",
       "      <th></th>\n",
       "      <th>support</th>\n",
       "      <th>itemsets</th>\n",
       "    </tr>\n",
       "  </thead>\n",
       "  <tbody>\n",
       "    <tr>\n",
       "      <th>0</th>\n",
       "      <td>0.036266</td>\n",
       "      <td>(Air Freshener)</td>\n",
       "    </tr>\n",
       "    <tr>\n",
       "      <th>1</th>\n",
       "      <td>0.035748</td>\n",
       "      <td>(Apple)</td>\n",
       "    </tr>\n",
       "    <tr>\n",
       "      <th>2</th>\n",
       "      <td>0.036046</td>\n",
       "      <td>(BBQ Sauce)</td>\n",
       "    </tr>\n",
       "    <tr>\n",
       "      <th>3</th>\n",
       "      <td>0.036196</td>\n",
       "      <td>(Baby Wipes)</td>\n",
       "    </tr>\n",
       "    <tr>\n",
       "      <th>4</th>\n",
       "      <td>0.036224</td>\n",
       "      <td>(Banana)</td>\n",
       "    </tr>\n",
       "    <tr>\n",
       "      <th>...</th>\n",
       "      <td>...</td>\n",
       "      <td>...</td>\n",
       "    </tr>\n",
       "    <tr>\n",
       "      <th>76</th>\n",
       "      <td>0.035950</td>\n",
       "      <td>(Tuna)</td>\n",
       "    </tr>\n",
       "    <tr>\n",
       "      <th>77</th>\n",
       "      <td>0.035973</td>\n",
       "      <td>(Vacuum Cleaner)</td>\n",
       "    </tr>\n",
       "    <tr>\n",
       "      <th>78</th>\n",
       "      <td>0.035817</td>\n",
       "      <td>(Vinegar)</td>\n",
       "    </tr>\n",
       "    <tr>\n",
       "      <th>79</th>\n",
       "      <td>0.035665</td>\n",
       "      <td>(Water)</td>\n",
       "    </tr>\n",
       "    <tr>\n",
       "      <th>80</th>\n",
       "      <td>0.036155</td>\n",
       "      <td>(Yogurt)</td>\n",
       "    </tr>\n",
       "  </tbody>\n",
       "</table>\n",
       "<p>81 rows × 2 columns</p>\n",
       "</div>"
      ],
      "text/plain": [
       "     support          itemsets\n",
       "0   0.036266   (Air Freshener)\n",
       "1   0.035748           (Apple)\n",
       "2   0.036046       (BBQ Sauce)\n",
       "3   0.036196      (Baby Wipes)\n",
       "4   0.036224          (Banana)\n",
       "..       ...               ...\n",
       "76  0.035950            (Tuna)\n",
       "77  0.035973  (Vacuum Cleaner)\n",
       "78  0.035817         (Vinegar)\n",
       "79  0.035665           (Water)\n",
       "80  0.036155          (Yogurt)\n",
       "\n",
       "[81 rows x 2 columns]"
      ]
     },
     "execution_count": 30,
     "metadata": {},
     "output_type": "execute_result"
    }
   ],
   "source": [
    "freq_items"
   ]
  }
 ],
 "metadata": {
  "kaggle": {
   "accelerator": "none",
   "dataSources": [
    {
     "datasetId": 3937938,
     "sourceId": 8450718,
     "sourceType": "datasetVersion"
    }
   ],
   "dockerImageVersionId": 31153,
   "isGpuEnabled": false,
   "isInternetEnabled": true,
   "language": "python",
   "sourceType": "notebook"
  },
  "kernelspec": {
   "display_name": "Python 3",
   "language": "python",
   "name": "python3"
  },
  "language_info": {
   "codemirror_mode": {
    "name": "ipython",
    "version": 3
   },
   "file_extension": ".py",
   "mimetype": "text/x-python",
   "name": "python",
   "nbconvert_exporter": "python",
   "pygments_lexer": "ipython3",
   "version": "3.11.13"
  },
  "papermill": {
   "default_parameters": {},
   "duration": 98.514506,
   "end_time": "2025-10-24T13:48:23.650941",
   "environment_variables": {},
   "exception": null,
   "input_path": "__notebook__.ipynb",
   "output_path": "__notebook__.ipynb",
   "parameters": {},
   "start_time": "2025-10-24T13:46:45.136435",
   "version": "2.6.0"
  }
 },
 "nbformat": 4,
 "nbformat_minor": 5
}
