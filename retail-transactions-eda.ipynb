{
 "cells": [
  {
   "cell_type": "code",
   "execution_count": 1,
   "id": "274ac810",
   "metadata": {
    "_cell_guid": "b1076dfc-b9ad-4769-8c92-a6c4dae69d19",
    "_uuid": "8f2839f25d086af736a60e9eeb907d3b93b6e0e5",
    "execution": {
     "iopub.execute_input": "2025-10-22T16:00:52.953309Z",
     "iopub.status.busy": "2025-10-22T16:00:52.952891Z",
     "iopub.status.idle": "2025-10-22T16:00:54.933507Z",
     "shell.execute_reply": "2025-10-22T16:00:54.932169Z"
    },
    "papermill": {
     "duration": 1.990788,
     "end_time": "2025-10-22T16:00:54.935237",
     "exception": false,
     "start_time": "2025-10-22T16:00:52.944449",
     "status": "completed"
    },
    "tags": []
   },
   "outputs": [
    {
     "name": "stdout",
     "output_type": "stream",
     "text": [
      "/kaggle/input/retail-transaction-dataset/products.csv\n"
     ]
    }
   ],
   "source": [
    "# This Python 3 environment comes with many helpful analytics libraries installed\n",
    "# It is defined by the kaggle/python Docker image: https://github.com/kaggle/docker-python\n",
    "# For example, here's several helpful packages to load\n",
    "\n",
    "import numpy as np # linear algebra\n",
    "import pandas as pd # data processing, CSV file I/O (e.g. pd.read_csv)\n",
    "\n",
    "# Input data files are available in the read-only \"../input/\" directory\n",
    "# For example, running this (by clicking run or pressing Shift+Enter) will list all files under the input directory\n",
    "\n",
    "import os\n",
    "for dirname, _, filenames in os.walk('/kaggle/input'):\n",
    "    for filename in filenames:\n",
    "        print(os.path.join(dirname, filename))\n",
    "\n",
    "# You can write up to 20GB to the current directory (/kaggle/working/) that gets preserved as output when you create a version using \"Save & Run All\" \n",
    "# You can also write temporary files to /kaggle/temp/, but they won't be saved outside of the current session"
   ]
  },
  {
   "cell_type": "code",
   "execution_count": 2,
   "id": "15f2bdfc",
   "metadata": {
    "execution": {
     "iopub.execute_input": "2025-10-22T16:00:54.949033Z",
     "iopub.status.busy": "2025-10-22T16:00:54.948634Z",
     "iopub.status.idle": "2025-10-22T16:00:57.009169Z",
     "shell.execute_reply": "2025-10-22T16:00:57.007893Z"
    },
    "papermill": {
     "duration": 2.069674,
     "end_time": "2025-10-22T16:00:57.010969",
     "exception": false,
     "start_time": "2025-10-22T16:00:54.941295",
     "status": "completed"
    },
    "tags": []
   },
   "outputs": [],
   "source": [
    "import matplotlib.pyplot as plt\n",
    "import seaborn as sns\n",
    "from itertools import chain\n",
    "from mlxtend.preprocessing import TransactionEncoder\n"
   ]
  },
  {
   "cell_type": "markdown",
   "id": "62034736",
   "metadata": {
    "papermill": {
     "duration": 0.004829,
     "end_time": "2025-10-22T16:00:57.021322",
     "exception": false,
     "start_time": "2025-10-22T16:00:57.016493",
     "status": "completed"
    },
    "tags": []
   },
   "source": [
    "# Data loading, EDA & Data Preporasion"
   ]
  },
  {
   "cell_type": "code",
   "execution_count": 3,
   "id": "7526b130",
   "metadata": {
    "execution": {
     "iopub.execute_input": "2025-10-22T16:00:57.134080Z",
     "iopub.status.busy": "2025-10-22T16:00:57.034633Z",
     "iopub.status.idle": "2025-10-22T16:00:57.226566Z",
     "shell.execute_reply": "2025-10-22T16:00:57.225517Z"
    },
    "papermill": {
     "duration": 0.20121,
     "end_time": "2025-10-22T16:00:57.228258",
     "exception": false,
     "start_time": "2025-10-22T16:00:57.027048",
     "status": "completed"
    },
    "tags": []
   },
   "outputs": [],
   "source": [
    "df = pd.read_csv('/kaggle/input/retail-transaction-dataset/products.csv')"
   ]
  },
  {
   "cell_type": "code",
   "execution_count": 4,
   "id": "b195a7f8",
   "metadata": {
    "execution": {
     "iopub.execute_input": "2025-10-22T16:00:57.240944Z",
     "iopub.status.busy": "2025-10-22T16:00:57.240145Z",
     "iopub.status.idle": "2025-10-22T16:00:57.268863Z",
     "shell.execute_reply": "2025-10-22T16:00:57.267564Z"
    },
    "papermill": {
     "duration": 0.036802,
     "end_time": "2025-10-22T16:00:57.270591",
     "exception": false,
     "start_time": "2025-10-22T16:00:57.233789",
     "status": "completed"
    },
    "tags": []
   },
   "outputs": [
    {
     "data": {
      "text/html": [
       "<div>\n",
       "<style scoped>\n",
       "    .dataframe tbody tr th:only-of-type {\n",
       "        vertical-align: middle;\n",
       "    }\n",
       "\n",
       "    .dataframe tbody tr th {\n",
       "        vertical-align: top;\n",
       "    }\n",
       "\n",
       "    .dataframe thead th {\n",
       "        text-align: right;\n",
       "    }\n",
       "</style>\n",
       "<table border=\"1\" class=\"dataframe\">\n",
       "  <thead>\n",
       "    <tr style=\"text-align: right;\">\n",
       "      <th></th>\n",
       "      <th>TransactionID</th>\n",
       "      <th>CustomerID</th>\n",
       "      <th>Products</th>\n",
       "      <th>Timestamp</th>\n",
       "    </tr>\n",
       "  </thead>\n",
       "  <tbody>\n",
       "    <tr>\n",
       "      <th>0</th>\n",
       "      <td>1</td>\n",
       "      <td>C546</td>\n",
       "      <td>Dish Sponge, Flatbread with Meat, Chips, Orang...</td>\n",
       "      <td>2025-02-18</td>\n",
       "    </tr>\n",
       "    <tr>\n",
       "      <th>1</th>\n",
       "      <td>2</td>\n",
       "      <td>C385</td>\n",
       "      <td>Onion, Juice, Flatbread with Meat, Chicken</td>\n",
       "      <td>2025-04-26</td>\n",
       "    </tr>\n",
       "    <tr>\n",
       "      <th>2</th>\n",
       "      <td>3</td>\n",
       "      <td>C292</td>\n",
       "      <td>Egg, Flatbread with Meat, Banana, Pizza</td>\n",
       "      <td>2025-04-25</td>\n",
       "    </tr>\n",
       "    <tr>\n",
       "      <th>3</th>\n",
       "      <td>4</td>\n",
       "      <td>C863</td>\n",
       "      <td>Ice Cream, Soda, Orange, Potato, Cereal, Choco...</td>\n",
       "      <td>2025-01-14</td>\n",
       "    </tr>\n",
       "    <tr>\n",
       "      <th>4</th>\n",
       "      <td>5</td>\n",
       "      <td>C171</td>\n",
       "      <td>Ice Cream, Soap, Shampoo, Chicken, Banana, Bea...</td>\n",
       "      <td>2025-04-20</td>\n",
       "    </tr>\n",
       "  </tbody>\n",
       "</table>\n",
       "</div>"
      ],
      "text/plain": [
       "   TransactionID CustomerID  \\\n",
       "0              1       C546   \n",
       "1              2       C385   \n",
       "2              3       C292   \n",
       "3              4       C863   \n",
       "4              5       C171   \n",
       "\n",
       "                                            Products   Timestamp  \n",
       "0  Dish Sponge, Flatbread with Meat, Chips, Orang...  2025-02-18  \n",
       "1         Onion, Juice, Flatbread with Meat, Chicken  2025-04-26  \n",
       "2            Egg, Flatbread with Meat, Banana, Pizza  2025-04-25  \n",
       "3  Ice Cream, Soda, Orange, Potato, Cereal, Choco...  2025-01-14  \n",
       "4  Ice Cream, Soap, Shampoo, Chicken, Banana, Bea...  2025-04-20  "
      ]
     },
     "execution_count": 4,
     "metadata": {},
     "output_type": "execute_result"
    }
   ],
   "source": [
    "df.head()"
   ]
  },
  {
   "cell_type": "code",
   "execution_count": 5,
   "id": "65056c3d",
   "metadata": {
    "execution": {
     "iopub.execute_input": "2025-10-22T16:00:57.285343Z",
     "iopub.status.busy": "2025-10-22T16:00:57.284884Z",
     "iopub.status.idle": "2025-10-22T16:00:57.314555Z",
     "shell.execute_reply": "2025-10-22T16:00:57.313441Z"
    },
    "papermill": {
     "duration": 0.038946,
     "end_time": "2025-10-22T16:00:57.316108",
     "exception": false,
     "start_time": "2025-10-22T16:00:57.277162",
     "status": "completed"
    },
    "tags": []
   },
   "outputs": [
    {
     "name": "stdout",
     "output_type": "stream",
     "text": [
      "<class 'pandas.core.frame.DataFrame'>\n",
      "RangeIndex: 30000 entries, 0 to 29999\n",
      "Data columns (total 4 columns):\n",
      " #   Column         Non-Null Count  Dtype \n",
      "---  ------         --------------  ----- \n",
      " 0   TransactionID  30000 non-null  int64 \n",
      " 1   CustomerID     30000 non-null  object\n",
      " 2   Products       30000 non-null  object\n",
      " 3   Timestamp      30000 non-null  object\n",
      "dtypes: int64(1), object(3)\n",
      "memory usage: 937.6+ KB\n"
     ]
    }
   ],
   "source": [
    "df.info()"
   ]
  },
  {
   "cell_type": "code",
   "execution_count": 6,
   "id": "802bcee3",
   "metadata": {
    "execution": {
     "iopub.execute_input": "2025-10-22T16:00:57.328686Z",
     "iopub.status.busy": "2025-10-22T16:00:57.328358Z",
     "iopub.status.idle": "2025-10-22T16:00:57.349573Z",
     "shell.execute_reply": "2025-10-22T16:00:57.348541Z"
    },
    "papermill": {
     "duration": 0.029292,
     "end_time": "2025-10-22T16:00:57.351254",
     "exception": false,
     "start_time": "2025-10-22T16:00:57.321962",
     "status": "completed"
    },
    "tags": []
   },
   "outputs": [
    {
     "data": {
      "text/plain": [
       "0"
      ]
     },
     "execution_count": 6,
     "metadata": {},
     "output_type": "execute_result"
    }
   ],
   "source": [
    "df.duplicated().sum()"
   ]
  },
  {
   "cell_type": "code",
   "execution_count": 7,
   "id": "f0bf72aa",
   "metadata": {
    "execution": {
     "iopub.execute_input": "2025-10-22T16:00:57.364824Z",
     "iopub.status.busy": "2025-10-22T16:00:57.364489Z",
     "iopub.status.idle": "2025-10-22T16:00:57.385629Z",
     "shell.execute_reply": "2025-10-22T16:00:57.384624Z"
    },
    "papermill": {
     "duration": 0.030399,
     "end_time": "2025-10-22T16:00:57.387578",
     "exception": false,
     "start_time": "2025-10-22T16:00:57.357179",
     "status": "completed"
    },
    "tags": []
   },
   "outputs": [
    {
     "name": "stdout",
     "output_type": "stream",
     "text": [
      "30000\n",
      "1000\n",
      "29889\n",
      "120\n"
     ]
    }
   ],
   "source": [
    "for c in ['TransactionID', 'CustomerID', 'Products', 'Timestamp']:\n",
    "    print(df[c].nunique())"
   ]
  },
  {
   "cell_type": "markdown",
   "id": "d34d37b9",
   "metadata": {
    "papermill": {
     "duration": 0.005452,
     "end_time": "2025-10-22T16:00:57.398583",
     "exception": false,
     "start_time": "2025-10-22T16:00:57.393131",
     "status": "completed"
    },
    "tags": []
   },
   "source": [
    "* 30,000 unique transactions: no duplicates\n",
    "* 1,000 customers: an average of ~30 purchases per customer\n",
    "* 29,889 unique shopping carts: almost all different, high variability\n",
    "* 120 unique dates: the period covers approximately 4 months in 2025"
   ]
  },
  {
   "cell_type": "code",
   "execution_count": 8,
   "id": "05f4883a",
   "metadata": {
    "execution": {
     "iopub.execute_input": "2025-10-22T16:00:57.411599Z",
     "iopub.status.busy": "2025-10-22T16:00:57.411241Z",
     "iopub.status.idle": "2025-10-22T16:00:57.427078Z",
     "shell.execute_reply": "2025-10-22T16:00:57.426109Z"
    },
    "papermill": {
     "duration": 0.024676,
     "end_time": "2025-10-22T16:00:57.428688",
     "exception": false,
     "start_time": "2025-10-22T16:00:57.404012",
     "status": "completed"
    },
    "tags": []
   },
   "outputs": [
    {
     "data": {
      "text/plain": [
       "count    1000.000000\n",
       "mean       30.000000\n",
       "std         5.714775\n",
       "min        14.000000\n",
       "25%        26.000000\n",
       "50%        30.000000\n",
       "75%        33.000000\n",
       "max        52.000000\n",
       "Name: TransactionID, dtype: float64"
      ]
     },
     "execution_count": 8,
     "metadata": {},
     "output_type": "execute_result"
    }
   ],
   "source": [
    "df.groupby('CustomerID')['TransactionID'].count().describe()"
   ]
  },
  {
   "cell_type": "code",
   "execution_count": 9,
   "id": "9ea83e96",
   "metadata": {
    "execution": {
     "iopub.execute_input": "2025-10-22T16:00:57.441580Z",
     "iopub.status.busy": "2025-10-22T16:00:57.441273Z",
     "iopub.status.idle": "2025-10-22T16:00:57.872117Z",
     "shell.execute_reply": "2025-10-22T16:00:57.871077Z"
    },
    "papermill": {
     "duration": 0.439693,
     "end_time": "2025-10-22T16:00:57.874170",
     "exception": false,
     "start_time": "2025-10-22T16:00:57.434477",
     "status": "completed"
    },
    "tags": []
   },
   "outputs": [
    {
     "name": "stderr",
     "output_type": "stream",
     "text": [
      "/usr/local/lib/python3.11/dist-packages/seaborn/_oldcore.py:1119: FutureWarning: use_inf_as_na option is deprecated and will be removed in a future version. Convert inf values to NaN before operating instead.\n",
      "  with pd.option_context('mode.use_inf_as_na', True):\n"
     ]
    },
    {
     "data": {
      "image/png": "[encoded data removed]",
      "text/plain": [
       "<Figure size 640x480 with 1 Axes>"
      ]
     },
     "metadata": {},
     "output_type": "display_data"
    }
   ],
   "source": [
    "sns.histplot(df.groupby('CustomerID')['TransactionID'].count(), kde=True, bins=35, edgecolor='black')\n",
    "plt.title('Distribution of Transactions per Customer')\n",
    "plt.xlabel('Number of Transactions')\n",
    "plt.ylabel('Number of Customers')\n",
    "plt.show()"
   ]
  },
  {
   "cell_type": "code",
   "execution_count": 10,
   "id": "1ad51a44",
   "metadata": {
    "execution": {
     "iopub.execute_input": "2025-10-22T16:00:57.892481Z",
     "iopub.status.busy": "2025-10-22T16:00:57.892111Z",
     "iopub.status.idle": "2025-10-22T16:00:57.904568Z",
     "shell.execute_reply": "2025-10-22T16:00:57.903264Z"
    },
    "papermill": {
     "duration": 0.024519,
     "end_time": "2025-10-22T16:00:57.906423",
     "exception": false,
     "start_time": "2025-10-22T16:00:57.881904",
     "status": "completed"
    },
    "tags": []
   },
   "outputs": [
    {
     "data": {
      "text/plain": [
       "CustomerID\n",
       "C1       34\n",
       "C10      31\n",
       "C100     30\n",
       "C1000    31\n",
       "C101     42\n",
       "         ..\n",
       "C995     25\n",
       "C996     15\n",
       "C997     26\n",
       "C998     28\n",
       "C999     43\n",
       "Name: TransactionID, Length: 1000, dtype: int64"
      ]
     },
     "execution_count": 10,
     "metadata": {},
     "output_type": "execute_result"
    }
   ],
   "source": [
    "df.groupby('CustomerID')['TransactionID'].count()"
   ]
  },
  {
   "cell_type": "code",
   "execution_count": 11,
   "id": "493578c2",
   "metadata": {
    "execution": {
     "iopub.execute_input": "2025-10-22T16:00:57.922446Z",
     "iopub.status.busy": "2025-10-22T16:00:57.921950Z",
     "iopub.status.idle": "2025-10-22T16:00:57.939818Z",
     "shell.execute_reply": "2025-10-22T16:00:57.938101Z"
    },
    "papermill": {
     "duration": 0.028803,
     "end_time": "2025-10-22T16:00:57.941648",
     "exception": false,
     "start_time": "2025-10-22T16:00:57.912845",
     "status": "completed"
    },
    "tags": []
   },
   "outputs": [
    {
     "data": {
      "text/plain": [
       "TransactionID\n",
       "14     1\n",
       "15     1\n",
       "16     1\n",
       "17     2\n",
       "18     7\n",
       "19    12\n",
       "20    17\n",
       "21    22\n",
       "22    30\n",
       "23    29\n",
       "24    34\n",
       "25    49\n",
       "26    61\n",
       "27    79\n",
       "28    67\n",
       "29    74\n",
       "30    73\n",
       "31    71\n",
       "32    71\n",
       "33    52\n",
       "34    45\n",
       "35    41\n",
       "36    34\n",
       "37    30\n",
       "38    21\n",
       "39    16\n",
       "40    14\n",
       "41    12\n",
       "42    11\n",
       "43     7\n",
       "44     5\n",
       "45     1\n",
       "46     2\n",
       "47     4\n",
       "48     3\n",
       "52     1\n",
       "Name: count, dtype: int64"
      ]
     },
     "execution_count": 11,
     "metadata": {},
     "output_type": "execute_result"
    }
   ],
   "source": [
    "order_counts = df.groupby('CustomerID')['TransactionID'].count()\n",
    "order_counts.value_counts().sort_index()"
   ]
  },
  {
   "cell_type": "code",
   "execution_count": 12,
   "id": "0e9ba086",
   "metadata": {
    "execution": {
     "iopub.execute_input": "2025-10-22T16:00:57.960244Z",
     "iopub.status.busy": "2025-10-22T16:00:57.959825Z",
     "iopub.status.idle": "2025-10-22T16:00:57.971517Z",
     "shell.execute_reply": "2025-10-22T16:00:57.970294Z"
    },
    "papermill": {
     "duration": 0.023833,
     "end_time": "2025-10-22T16:00:57.973309",
     "exception": false,
     "start_time": "2025-10-22T16:00:57.949476",
     "status": "completed"
    },
    "tags": []
   },
   "outputs": [
    {
     "name": "stdout",
     "output_type": "stream",
     "text": [
      "2025-01-01\n",
      "2025-04-30\n"
     ]
    }
   ],
   "source": [
    "print(df['Timestamp'].min())\n",
    "print(df['Timestamp'].max())"
   ]
  },
  {
   "cell_type": "code",
   "execution_count": 13,
   "id": "71e234a2",
   "metadata": {
    "execution": {
     "iopub.execute_input": "2025-10-22T16:00:57.989746Z",
     "iopub.status.busy": "2025-10-22T16:00:57.989228Z",
     "iopub.status.idle": "2025-10-22T16:00:58.024711Z",
     "shell.execute_reply": "2025-10-22T16:00:58.023143Z"
    },
    "papermill": {
     "duration": 0.046095,
     "end_time": "2025-10-22T16:00:58.026951",
     "exception": false,
     "start_time": "2025-10-22T16:00:57.980856",
     "status": "completed"
    },
    "tags": []
   },
   "outputs": [
    {
     "data": {
      "text/plain": [
       "count    30000.000000\n",
       "mean         6.583633\n",
       "std          2.332464\n",
       "min          3.000000\n",
       "25%          5.000000\n",
       "50%          7.000000\n",
       "75%          9.000000\n",
       "max         11.000000\n",
       "Name: Products, dtype: float64"
      ]
     },
     "execution_count": 13,
     "metadata": {},
     "output_type": "execute_result"
    }
   ],
   "source": [
    "df['Products'].apply(lambda x: len(x.split(','))).describe()"
   ]
  },
  {
   "cell_type": "code",
   "execution_count": 14,
   "id": "f55db0d4",
   "metadata": {
    "execution": {
     "iopub.execute_input": "2025-10-22T16:00:58.045306Z",
     "iopub.status.busy": "2025-10-22T16:00:58.044291Z",
     "iopub.status.idle": "2025-10-22T16:00:58.056745Z",
     "shell.execute_reply": "2025-10-22T16:00:58.055794Z"
    },
    "papermill": {
     "duration": 0.021782,
     "end_time": "2025-10-22T16:00:58.058351",
     "exception": false,
     "start_time": "2025-10-22T16:00:58.036569",
     "status": "completed"
    },
    "tags": []
   },
   "outputs": [],
   "source": [
    "duplicated = df.Products[df['Products'].duplicated()]"
   ]
  },
  {
   "cell_type": "code",
   "execution_count": 15,
   "id": "94a41412",
   "metadata": {
    "execution": {
     "iopub.execute_input": "2025-10-22T16:00:58.073036Z",
     "iopub.status.busy": "2025-10-22T16:00:58.072756Z",
     "iopub.status.idle": "2025-10-22T16:00:58.081604Z",
     "shell.execute_reply": "2025-10-22T16:00:58.080553Z"
    },
    "papermill": {
     "duration": 0.018262,
     "end_time": "2025-10-22T16:00:58.083558",
     "exception": false,
     "start_time": "2025-10-22T16:00:58.065296",
     "status": "completed"
    },
    "tags": []
   },
   "outputs": [
    {
     "data": {
      "text/plain": [
       "856                         Fish, Juice, Lentil\n",
       "3496                   Milk, Juice, Dish Sponge\n",
       "3888                    Lentil, Pizza, Cucumber\n",
       "5330                     Pizza, Fish, Chickpeas\n",
       "6743                  Sausage, Honey, Ice Cream\n",
       "6804                         Cereal, Honey, Egg\n",
       "7663                        Lentil, Fish, Honey\n",
       "7965               Pizza, Cucumber, Honey, Soda\n",
       "8628                  Chickpeas, Bread, Cracker\n",
       "9441                 Beans, Soap, Water, Lentil\n",
       "9515           Soda, Dish Sponge, Potato, Water\n",
       "10225         Pizza, Flatbread with Meat, Onion\n",
       "10354        Tomato, Pizza, Flatbread with Meat\n",
       "10432        Chickpeas, Dish Sponge, Strawberry\n",
       "10831                     Tomato, Cereal, Pizza\n",
       "10866                       Onion, Cracker, Egg\n",
       "10884                       Onion, Cola, Tomato\n",
       "11002                    Sausage, Chips, Yogurt\n",
       "11043                      Pizza, Butter, Chips\n",
       "11202                    Fish, Chicken, Sausage\n",
       "11559                  Soda, Minced Meat, Pizza\n",
       "11712                Minced Meat, Cereal, Water\n",
       "11739    Flatbread with Meat, Rice, Minced Meat\n",
       "12648                     Tomato, Potato, Apple\n",
       "12763                     Beans, Banana, Yogurt\n",
       "13836            Cereal, Ice Cream, Minced Meat\n",
       "14011                     Egg, Beans, Chickpeas\n",
       "14329                  Cookie, Chips, Detergent\n",
       "15054                   Potato, Pizza, Cucumber\n",
       "15213                      Honey, Apple, Cereal\n",
       "15229             Dumpling, Dish Sponge, Orange\n",
       "15317                        Cereal, Egg, Chips\n",
       "15412                      Butter, Fish, Yogurt\n",
       "15722         Dish Sponge, Chocolate, Chickpeas\n",
       "16311                  Ice Cream, Bread, Lentil\n",
       "16689                       Apple, Bread, Honey\n",
       "16889                       Cola, Rice, Chicken\n",
       "16966                   Banana, Onion, Cucumber\n",
       "16978                        Bread, Honey, Soda\n",
       "17090                      Cheese, Chips, Bread\n",
       "17307                   Beans, Chickpeas, Apple\n",
       "17753            Pizza, Beans, Cereal, Dumpling\n",
       "18082            Lentil, Soap, Fish, Strawberry\n",
       "18367                    Cookie, Cheese, Banana\n",
       "18428    Flatbread with Meat, Banana, Detergent\n",
       "18864                       Apple, Fish, Cereal\n",
       "19077                       Cheese, Soap, Onion\n",
       "19203                 Detergent, Apple, Shampoo\n",
       "19279                      Bread, Cracker, Cola\n",
       "19288       Cracker, Flatbread with Meat, Honey\n",
       "19367                   Cookie, Fish, Ice Cream\n",
       "19495                Milk, Fish, Yogurt, Cereal\n",
       "19646                    Cola, Chocolate, Pizza\n",
       "19649         Detergent, Dish Sponge, Chickpeas\n",
       "19842                Sausage, Cookie, Chickpeas\n",
       "20167                     Honey, Sausage, Beans\n",
       "20424                     Onion, Lentil, Cheese\n",
       "20586                 Potato, Orange, Ice Cream\n",
       "20736                       Cracker, Cola, Soap\n",
       "21755                    Pizza, Ice Cream, Soda\n",
       "21844                   Orange, Sausage, Tomato\n",
       "21882                       Banana, Egg, Cookie\n",
       "22033                     Cola, Sausage, Cereal\n",
       "22051                  Cheese, Cucumber, Tomato\n",
       "22217                    Cereal, Shampoo, Bread\n",
       "22316                    Juice, Yogurt, Sausage\n",
       "22338                         Bread, Soap, Soda\n",
       "22408                        Rice, Juice, Pizza\n",
       "23305                     Honey, Orange, Cookie\n",
       "23604                        Apple, Egg, Cereal\n",
       "23846                        Onion, Tomato, Egg\n",
       "23895                    Sausage, Chips, Yogurt\n",
       "23948                       Soda, Cereal, Bread\n",
       "24001           Rice, Flatbread with Meat, Soap\n",
       "24256      Detergent, Soda, Flatbread with Meat\n",
       "24270                 Minced Meat, Beans, Apple\n",
       "24409             Chickpeas, Chips, Minced Meat\n",
       "24510                      Soda, Ice Cream, Egg\n",
       "24725                      Cheese, Onion, Water\n",
       "25071                   Water, Egg, Minced Meat\n",
       "25321                       Potato, Fish, Beans\n",
       "25541          Soap, Apple, Flatbread with Meat\n",
       "25622    Detergent, Yogurt, Flatbread with Meat\n",
       "25755    Dish Sponge, Soda, Flatbread with Meat\n",
       "25806                  Cheese, Chicken, Shampoo\n",
       "25837                      Chicken, Beans, Soap\n",
       "25915                      Cola, Water, Shampoo\n",
       "25996                       Cheese, Milk, Chips\n",
       "26105                Minced Meat, Fish, Shampoo\n",
       "26698                  Orange, Onion, Ice Cream\n",
       "26927                   Onion, Egg, Dish Sponge\n",
       "27099                      Soda, Lentil, Potato\n",
       "27350                     Orange, Honey, Banana\n",
       "27467               Dish Sponge, Potato, Cheese\n",
       "27502                        Tomato, Cola, Fish\n",
       "27548                     Juice, Honey, Shampoo\n",
       "27622                 Dish Sponge, Cola, Cheese\n",
       "27736            Minced Meat, Strawberry, Apple\n",
       "27981               Cheese, Cucumber, Detergent\n",
       "28271       Potato, Flatbread with Meat, Butter\n",
       "28539                      Fish, Chickpeas, Egg\n",
       "28651                       Juice, Beans, Water\n",
       "28731                       Egg, Water, Chicken\n",
       "28740                     Cereal, Orange, Beans\n",
       "29006                     Cola, Cracker, Cookie\n",
       "29022                    Rice, Dumpling, Yogurt\n",
       "29202                 Dish Sponge, Potato, Rice\n",
       "29289                Cheese, Sausage, Detergent\n",
       "29440                   Banana, Chickpeas, Soap\n",
       "29878                  Butter, Orange, Cucumber\n",
       "29922              Onion, Dumpling, Dish Sponge\n",
       "Name: Products, dtype: object"
      ]
     },
     "metadata": {},
     "output_type": "display_data"
    }
   ],
   "source": [
    "with pd.option_context('display.max_rows', None, 'display.max_columns', None):\n",
    "    display(duplicated)"
   ]
  },
  {
   "cell_type": "code",
   "execution_count": 16,
   "id": "5fb80735",
   "metadata": {
    "execution": {
     "iopub.execute_input": "2025-10-22T16:00:58.099128Z",
     "iopub.status.busy": "2025-10-22T16:00:58.098843Z",
     "iopub.status.idle": "2025-10-22T16:00:58.166969Z",
     "shell.execute_reply": "2025-10-22T16:00:58.165742Z"
    },
    "papermill": {
     "duration": 0.078035,
     "end_time": "2025-10-22T16:00:58.168885",
     "exception": false,
     "start_time": "2025-10-22T16:00:58.090850",
     "status": "completed"
    },
    "tags": []
   },
   "outputs": [],
   "source": [
    "df['Product_list'] = df['Products'].apply(lambda x: [p.strip() for p in x.split(',')])"
   ]
  },
  {
   "cell_type": "code",
   "execution_count": 17,
   "id": "26da9b30",
   "metadata": {
    "execution": {
     "iopub.execute_input": "2025-10-22T16:00:58.186442Z",
     "iopub.status.busy": "2025-10-22T16:00:58.186090Z",
     "iopub.status.idle": "2025-10-22T16:00:58.199878Z",
     "shell.execute_reply": "2025-10-22T16:00:58.198929Z"
    },
    "papermill": {
     "duration": 0.026691,
     "end_time": "2025-10-22T16:00:58.202663",
     "exception": false,
     "start_time": "2025-10-22T16:00:58.175972",
     "status": "completed"
    },
    "tags": []
   },
   "outputs": [
    {
     "data": {
      "text/html": [
       "<div>\n",
       "<style scoped>\n",
       "    .dataframe tbody tr th:only-of-type {\n",
       "        vertical-align: middle;\n",
       "    }\n",
       "\n",
       "    .dataframe tbody tr th {\n",
       "        vertical-align: top;\n",
       "    }\n",
       "\n",
       "    .dataframe thead th {\n",
       "        text-align: right;\n",
       "    }\n",
       "</style>\n",
       "<table border=\"1\" class=\"dataframe\">\n",
       "  <thead>\n",
       "    <tr style=\"text-align: right;\">\n",
       "      <th></th>\n",
       "      <th>TransactionID</th>\n",
       "      <th>CustomerID</th>\n",
       "      <th>Products</th>\n",
       "      <th>Timestamp</th>\n",
       "      <th>Product_list</th>\n",
       "    </tr>\n",
       "  </thead>\n",
       "  <tbody>\n",
       "    <tr>\n",
       "      <th>0</th>\n",
       "      <td>1</td>\n",
       "      <td>C546</td>\n",
       "      <td>Dish Sponge, Flatbread with Meat, Chips, Orang...</td>\n",
       "      <td>2025-02-18</td>\n",
       "      <td>[Dish Sponge, Flatbread with Meat, Chips, Oran...</td>\n",
       "    </tr>\n",
       "    <tr>\n",
       "      <th>1</th>\n",
       "      <td>2</td>\n",
       "      <td>C385</td>\n",
       "      <td>Onion, Juice, Flatbread with Meat, Chicken</td>\n",
       "      <td>2025-04-26</td>\n",
       "      <td>[Onion, Juice, Flatbread with Meat, Chicken]</td>\n",
       "    </tr>\n",
       "    <tr>\n",
       "      <th>2</th>\n",
       "      <td>3</td>\n",
       "      <td>C292</td>\n",
       "      <td>Egg, Flatbread with Meat, Banana, Pizza</td>\n",
       "      <td>2025-04-25</td>\n",
       "      <td>[Egg, Flatbread with Meat, Banana, Pizza]</td>\n",
       "    </tr>\n",
       "    <tr>\n",
       "      <th>3</th>\n",
       "      <td>4</td>\n",
       "      <td>C863</td>\n",
       "      <td>Ice Cream, Soda, Orange, Potato, Cereal, Choco...</td>\n",
       "      <td>2025-01-14</td>\n",
       "      <td>[Ice Cream, Soda, Orange, Potato, Cereal, Choc...</td>\n",
       "    </tr>\n",
       "    <tr>\n",
       "      <th>4</th>\n",
       "      <td>5</td>\n",
       "      <td>C171</td>\n",
       "      <td>Ice Cream, Soap, Shampoo, Chicken, Banana, Bea...</td>\n",
       "      <td>2025-04-20</td>\n",
       "      <td>[Ice Cream, Soap, Shampoo, Chicken, Banana, Be...</td>\n",
       "    </tr>\n",
       "  </tbody>\n",
       "</table>\n",
       "</div>"
      ],
      "text/plain": [
       "   TransactionID CustomerID  \\\n",
       "0              1       C546   \n",
       "1              2       C385   \n",
       "2              3       C292   \n",
       "3              4       C863   \n",
       "4              5       C171   \n",
       "\n",
       "                                            Products   Timestamp  \\\n",
       "0  Dish Sponge, Flatbread with Meat, Chips, Orang...  2025-02-18   \n",
       "1         Onion, Juice, Flatbread with Meat, Chicken  2025-04-26   \n",
       "2            Egg, Flatbread with Meat, Banana, Pizza  2025-04-25   \n",
       "3  Ice Cream, Soda, Orange, Potato, Cereal, Choco...  2025-01-14   \n",
       "4  Ice Cream, Soap, Shampoo, Chicken, Banana, Bea...  2025-04-20   \n",
       "\n",
       "                                        Product_list  \n",
       "0  [Dish Sponge, Flatbread with Meat, Chips, Oran...  \n",
       "1       [Onion, Juice, Flatbread with Meat, Chicken]  \n",
       "2          [Egg, Flatbread with Meat, Banana, Pizza]  \n",
       "3  [Ice Cream, Soda, Orange, Potato, Cereal, Choc...  \n",
       "4  [Ice Cream, Soap, Shampoo, Chicken, Banana, Be...  "
      ]
     },
     "execution_count": 17,
     "metadata": {},
     "output_type": "execute_result"
    }
   ],
   "source": [
    "df.head()"
   ]
  },
  {
   "cell_type": "code",
   "execution_count": 18,
   "id": "26a535be",
   "metadata": {
    "execution": {
     "iopub.execute_input": "2025-10-22T16:00:58.222655Z",
     "iopub.status.busy": "2025-10-22T16:00:58.221366Z",
     "iopub.status.idle": "2025-10-22T16:00:58.242865Z",
     "shell.execute_reply": "2025-10-22T16:00:58.241920Z"
    },
    "papermill": {
     "duration": 0.032889,
     "end_time": "2025-10-22T16:00:58.245054",
     "exception": false,
     "start_time": "2025-10-22T16:00:58.212165",
     "status": "completed"
    },
    "tags": []
   },
   "outputs": [],
   "source": [
    "unique_products = set(chain.from_iterable(df['Product_list']))"
   ]
  },
  {
   "cell_type": "code",
   "execution_count": 19,
   "id": "d7330837",
   "metadata": {
    "execution": {
     "iopub.execute_input": "2025-10-22T16:00:58.262402Z",
     "iopub.status.busy": "2025-10-22T16:00:58.261359Z",
     "iopub.status.idle": "2025-10-22T16:00:58.268559Z",
     "shell.execute_reply": "2025-10-22T16:00:58.267292Z"
    },
    "papermill": {
     "duration": 0.017077,
     "end_time": "2025-10-22T16:00:58.270039",
     "exception": false,
     "start_time": "2025-10-22T16:00:58.252962",
     "status": "completed"
    },
    "tags": []
   },
   "outputs": [
    {
     "data": {
      "text/plain": [
       "40"
      ]
     },
     "execution_count": 19,
     "metadata": {},
     "output_type": "execute_result"
    }
   ],
   "source": [
    "len(unique_products)"
   ]
  },
  {
   "cell_type": "code",
   "execution_count": 20,
   "id": "dee4bfd4",
   "metadata": {
    "execution": {
     "iopub.execute_input": "2025-10-22T16:00:58.288078Z",
     "iopub.status.busy": "2025-10-22T16:00:58.287782Z",
     "iopub.status.idle": "2025-10-22T16:00:58.293756Z",
     "shell.execute_reply": "2025-10-22T16:00:58.292878Z"
    },
    "papermill": {
     "duration": 0.016706,
     "end_time": "2025-10-22T16:00:58.295661",
     "exception": false,
     "start_time": "2025-10-22T16:00:58.278955",
     "status": "completed"
    },
    "tags": []
   },
   "outputs": [
    {
     "data": {
      "text/plain": [
       "{'Apple',\n",
       " 'Banana',\n",
       " 'Beans',\n",
       " 'Bread',\n",
       " 'Butter',\n",
       " 'Cereal',\n",
       " 'Cheese',\n",
       " 'Chicken',\n",
       " 'Chickpeas',\n",
       " 'Chips',\n",
       " 'Chocolate',\n",
       " 'Cola',\n",
       " 'Cookie',\n",
       " 'Cracker',\n",
       " 'Cucumber',\n",
       " 'Detergent',\n",
       " 'Dish Sponge',\n",
       " 'Dumpling',\n",
       " 'Egg',\n",
       " 'Fish',\n",
       " 'Flatbread with Meat',\n",
       " 'Honey',\n",
       " 'Ice Cream',\n",
       " 'Juice',\n",
       " 'Lentil',\n",
       " 'Milk',\n",
       " 'Minced Meat',\n",
       " 'Onion',\n",
       " 'Orange',\n",
       " 'Pizza',\n",
       " 'Potato',\n",
       " 'Rice',\n",
       " 'Sausage',\n",
       " 'Shampoo',\n",
       " 'Soap',\n",
       " 'Soda',\n",
       " 'Strawberry',\n",
       " 'Tomato',\n",
       " 'Water',\n",
       " 'Yogurt'}"
      ]
     },
     "execution_count": 20,
     "metadata": {},
     "output_type": "execute_result"
    }
   ],
   "source": [
    "unique_products"
   ]
  },
  {
   "cell_type": "code",
   "execution_count": 21,
   "id": "3879dc58",
   "metadata": {
    "execution": {
     "iopub.execute_input": "2025-10-22T16:00:58.314505Z",
     "iopub.status.busy": "2025-10-22T16:00:58.314175Z",
     "iopub.status.idle": "2025-10-22T16:00:58.557789Z",
     "shell.execute_reply": "2025-10-22T16:00:58.556879Z"
    },
    "papermill": {
     "duration": 0.255208,
     "end_time": "2025-10-22T16:00:58.559447",
     "exception": false,
     "start_time": "2025-10-22T16:00:58.304239",
     "status": "completed"
    },
    "tags": []
   },
   "outputs": [
    {
     "data": {
      "image/png": "[encoded data removed]",
      "text/plain": [
       "<Figure size 640x480 with 1 Axes>"
      ]
     },
     "metadata": {},
     "output_type": "display_data"
    }
   ],
   "source": [
    "plt.hist(df['Products'].apply(lambda x: len(x.split(','))), bins=20)\n",
    "plt.title('Распределение размера корзины')\n",
    "plt.xlabel('Количество товаров')\n",
    "plt.ylabel('Количество транзакций')\n",
    "plt.show()"
   ]
  },
  {
   "cell_type": "code",
   "execution_count": 22,
   "id": "c77d5080",
   "metadata": {
    "execution": {
     "iopub.execute_input": "2025-10-22T16:00:58.576239Z",
     "iopub.status.busy": "2025-10-22T16:00:58.575929Z",
     "iopub.status.idle": "2025-10-22T16:00:58.812854Z",
     "shell.execute_reply": "2025-10-22T16:00:58.811674Z"
    },
    "papermill": {
     "duration": 0.248,
     "end_time": "2025-10-22T16:00:58.815306",
     "exception": false,
     "start_time": "2025-10-22T16:00:58.567306",
     "status": "completed"
    },
    "tags": []
   },
   "outputs": [
    {
     "data": {
      "image/png": "[encoded data removed]",
      "text/plain": [
       "<Figure size 640x480 with 1 Axes>"
      ]
     },
     "metadata": {},
     "output_type": "display_data"
    }
   ],
   "source": [
    "from collections import Counter\n",
    "\n",
    "all_products = list(chain.from_iterable(df['Product_list']))\n",
    "product_counts = Counter(all_products)\n",
    "top_products = product_counts.most_common(10)\n",
    "\n",
    "plt.bar([p[0] for p in top_products], [p[1] for p in top_products])\n",
    "plt.xticks(rotation=45, ha='right')\n",
    "plt.title('Топ-10 самых популярных товаров')\n",
    "plt.show()"
   ]
  },
  {
   "cell_type": "code",
   "execution_count": 23,
   "id": "ca050f77",
   "metadata": {
    "execution": {
     "iopub.execute_input": "2025-10-22T16:00:58.834069Z",
     "iopub.status.busy": "2025-10-22T16:00:58.833789Z",
     "iopub.status.idle": "2025-10-22T16:00:58.846819Z",
     "shell.execute_reply": "2025-10-22T16:00:58.845966Z"
    },
    "papermill": {
     "duration": 0.024634,
     "end_time": "2025-10-22T16:00:58.848602",
     "exception": false,
     "start_time": "2025-10-22T16:00:58.823968",
     "status": "completed"
    },
    "tags": []
   },
   "outputs": [
    {
     "data": {
      "text/html": [
       "<div>\n",
       "<style scoped>\n",
       "    .dataframe tbody tr th:only-of-type {\n",
       "        vertical-align: middle;\n",
       "    }\n",
       "\n",
       "    .dataframe tbody tr th {\n",
       "        vertical-align: top;\n",
       "    }\n",
       "\n",
       "    .dataframe thead th {\n",
       "        text-align: right;\n",
       "    }\n",
       "</style>\n",
       "<table border=\"1\" class=\"dataframe\">\n",
       "  <thead>\n",
       "    <tr style=\"text-align: right;\">\n",
       "      <th></th>\n",
       "      <th>TransactionID</th>\n",
       "      <th>CustomerID</th>\n",
       "      <th>Products</th>\n",
       "      <th>Timestamp</th>\n",
       "      <th>Product_list</th>\n",
       "    </tr>\n",
       "  </thead>\n",
       "  <tbody>\n",
       "    <tr>\n",
       "      <th>0</th>\n",
       "      <td>1</td>\n",
       "      <td>C546</td>\n",
       "      <td>Dish Sponge, Flatbread with Meat, Chips, Orang...</td>\n",
       "      <td>2025-02-18</td>\n",
       "      <td>[Dish Sponge, Flatbread with Meat, Chips, Oran...</td>\n",
       "    </tr>\n",
       "    <tr>\n",
       "      <th>1</th>\n",
       "      <td>2</td>\n",
       "      <td>C385</td>\n",
       "      <td>Onion, Juice, Flatbread with Meat, Chicken</td>\n",
       "      <td>2025-04-26</td>\n",
       "      <td>[Onion, Juice, Flatbread with Meat, Chicken]</td>\n",
       "    </tr>\n",
       "    <tr>\n",
       "      <th>2</th>\n",
       "      <td>3</td>\n",
       "      <td>C292</td>\n",
       "      <td>Egg, Flatbread with Meat, Banana, Pizza</td>\n",
       "      <td>2025-04-25</td>\n",
       "      <td>[Egg, Flatbread with Meat, Banana, Pizza]</td>\n",
       "    </tr>\n",
       "    <tr>\n",
       "      <th>3</th>\n",
       "      <td>4</td>\n",
       "      <td>C863</td>\n",
       "      <td>Ice Cream, Soda, Orange, Potato, Cereal, Choco...</td>\n",
       "      <td>2025-01-14</td>\n",
       "      <td>[Ice Cream, Soda, Orange, Potato, Cereal, Choc...</td>\n",
       "    </tr>\n",
       "    <tr>\n",
       "      <th>4</th>\n",
       "      <td>5</td>\n",
       "      <td>C171</td>\n",
       "      <td>Ice Cream, Soap, Shampoo, Chicken, Banana, Bea...</td>\n",
       "      <td>2025-04-20</td>\n",
       "      <td>[Ice Cream, Soap, Shampoo, Chicken, Banana, Be...</td>\n",
       "    </tr>\n",
       "  </tbody>\n",
       "</table>\n",
       "</div>"
      ],
      "text/plain": [
       "   TransactionID CustomerID  \\\n",
       "0              1       C546   \n",
       "1              2       C385   \n",
       "2              3       C292   \n",
       "3              4       C863   \n",
       "4              5       C171   \n",
       "\n",
       "                                            Products   Timestamp  \\\n",
       "0  Dish Sponge, Flatbread with Meat, Chips, Orang...  2025-02-18   \n",
       "1         Onion, Juice, Flatbread with Meat, Chicken  2025-04-26   \n",
       "2            Egg, Flatbread with Meat, Banana, Pizza  2025-04-25   \n",
       "3  Ice Cream, Soda, Orange, Potato, Cereal, Choco...  2025-01-14   \n",
       "4  Ice Cream, Soap, Shampoo, Chicken, Banana, Bea...  2025-04-20   \n",
       "\n",
       "                                        Product_list  \n",
       "0  [Dish Sponge, Flatbread with Meat, Chips, Oran...  \n",
       "1       [Onion, Juice, Flatbread with Meat, Chicken]  \n",
       "2          [Egg, Flatbread with Meat, Banana, Pizza]  \n",
       "3  [Ice Cream, Soda, Orange, Potato, Cereal, Choc...  \n",
       "4  [Ice Cream, Soap, Shampoo, Chicken, Banana, Be...  "
      ]
     },
     "execution_count": 23,
     "metadata": {},
     "output_type": "execute_result"
    }
   ],
   "source": [
    "df.head()"
   ]
  },
  {
   "cell_type": "markdown",
   "id": "e0926629",
   "metadata": {
    "papermill": {
     "duration": 0.008745,
     "end_time": "2025-10-22T16:00:58.865697",
     "exception": false,
     "start_time": "2025-10-22T16:00:58.856952",
     "status": "completed"
    },
    "tags": []
   },
   "source": [
    "# Dataset prep"
   ]
  },
  {
   "cell_type": "code",
   "execution_count": 24,
   "id": "c1f5b29f",
   "metadata": {
    "execution": {
     "iopub.execute_input": "2025-10-22T16:00:58.884155Z",
     "iopub.status.busy": "2025-10-22T16:00:58.883863Z",
     "iopub.status.idle": "2025-10-22T16:00:58.889996Z",
     "shell.execute_reply": "2025-10-22T16:00:58.888817Z"
    },
    "papermill": {
     "duration": 0.017392,
     "end_time": "2025-10-22T16:00:58.891630",
     "exception": false,
     "start_time": "2025-10-22T16:00:58.874238",
     "status": "completed"
    },
    "tags": []
   },
   "outputs": [],
   "source": [
    "transactions = df['Product_list'].tolist()"
   ]
  },
  {
   "cell_type": "code",
   "execution_count": 25,
   "id": "c089b31c",
   "metadata": {
    "execution": {
     "iopub.execute_input": "2025-10-22T16:00:58.911972Z",
     "iopub.status.busy": "2025-10-22T16:00:58.911672Z",
     "iopub.status.idle": "2025-10-22T16:00:58.916542Z",
     "shell.execute_reply": "2025-10-22T16:00:58.915599Z"
    },
    "papermill": {
     "duration": 0.017159,
     "end_time": "2025-10-22T16:00:58.918098",
     "exception": false,
     "start_time": "2025-10-22T16:00:58.900939",
     "status": "completed"
    },
    "tags": []
   },
   "outputs": [],
   "source": [
    "te = TransactionEncoder()"
   ]
  },
  {
   "cell_type": "code",
   "execution_count": 26,
   "id": "f88e3aae",
   "metadata": {
    "execution": {
     "iopub.execute_input": "2025-10-22T16:00:58.937791Z",
     "iopub.status.busy": "2025-10-22T16:00:58.937497Z",
     "iopub.status.idle": "2025-10-22T16:00:58.998943Z",
     "shell.execute_reply": "2025-10-22T16:00:58.997769Z"
    },
    "papermill": {
     "duration": 0.073196,
     "end_time": "2025-10-22T16:00:59.001011",
     "exception": false,
     "start_time": "2025-10-22T16:00:58.927815",
     "status": "completed"
    },
    "tags": []
   },
   "outputs": [],
   "source": [
    "te_ary = te.fit(transactions).transform(transactions)"
   ]
  },
  {
   "cell_type": "code",
   "execution_count": 27,
   "id": "d847d335",
   "metadata": {
    "execution": {
     "iopub.execute_input": "2025-10-22T16:00:59.019029Z",
     "iopub.status.busy": "2025-10-22T16:00:59.018747Z",
     "iopub.status.idle": "2025-10-22T16:00:59.024715Z",
     "shell.execute_reply": "2025-10-22T16:00:59.023272Z"
    },
    "papermill": {
     "duration": 0.017143,
     "end_time": "2025-10-22T16:00:59.026593",
     "exception": false,
     "start_time": "2025-10-22T16:00:59.009450",
     "status": "completed"
    },
    "tags": []
   },
   "outputs": [],
   "source": [
    "basket_df = pd.DataFrame(te_ary, columns=te.columns_)"
   ]
  },
  {
   "cell_type": "code",
   "execution_count": 28,
   "id": "18e4c6ff",
   "metadata": {
    "execution": {
     "iopub.execute_input": "2025-10-22T16:00:59.048874Z",
     "iopub.status.busy": "2025-10-22T16:00:59.048573Z",
     "iopub.status.idle": "2025-10-22T16:00:59.070392Z",
     "shell.execute_reply": "2025-10-22T16:00:59.069204Z"
    },
    "papermill": {
     "duration": 0.034742,
     "end_time": "2025-10-22T16:00:59.072057",
     "exception": false,
     "start_time": "2025-10-22T16:00:59.037315",
     "status": "completed"
    },
    "tags": []
   },
   "outputs": [
    {
     "data": {
      "text/html": [
       "<div>\n",
       "<style scoped>\n",
       "    .dataframe tbody tr th:only-of-type {\n",
       "        vertical-align: middle;\n",
       "    }\n",
       "\n",
       "    .dataframe tbody tr th {\n",
       "        vertical-align: top;\n",
       "    }\n",
       "\n",
       "    .dataframe thead th {\n",
       "        text-align: right;\n",
       "    }\n",
       "</style>\n",
       "<table border=\"1\" class=\"dataframe\">\n",
       "  <thead>\n",
       "    <tr style=\"text-align: right;\">\n",
       "      <th></th>\n",
       "      <th>Apple</th>\n",
       "      <th>Banana</th>\n",
       "      <th>Beans</th>\n",
       "      <th>Bread</th>\n",
       "      <th>Butter</th>\n",
       "      <th>Cereal</th>\n",
       "      <th>Cheese</th>\n",
       "      <th>Chicken</th>\n",
       "      <th>Chickpeas</th>\n",
       "      <th>Chips</th>\n",
       "      <th>...</th>\n",
       "      <th>Potato</th>\n",
       "      <th>Rice</th>\n",
       "      <th>Sausage</th>\n",
       "      <th>Shampoo</th>\n",
       "      <th>Soap</th>\n",
       "      <th>Soda</th>\n",
       "      <th>Strawberry</th>\n",
       "      <th>Tomato</th>\n",
       "      <th>Water</th>\n",
       "      <th>Yogurt</th>\n",
       "    </tr>\n",
       "  </thead>\n",
       "  <tbody>\n",
       "    <tr>\n",
       "      <th>0</th>\n",
       "      <td>False</td>\n",
       "      <td>False</td>\n",
       "      <td>False</td>\n",
       "      <td>False</td>\n",
       "      <td>True</td>\n",
       "      <td>False</td>\n",
       "      <td>False</td>\n",
       "      <td>False</td>\n",
       "      <td>False</td>\n",
       "      <td>True</td>\n",
       "      <td>...</td>\n",
       "      <td>False</td>\n",
       "      <td>True</td>\n",
       "      <td>True</td>\n",
       "      <td>False</td>\n",
       "      <td>False</td>\n",
       "      <td>False</td>\n",
       "      <td>False</td>\n",
       "      <td>False</td>\n",
       "      <td>False</td>\n",
       "      <td>False</td>\n",
       "    </tr>\n",
       "    <tr>\n",
       "      <th>1</th>\n",
       "      <td>False</td>\n",
       "      <td>False</td>\n",
       "      <td>False</td>\n",
       "      <td>False</td>\n",
       "      <td>False</td>\n",
       "      <td>False</td>\n",
       "      <td>False</td>\n",
       "      <td>True</td>\n",
       "      <td>False</td>\n",
       "      <td>False</td>\n",
       "      <td>...</td>\n",
       "      <td>False</td>\n",
       "      <td>False</td>\n",
       "      <td>False</td>\n",
       "      <td>False</td>\n",
       "      <td>False</td>\n",
       "      <td>False</td>\n",
       "      <td>False</td>\n",
       "      <td>False</td>\n",
       "      <td>False</td>\n",
       "      <td>False</td>\n",
       "    </tr>\n",
       "    <tr>\n",
       "      <th>2</th>\n",
       "      <td>False</td>\n",
       "      <td>True</td>\n",
       "      <td>False</td>\n",
       "      <td>False</td>\n",
       "      <td>False</td>\n",
       "      <td>False</td>\n",
       "      <td>False</td>\n",
       "      <td>False</td>\n",
       "      <td>False</td>\n",
       "      <td>False</td>\n",
       "      <td>...</td>\n",
       "      <td>False</td>\n",
       "      <td>False</td>\n",
       "      <td>False</td>\n",
       "      <td>False</td>\n",
       "      <td>False</td>\n",
       "      <td>False</td>\n",
       "      <td>False</td>\n",
       "      <td>False</td>\n",
       "      <td>False</td>\n",
       "      <td>False</td>\n",
       "    </tr>\n",
       "    <tr>\n",
       "      <th>3</th>\n",
       "      <td>False</td>\n",
       "      <td>False</td>\n",
       "      <td>False</td>\n",
       "      <td>False</td>\n",
       "      <td>False</td>\n",
       "      <td>True</td>\n",
       "      <td>False</td>\n",
       "      <td>False</td>\n",
       "      <td>False</td>\n",
       "      <td>False</td>\n",
       "      <td>...</td>\n",
       "      <td>True</td>\n",
       "      <td>False</td>\n",
       "      <td>False</td>\n",
       "      <td>False</td>\n",
       "      <td>False</td>\n",
       "      <td>True</td>\n",
       "      <td>False</td>\n",
       "      <td>False</td>\n",
       "      <td>False</td>\n",
       "      <td>False</td>\n",
       "    </tr>\n",
       "    <tr>\n",
       "      <th>4</th>\n",
       "      <td>False</td>\n",
       "      <td>True</td>\n",
       "      <td>True</td>\n",
       "      <td>False</td>\n",
       "      <td>False</td>\n",
       "      <td>False</td>\n",
       "      <td>True</td>\n",
       "      <td>True</td>\n",
       "      <td>False</td>\n",
       "      <td>False</td>\n",
       "      <td>...</td>\n",
       "      <td>False</td>\n",
       "      <td>False</td>\n",
       "      <td>False</td>\n",
       "      <td>True</td>\n",
       "      <td>True</td>\n",
       "      <td>False</td>\n",
       "      <td>False</td>\n",
       "      <td>False</td>\n",
       "      <td>False</td>\n",
       "      <td>False</td>\n",
       "    </tr>\n",
       "  </tbody>\n",
       "</table>\n",
       "<p>5 rows × 40 columns</p>\n",
       "</div>"
      ],
      "text/plain": [
       "   Apple  Banana  Beans  Bread  Butter  Cereal  Cheese  Chicken  Chickpeas  \\\n",
       "0  False   False  False  False    True   False   False    False      False   \n",
       "1  False   False  False  False   False   False   False     True      False   \n",
       "2  False    True  False  False   False   False   False    False      False   \n",
       "3  False   False  False  False   False    True   False    False      False   \n",
       "4  False    True   True  False   False   False    True     True      False   \n",
       "\n",
       "   Chips  ...  Potato   Rice  Sausage  Shampoo   Soap   Soda  Strawberry  \\\n",
       "0   True  ...   False   True     True    False  False  False       False   \n",
       "1  False  ...   False  False    False    False  False  False       False   \n",
       "2  False  ...   False  False    False    False  False  False       False   \n",
       "3  False  ...    True  False    False    False  False   True       False   \n",
       "4  False  ...   False  False    False     True   True  False       False   \n",
       "\n",
       "   Tomato  Water  Yogurt  \n",
       "0   False  False   False  \n",
       "1   False  False   False  \n",
       "2   False  False   False  \n",
       "3   False  False   False  \n",
       "4   False  False   False  \n",
       "\n",
       "[5 rows x 40 columns]"
      ]
     },
     "execution_count": 28,
     "metadata": {},
     "output_type": "execute_result"
    }
   ],
   "source": [
    "basket_df.head()"
   ]
  },
  {
   "cell_type": "code",
   "execution_count": 29,
   "id": "c61c4915",
   "metadata": {
    "execution": {
     "iopub.execute_input": "2025-10-22T16:00:59.090647Z",
     "iopub.status.busy": "2025-10-22T16:00:59.090355Z",
     "iopub.status.idle": "2025-10-22T16:00:59.113841Z",
     "shell.execute_reply": "2025-10-22T16:00:59.112363Z"
    },
    "papermill": {
     "duration": 0.03458,
     "end_time": "2025-10-22T16:00:59.115341",
     "exception": false,
     "start_time": "2025-10-22T16:00:59.080761",
     "status": "completed"
    },
    "tags": []
   },
   "outputs": [
    {
     "name": "stdout",
     "output_type": "stream",
     "text": [
      "<class 'pandas.core.frame.DataFrame'>\n",
      "RangeIndex: 30000 entries, 0 to 29999\n",
      "Data columns (total 40 columns):\n",
      " #   Column               Non-Null Count  Dtype\n",
      "---  ------               --------------  -----\n",
      " 0   Apple                30000 non-null  bool \n",
      " 1   Banana               30000 non-null  bool \n",
      " 2   Beans                30000 non-null  bool \n",
      " 3   Bread                30000 non-null  bool \n",
      " 4   Butter               30000 non-null  bool \n",
      " 5   Cereal               30000 non-null  bool \n",
      " 6   Cheese               30000 non-null  bool \n",
      " 7   Chicken              30000 non-null  bool \n",
      " 8   Chickpeas            30000 non-null  bool \n",
      " 9   Chips                30000 non-null  bool \n",
      " 10  Chocolate            30000 non-null  bool \n",
      " 11  Cola                 30000 non-null  bool \n",
      " 12  Cookie               30000 non-null  bool \n",
      " 13  Cracker              30000 non-null  bool \n",
      " 14  Cucumber             30000 non-null  bool \n",
      " 15  Detergent            30000 non-null  bool \n",
      " 16  Dish Sponge          30000 non-null  bool \n",
      " 17  Dumpling             30000 non-null  bool \n",
      " 18  Egg                  30000 non-null  bool \n",
      " 19  Fish                 30000 non-null  bool \n",
      " 20  Flatbread with Meat  30000 non-null  bool \n",
      " 21  Honey                30000 non-null  bool \n",
      " 22  Ice Cream            30000 non-null  bool \n",
      " 23  Juice                30000 non-null  bool \n",
      " 24  Lentil               30000 non-null  bool \n",
      " 25  Milk                 30000 non-null  bool \n",
      " 26  Minced Meat          30000 non-null  bool \n",
      " 27  Onion                30000 non-null  bool \n",
      " 28  Orange               30000 non-null  bool \n",
      " 29  Pizza                30000 non-null  bool \n",
      " 30  Potato               30000 non-null  bool \n",
      " 31  Rice                 30000 non-null  bool \n",
      " 32  Sausage              30000 non-null  bool \n",
      " 33  Shampoo              30000 non-null  bool \n",
      " 34  Soap                 30000 non-null  bool \n",
      " 35  Soda                 30000 non-null  bool \n",
      " 36  Strawberry           30000 non-null  bool \n",
      " 37  Tomato               30000 non-null  bool \n",
      " 38  Water                30000 non-null  bool \n",
      " 39  Yogurt               30000 non-null  bool \n",
      "dtypes: bool(40)\n",
      "memory usage: 1.1 MB\n"
     ]
    }
   ],
   "source": [
    "basket_df.info()"
   ]
  }
 ],
 "metadata": {
  "kaggle": {
   "accelerator": "none",
   "dataSources": [
    {
     "datasetId": 7553557,
     "sourceId": 12006936,
     "sourceType": "datasetVersion"
    }
   ],
   "dockerImageVersionId": 31153,
   "isGpuEnabled": false,
   "isInternetEnabled": true,
   "language": "python",
   "sourceType": "notebook"
  },
  "kernelspec": {
   "display_name": "Python 3",
   "language": "python",
   "name": "python3"
  },
  "language_info": {
   "codemirror_mode": {
    "name": "ipython",
    "version": 3
   },
   "file_extension": ".py",
   "mimetype": "text/x-python",
   "name": "python",
   "nbconvert_exporter": "python",
   "pygments_lexer": "ipython3",
   "version": "3.11.13"
  },
  "papermill": {
   "default_parameters": {},
   "duration": 12.115835,
   "end_time": "2025-10-22T16:00:59.947384",
   "environment_variables": {},
   "exception": null,
   "input_path": "__notebook__.ipynb",
   "output_path": "__notebook__.ipynb",
   "parameters": {},
   "start_time": "2025-10-22T16:00:47.831549",
   "version": "2.6.0"
  }
 },
 "nbformat": 4,
 "nbformat_minor": 5
}
