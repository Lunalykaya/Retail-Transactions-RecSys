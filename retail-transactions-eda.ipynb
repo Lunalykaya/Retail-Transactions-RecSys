{
 "cells": [
  {
   "cell_type": "code",
   "execution_count": 1,
   "id": "03595c16",
   "metadata": {
    "_cell_guid": "b1076dfc-b9ad-4769-8c92-a6c4dae69d19",
    "_uuid": "8f2839f25d086af736a60e9eeb907d3b93b6e0e5",
    "execution": {
     "iopub.execute_input": "2025-10-24T13:26:27.796947Z",
     "iopub.status.busy": "2025-10-24T13:26:27.796517Z",
     "iopub.status.idle": "2025-10-24T13:26:29.964810Z",
     "shell.execute_reply": "2025-10-24T13:26:29.963455Z"
    },
    "papermill": {
     "duration": 2.1788,
     "end_time": "2025-10-24T13:26:29.966734",
     "exception": false,
     "start_time": "2025-10-24T13:26:27.787934",
     "status": "completed"
    },
    "tags": []
   },
   "outputs": [
    {
     "name": "stdout",
     "output_type": "stream",
     "text": [
      "/kaggle/input/retail-transaction-dataset/products.csv\n"
     ]
    }
   ],
   "source": [
    "# This Python 3 environment comes with many helpful analytics libraries installed\n",
    "# It is defined by the kaggle/python Docker image: https://github.com/kaggle/docker-python\n",
    "# For example, here's several helpful packages to load\n",
    "\n",
    "import numpy as np # linear algebra\n",
    "import pandas as pd # data processing, CSV file I/O (e.g. pd.read_csv)\n",
    "\n",
    "# Input data files are available in the read-only \"../input/\" directory\n",
    "# For example, running this (by clicking run or pressing Shift+Enter) will list all files under the input directory\n",
    "\n",
    "import os\n",
    "for dirname, _, filenames in os.walk('/kaggle/input'):\n",
    "    for filename in filenames:\n",
    "        print(os.path.join(dirname, filename))\n",
    "\n",
    "# You can write up to 20GB to the current directory (/kaggle/working/) that gets preserved as output when you create a version using \"Save & Run All\" \n",
    "# You can also write temporary files to /kaggle/temp/, but they won't be saved outside of the current session"
   ]
  },
  {
   "cell_type": "code",
   "execution_count": 2,
   "id": "9538ec8c",
   "metadata": {
    "execution": {
     "iopub.execute_input": "2025-10-24T13:26:29.980940Z",
     "iopub.status.busy": "2025-10-24T13:26:29.980469Z",
     "iopub.status.idle": "2025-10-24T13:26:32.679418Z",
     "shell.execute_reply": "2025-10-24T13:26:32.678474Z"
    },
    "papermill": {
     "duration": 2.707966,
     "end_time": "2025-10-24T13:26:32.681365",
     "exception": false,
     "start_time": "2025-10-24T13:26:29.973399",
     "status": "completed"
    },
    "tags": []
   },
   "outputs": [],
   "source": [
    "import matplotlib.pyplot as plt\n",
    "import seaborn as sns\n",
    "from itertools import chain\n",
    "from mlxtend.preprocessing import TransactionEncoder\n",
    "from mlxtend.frequent_patterns import apriori, association_rules"
   ]
  },
  {
   "cell_type": "markdown",
   "id": "a62fe46e",
   "metadata": {
    "papermill": {
     "duration": 0.005695,
     "end_time": "2025-10-24T13:26:32.693843",
     "exception": false,
     "start_time": "2025-10-24T13:26:32.688148",
     "status": "completed"
    },
    "tags": []
   },
   "source": [
    "1. надо добавить красивых графиков"
   ]
  },
  {
   "cell_type": "markdown",
   "id": "b3529b8c",
   "metadata": {
    "papermill": {
     "duration": 0.005553,
     "end_time": "2025-10-24T13:26:32.705345",
     "exception": false,
     "start_time": "2025-10-24T13:26:32.699792",
     "status": "completed"
    },
    "tags": []
   },
   "source": [
    "# Data loading, EDA & Data Preporasion"
   ]
  },
  {
   "cell_type": "code",
   "execution_count": 3,
   "id": "d8773d1e",
   "metadata": {
    "execution": {
     "iopub.execute_input": "2025-10-24T13:26:32.718952Z",
     "iopub.status.busy": "2025-10-24T13:26:32.718371Z",
     "iopub.status.idle": "2025-10-24T13:26:32.830944Z",
     "shell.execute_reply": "2025-10-24T13:26:32.829808Z"
    },
    "papermill": {
     "duration": 0.121535,
     "end_time": "2025-10-24T13:26:32.832728",
     "exception": false,
     "start_time": "2025-10-24T13:26:32.711193",
     "status": "completed"
    },
    "tags": []
   },
   "outputs": [],
   "source": [
    "df = pd.read_csv('/kaggle/input/retail-transaction-dataset/products.csv')"
   ]
  },
  {
   "cell_type": "code",
   "execution_count": 4,
   "id": "f72739f2",
   "metadata": {
    "execution": {
     "iopub.execute_input": "2025-10-24T13:26:32.847020Z",
     "iopub.status.busy": "2025-10-24T13:26:32.846064Z",
     "iopub.status.idle": "2025-10-24T13:26:32.873865Z",
     "shell.execute_reply": "2025-10-24T13:26:32.872562Z"
    },
    "papermill": {
     "duration": 0.036477,
     "end_time": "2025-10-24T13:26:32.875686",
     "exception": false,
     "start_time": "2025-10-24T13:26:32.839209",
     "status": "completed"
    },
    "tags": []
   },
   "outputs": [
    {
     "data": {
      "text/html": [
       "<div>\n",
       "<style scoped>\n",
       "    .dataframe tbody tr th:only-of-type {\n",
       "        vertical-align: middle;\n",
       "    }\n",
       "\n",
       "    .dataframe tbody tr th {\n",
       "        vertical-align: top;\n",
       "    }\n",
       "\n",
       "    .dataframe thead th {\n",
       "        text-align: right;\n",
       "    }\n",
       "</style>\n",
       "<table border=\"1\" class=\"dataframe\">\n",
       "  <thead>\n",
       "    <tr style=\"text-align: right;\">\n",
       "      <th></th>\n",
       "      <th>TransactionID</th>\n",
       "      <th>CustomerID</th>\n",
       "      <th>Products</th>\n",
       "      <th>Timestamp</th>\n",
       "    </tr>\n",
       "  </thead>\n",
       "  <tbody>\n",
       "    <tr>\n",
       "      <th>0</th>\n",
       "      <td>1</td>\n",
       "      <td>C546</td>\n",
       "      <td>Dish Sponge, Flatbread with Meat, Chips, Orang...</td>\n",
       "      <td>2025-02-18</td>\n",
       "    </tr>\n",
       "    <tr>\n",
       "      <th>1</th>\n",
       "      <td>2</td>\n",
       "      <td>C385</td>\n",
       "      <td>Onion, Juice, Flatbread with Meat, Chicken</td>\n",
       "      <td>2025-04-26</td>\n",
       "    </tr>\n",
       "    <tr>\n",
       "      <th>2</th>\n",
       "      <td>3</td>\n",
       "      <td>C292</td>\n",
       "      <td>Egg, Flatbread with Meat, Banana, Pizza</td>\n",
       "      <td>2025-04-25</td>\n",
       "    </tr>\n",
       "    <tr>\n",
       "      <th>3</th>\n",
       "      <td>4</td>\n",
       "      <td>C863</td>\n",
       "      <td>Ice Cream, Soda, Orange, Potato, Cereal, Choco...</td>\n",
       "      <td>2025-01-14</td>\n",
       "    </tr>\n",
       "    <tr>\n",
       "      <th>4</th>\n",
       "      <td>5</td>\n",
       "      <td>C171</td>\n",
       "      <td>Ice Cream, Soap, Shampoo, Chicken, Banana, Bea...</td>\n",
       "      <td>2025-04-20</td>\n",
       "    </tr>\n",
       "  </tbody>\n",
       "</table>\n",
       "</div>"
      ],
      "text/plain": [
       "   TransactionID CustomerID  \\\n",
       "0              1       C546   \n",
       "1              2       C385   \n",
       "2              3       C292   \n",
       "3              4       C863   \n",
       "4              5       C171   \n",
       "\n",
       "                                            Products   Timestamp  \n",
       "0  Dish Sponge, Flatbread with Meat, Chips, Orang...  2025-02-18  \n",
       "1         Onion, Juice, Flatbread with Meat, Chicken  2025-04-26  \n",
       "2            Egg, Flatbread with Meat, Banana, Pizza  2025-04-25  \n",
       "3  Ice Cream, Soda, Orange, Potato, Cereal, Choco...  2025-01-14  \n",
       "4  Ice Cream, Soap, Shampoo, Chicken, Banana, Bea...  2025-04-20  "
      ]
     },
     "execution_count": 4,
     "metadata": {},
     "output_type": "execute_result"
    }
   ],
   "source": [
    "df.head()"
   ]
  },
  {
   "cell_type": "code",
   "execution_count": 5,
   "id": "f80a12fa",
   "metadata": {
    "execution": {
     "iopub.execute_input": "2025-10-24T13:26:32.889996Z",
     "iopub.status.busy": "2025-10-24T13:26:32.889645Z",
     "iopub.status.idle": "2025-10-24T13:26:32.922896Z",
     "shell.execute_reply": "2025-10-24T13:26:32.921359Z"
    },
    "papermill": {
     "duration": 0.042252,
     "end_time": "2025-10-24T13:26:32.924802",
     "exception": false,
     "start_time": "2025-10-24T13:26:32.882550",
     "status": "completed"
    },
    "tags": []
   },
   "outputs": [
    {
     "name": "stdout",
     "output_type": "stream",
     "text": [
      "<class 'pandas.core.frame.DataFrame'>\n",
      "RangeIndex: 30000 entries, 0 to 29999\n",
      "Data columns (total 4 columns):\n",
      " #   Column         Non-Null Count  Dtype \n",
      "---  ------         --------------  ----- \n",
      " 0   TransactionID  30000 non-null  int64 \n",
      " 1   CustomerID     30000 non-null  object\n",
      " 2   Products       30000 non-null  object\n",
      " 3   Timestamp      30000 non-null  object\n",
      "dtypes: int64(1), object(3)\n",
      "memory usage: 937.6+ KB\n"
     ]
    }
   ],
   "source": [
    "df.info()"
   ]
  },
  {
   "cell_type": "code",
   "execution_count": 6,
   "id": "8ac5e5d2",
   "metadata": {
    "execution": {
     "iopub.execute_input": "2025-10-24T13:26:32.939206Z",
     "iopub.status.busy": "2025-10-24T13:26:32.938826Z",
     "iopub.status.idle": "2025-10-24T13:26:32.960999Z",
     "shell.execute_reply": "2025-10-24T13:26:32.959672Z"
    },
    "papermill": {
     "duration": 0.031039,
     "end_time": "2025-10-24T13:26:32.962770",
     "exception": false,
     "start_time": "2025-10-24T13:26:32.931731",
     "status": "completed"
    },
    "tags": []
   },
   "outputs": [
    {
     "data": {
      "text/plain": [
       "0"
      ]
     },
     "execution_count": 6,
     "metadata": {},
     "output_type": "execute_result"
    }
   ],
   "source": [
    "df.duplicated().sum()"
   ]
  },
  {
   "cell_type": "code",
   "execution_count": 7,
   "id": "5d2fd544",
   "metadata": {
    "execution": {
     "iopub.execute_input": "2025-10-24T13:26:32.977954Z",
     "iopub.status.busy": "2025-10-24T13:26:32.976853Z",
     "iopub.status.idle": "2025-10-24T13:26:32.998717Z",
     "shell.execute_reply": "2025-10-24T13:26:32.997386Z"
    },
    "papermill": {
     "duration": 0.031081,
     "end_time": "2025-10-24T13:26:33.000544",
     "exception": false,
     "start_time": "2025-10-24T13:26:32.969463",
     "status": "completed"
    },
    "tags": []
   },
   "outputs": [
    {
     "name": "stdout",
     "output_type": "stream",
     "text": [
      "30000\n",
      "1000\n",
      "29889\n",
      "120\n"
     ]
    }
   ],
   "source": [
    "for c in ['TransactionID', 'CustomerID', 'Products', 'Timestamp']:\n",
    "    print(df[c].nunique())"
   ]
  },
  {
   "cell_type": "markdown",
   "id": "647d2e2f",
   "metadata": {
    "papermill": {
     "duration": 0.006563,
     "end_time": "2025-10-24T13:26:33.013612",
     "exception": false,
     "start_time": "2025-10-24T13:26:33.007049",
     "status": "completed"
    },
    "tags": []
   },
   "source": [
    "* 30,000 unique transactions: no duplicates\n",
    "* 1,000 customers: an average of ~30 purchases per customer\n",
    "* 29,889 unique shopping carts: almost all different, high variability\n",
    "* 120 unique dates: the period covers approximately 4 months in 2025"
   ]
  },
  {
   "cell_type": "code",
   "execution_count": 8,
   "id": "83b06ce6",
   "metadata": {
    "execution": {
     "iopub.execute_input": "2025-10-24T13:26:33.028214Z",
     "iopub.status.busy": "2025-10-24T13:26:33.027770Z",
     "iopub.status.idle": "2025-10-24T13:26:33.046637Z",
     "shell.execute_reply": "2025-10-24T13:26:33.044839Z"
    },
    "papermill": {
     "duration": 0.029179,
     "end_time": "2025-10-24T13:26:33.049521",
     "exception": false,
     "start_time": "2025-10-24T13:26:33.020342",
     "status": "completed"
    },
    "tags": []
   },
   "outputs": [
    {
     "data": {
      "text/plain": [
       "count    1000.000000\n",
       "mean       30.000000\n",
       "std         5.714775\n",
       "min        14.000000\n",
       "25%        26.000000\n",
       "50%        30.000000\n",
       "75%        33.000000\n",
       "max        52.000000\n",
       "Name: TransactionID, dtype: float64"
      ]
     },
     "execution_count": 8,
     "metadata": {},
     "output_type": "execute_result"
    }
   ],
   "source": [
    "df.groupby('CustomerID')['TransactionID'].count().describe()"
   ]
  },
  {
   "cell_type": "code",
   "execution_count": 9,
   "id": "0d726068",
   "metadata": {
    "execution": {
     "iopub.execute_input": "2025-10-24T13:26:33.067142Z",
     "iopub.status.busy": "2025-10-24T13:26:33.066046Z",
     "iopub.status.idle": "2025-10-24T13:26:33.549263Z",
     "shell.execute_reply": "2025-10-24T13:26:33.548127Z"
    },
    "papermill": {
     "duration": 0.494498,
     "end_time": "2025-10-24T13:26:33.550793",
     "exception": false,
     "start_time": "2025-10-24T13:26:33.056295",
     "status": "completed"
    },
    "tags": []
   },
   "outputs": [
    {
     "name": "stderr",
     "output_type": "stream",
     "text": [
      "/usr/local/lib/python3.11/dist-packages/seaborn/_oldcore.py:1498: DeprecationWarning: is_categorical_dtype is deprecated and will be removed in a future version. Use isinstance(dtype, pd.CategoricalDtype) instead\n",
      "  if pd.api.types.is_categorical_dtype(vector):\n",
      "/usr/local/lib/python3.11/dist-packages/seaborn/_oldcore.py:1119: FutureWarning: use_inf_as_na option is deprecated and will be removed in a future version. Convert inf values to NaN before operating instead.\n",
      "  with pd.option_context('mode.use_inf_as_na', True):\n"
     ]
    },
    {
     "data": {
      "image/png": "[encoded data removed]",
      "text/plain": [
       "<Figure size 640x480 with 1 Axes>"
      ]
     },
     "metadata": {},
     "output_type": "display_data"
    }
   ],
   "source": [
    "sns.histplot(df.groupby('CustomerID')['TransactionID'].count(), kde=True, bins=35, edgecolor='black')\n",
    "plt.title('Distribution of Transactions per Customer')\n",
    "plt.xlabel('Number of Transactions')\n",
    "plt.ylabel('Number of Customers')\n",
    "plt.show()"
   ]
  },
  {
   "cell_type": "code",
   "execution_count": 10,
   "id": "c4ceeb72",
   "metadata": {
    "execution": {
     "iopub.execute_input": "2025-10-24T13:26:33.566989Z",
     "iopub.status.busy": "2025-10-24T13:26:33.566654Z",
     "iopub.status.idle": "2025-10-24T13:26:33.578696Z",
     "shell.execute_reply": "2025-10-24T13:26:33.577763Z"
    },
    "papermill": {
     "duration": 0.022094,
     "end_time": "2025-10-24T13:26:33.580486",
     "exception": false,
     "start_time": "2025-10-24T13:26:33.558392",
     "status": "completed"
    },
    "tags": []
   },
   "outputs": [
    {
     "data": {
      "text/plain": [
       "CustomerID\n",
       "C1       34\n",
       "C10      31\n",
       "C100     30\n",
       "C1000    31\n",
       "C101     42\n",
       "         ..\n",
       "C995     25\n",
       "C996     15\n",
       "C997     26\n",
       "C998     28\n",
       "C999     43\n",
       "Name: TransactionID, Length: 1000, dtype: int64"
      ]
     },
     "execution_count": 10,
     "metadata": {},
     "output_type": "execute_result"
    }
   ],
   "source": [
    "df.groupby('CustomerID')['TransactionID'].count()"
   ]
  },
  {
   "cell_type": "code",
   "execution_count": 11,
   "id": "f434f6ec",
   "metadata": {
    "execution": {
     "iopub.execute_input": "2025-10-24T13:26:33.597029Z",
     "iopub.status.busy": "2025-10-24T13:26:33.596676Z",
     "iopub.status.idle": "2025-10-24T13:26:33.612708Z",
     "shell.execute_reply": "2025-10-24T13:26:33.611782Z"
    },
    "papermill": {
     "duration": 0.02649,
     "end_time": "2025-10-24T13:26:33.614772",
     "exception": false,
     "start_time": "2025-10-24T13:26:33.588282",
     "status": "completed"
    },
    "tags": []
   },
   "outputs": [
    {
     "data": {
      "text/plain": [
       "TransactionID\n",
       "14     1\n",
       "15     1\n",
       "16     1\n",
       "17     2\n",
       "18     7\n",
       "19    12\n",
       "20    17\n",
       "21    22\n",
       "22    30\n",
       "23    29\n",
       "24    34\n",
       "25    49\n",
       "26    61\n",
       "27    79\n",
       "28    67\n",
       "29    74\n",
       "30    73\n",
       "31    71\n",
       "32    71\n",
       "33    52\n",
       "34    45\n",
       "35    41\n",
       "36    34\n",
       "37    30\n",
       "38    21\n",
       "39    16\n",
       "40    14\n",
       "41    12\n",
       "42    11\n",
       "43     7\n",
       "44     5\n",
       "45     1\n",
       "46     2\n",
       "47     4\n",
       "48     3\n",
       "52     1\n",
       "Name: count, dtype: int64"
      ]
     },
     "execution_count": 11,
     "metadata": {},
     "output_type": "execute_result"
    }
   ],
   "source": [
    "order_counts = df.groupby('CustomerID')['TransactionID'].count()\n",
    "order_counts.value_counts().sort_index()"
   ]
  },
  {
   "cell_type": "code",
   "execution_count": 12,
   "id": "48f44042",
   "metadata": {
    "execution": {
     "iopub.execute_input": "2025-10-24T13:26:33.632346Z",
     "iopub.status.busy": "2025-10-24T13:26:33.631989Z",
     "iopub.status.idle": "2025-10-24T13:26:33.643466Z",
     "shell.execute_reply": "2025-10-24T13:26:33.642096Z"
    },
    "papermill": {
     "duration": 0.022186,
     "end_time": "2025-10-24T13:26:33.645238",
     "exception": false,
     "start_time": "2025-10-24T13:26:33.623052",
     "status": "completed"
    },
    "tags": []
   },
   "outputs": [
    {
     "name": "stdout",
     "output_type": "stream",
     "text": [
      "2025-01-01\n",
      "2025-04-30\n"
     ]
    }
   ],
   "source": [
    "print(df['Timestamp'].min())\n",
    "print(df['Timestamp'].max())"
   ]
  },
  {
   "cell_type": "code",
   "execution_count": 13,
   "id": "2bff58b0",
   "metadata": {
    "execution": {
     "iopub.execute_input": "2025-10-24T13:26:33.661603Z",
     "iopub.status.busy": "2025-10-24T13:26:33.661309Z",
     "iopub.status.idle": "2025-10-24T13:26:33.696995Z",
     "shell.execute_reply": "2025-10-24T13:26:33.695919Z"
    },
    "papermill": {
     "duration": 0.046171,
     "end_time": "2025-10-24T13:26:33.699058",
     "exception": false,
     "start_time": "2025-10-24T13:26:33.652887",
     "status": "completed"
    },
    "tags": []
   },
   "outputs": [
    {
     "data": {
      "text/plain": [
       "count    30000.000000\n",
       "mean         6.583633\n",
       "std          2.332464\n",
       "min          3.000000\n",
       "25%          5.000000\n",
       "50%          7.000000\n",
       "75%          9.000000\n",
       "max         11.000000\n",
       "Name: Products, dtype: float64"
      ]
     },
     "execution_count": 13,
     "metadata": {},
     "output_type": "execute_result"
    }
   ],
   "source": [
    "df['Products'].apply(lambda x: len(x.split(','))).describe()"
   ]
  },
  {
   "cell_type": "code",
   "execution_count": 14,
   "id": "57bc204c",
   "metadata": {
    "execution": {
     "iopub.execute_input": "2025-10-24T13:26:33.716267Z",
     "iopub.status.busy": "2025-10-24T13:26:33.715926Z",
     "iopub.status.idle": "2025-10-24T13:26:33.725795Z",
     "shell.execute_reply": "2025-10-24T13:26:33.724524Z"
    },
    "papermill": {
     "duration": 0.019986,
     "end_time": "2025-10-24T13:26:33.727546",
     "exception": false,
     "start_time": "2025-10-24T13:26:33.707560",
     "status": "completed"
    },
    "tags": []
   },
   "outputs": [],
   "source": [
    "duplicated = df.Products[df['Products'].duplicated()]"
   ]
  },
  {
   "cell_type": "code",
   "execution_count": 15,
   "id": "956c2e4e",
   "metadata": {
    "execution": {
     "iopub.execute_input": "2025-10-24T13:26:33.744544Z",
     "iopub.status.busy": "2025-10-24T13:26:33.744234Z",
     "iopub.status.idle": "2025-10-24T13:26:33.753569Z",
     "shell.execute_reply": "2025-10-24T13:26:33.752165Z"
    },
    "papermill": {
     "duration": 0.01962,
     "end_time": "2025-10-24T13:26:33.755401",
     "exception": false,
     "start_time": "2025-10-24T13:26:33.735781",
     "status": "completed"
    },
    "tags": []
   },
   "outputs": [
    {
     "data": {
      "text/plain": [
       "856                         Fish, Juice, Lentil\n",
       "3496                   Milk, Juice, Dish Sponge\n",
       "3888                    Lentil, Pizza, Cucumber\n",
       "5330                     Pizza, Fish, Chickpeas\n",
       "6743                  Sausage, Honey, Ice Cream\n",
       "6804                         Cereal, Honey, Egg\n",
       "7663                        Lentil, Fish, Honey\n",
       "7965               Pizza, Cucumber, Honey, Soda\n",
       "8628                  Chickpeas, Bread, Cracker\n",
       "9441                 Beans, Soap, Water, Lentil\n",
       "9515           Soda, Dish Sponge, Potato, Water\n",
       "10225         Pizza, Flatbread with Meat, Onion\n",
       "10354        Tomato, Pizza, Flatbread with Meat\n",
       "10432        Chickpeas, Dish Sponge, Strawberry\n",
       "10831                     Tomato, Cereal, Pizza\n",
       "10866                       Onion, Cracker, Egg\n",
       "10884                       Onion, Cola, Tomato\n",
       "11002                    Sausage, Chips, Yogurt\n",
       "11043                      Pizza, Butter, Chips\n",
       "11202                    Fish, Chicken, Sausage\n",
       "11559                  Soda, Minced Meat, Pizza\n",
       "11712                Minced Meat, Cereal, Water\n",
       "11739    Flatbread with Meat, Rice, Minced Meat\n",
       "12648                     Tomato, Potato, Apple\n",
       "12763                     Beans, Banana, Yogurt\n",
       "13836            Cereal, Ice Cream, Minced Meat\n",
       "14011                     Egg, Beans, Chickpeas\n",
       "14329                  Cookie, Chips, Detergent\n",
       "15054                   Potato, Pizza, Cucumber\n",
       "15213                      Honey, Apple, Cereal\n",
       "15229             Dumpling, Dish Sponge, Orange\n",
       "15317                        Cereal, Egg, Chips\n",
       "15412                      Butter, Fish, Yogurt\n",
       "15722         Dish Sponge, Chocolate, Chickpeas\n",
       "16311                  Ice Cream, Bread, Lentil\n",
       "16689                       Apple, Bread, Honey\n",
       "16889                       Cola, Rice, Chicken\n",
       "16966                   Banana, Onion, Cucumber\n",
       "16978                        Bread, Honey, Soda\n",
       "17090                      Cheese, Chips, Bread\n",
       "17307                   Beans, Chickpeas, Apple\n",
       "17753            Pizza, Beans, Cereal, Dumpling\n",
       "18082            Lentil, Soap, Fish, Strawberry\n",
       "18367                    Cookie, Cheese, Banana\n",
       "18428    Flatbread with Meat, Banana, Detergent\n",
       "18864                       Apple, Fish, Cereal\n",
       "19077                       Cheese, Soap, Onion\n",
       "19203                 Detergent, Apple, Shampoo\n",
       "19279                      Bread, Cracker, Cola\n",
       "19288       Cracker, Flatbread with Meat, Honey\n",
       "19367                   Cookie, Fish, Ice Cream\n",
       "19495                Milk, Fish, Yogurt, Cereal\n",
       "19646                    Cola, Chocolate, Pizza\n",
       "19649         Detergent, Dish Sponge, Chickpeas\n",
       "19842                Sausage, Cookie, Chickpeas\n",
       "20167                     Honey, Sausage, Beans\n",
       "20424                     Onion, Lentil, Cheese\n",
       "20586                 Potato, Orange, Ice Cream\n",
       "20736                       Cracker, Cola, Soap\n",
       "21755                    Pizza, Ice Cream, Soda\n",
       "21844                   Orange, Sausage, Tomato\n",
       "21882                       Banana, Egg, Cookie\n",
       "22033                     Cola, Sausage, Cereal\n",
       "22051                  Cheese, Cucumber, Tomato\n",
       "22217                    Cereal, Shampoo, Bread\n",
       "22316                    Juice, Yogurt, Sausage\n",
       "22338                         Bread, Soap, Soda\n",
       "22408                        Rice, Juice, Pizza\n",
       "23305                     Honey, Orange, Cookie\n",
       "23604                        Apple, Egg, Cereal\n",
       "23846                        Onion, Tomato, Egg\n",
       "23895                    Sausage, Chips, Yogurt\n",
       "23948                       Soda, Cereal, Bread\n",
       "24001           Rice, Flatbread with Meat, Soap\n",
       "24256      Detergent, Soda, Flatbread with Meat\n",
       "24270                 Minced Meat, Beans, Apple\n",
       "24409             Chickpeas, Chips, Minced Meat\n",
       "24510                      Soda, Ice Cream, Egg\n",
       "24725                      Cheese, Onion, Water\n",
       "25071                   Water, Egg, Minced Meat\n",
       "25321                       Potato, Fish, Beans\n",
       "25541          Soap, Apple, Flatbread with Meat\n",
       "25622    Detergent, Yogurt, Flatbread with Meat\n",
       "25755    Dish Sponge, Soda, Flatbread with Meat\n",
       "25806                  Cheese, Chicken, Shampoo\n",
       "25837                      Chicken, Beans, Soap\n",
       "25915                      Cola, Water, Shampoo\n",
       "25996                       Cheese, Milk, Chips\n",
       "26105                Minced Meat, Fish, Shampoo\n",
       "26698                  Orange, Onion, Ice Cream\n",
       "26927                   Onion, Egg, Dish Sponge\n",
       "27099                      Soda, Lentil, Potato\n",
       "27350                     Orange, Honey, Banana\n",
       "27467               Dish Sponge, Potato, Cheese\n",
       "27502                        Tomato, Cola, Fish\n",
       "27548                     Juice, Honey, Shampoo\n",
       "27622                 Dish Sponge, Cola, Cheese\n",
       "27736            Minced Meat, Strawberry, Apple\n",
       "27981               Cheese, Cucumber, Detergent\n",
       "28271       Potato, Flatbread with Meat, Butter\n",
       "28539                      Fish, Chickpeas, Egg\n",
       "28651                       Juice, Beans, Water\n",
       "28731                       Egg, Water, Chicken\n",
       "28740                     Cereal, Orange, Beans\n",
       "29006                     Cola, Cracker, Cookie\n",
       "29022                    Rice, Dumpling, Yogurt\n",
       "29202                 Dish Sponge, Potato, Rice\n",
       "29289                Cheese, Sausage, Detergent\n",
       "29440                   Banana, Chickpeas, Soap\n",
       "29878                  Butter, Orange, Cucumber\n",
       "29922              Onion, Dumpling, Dish Sponge\n",
       "Name: Products, dtype: object"
      ]
     },
     "metadata": {},
     "output_type": "display_data"
    }
   ],
   "source": [
    "with pd.option_context('display.max_rows', None, 'display.max_columns', None):\n",
    "    display(duplicated)"
   ]
  },
  {
   "cell_type": "code",
   "execution_count": 16,
   "id": "52db4bbf",
   "metadata": {
    "execution": {
     "iopub.execute_input": "2025-10-24T13:26:33.771865Z",
     "iopub.status.busy": "2025-10-24T13:26:33.771575Z",
     "iopub.status.idle": "2025-10-24T13:26:33.837550Z",
     "shell.execute_reply": "2025-10-24T13:26:33.836431Z"
    },
    "papermill": {
     "duration": 0.076347,
     "end_time": "2025-10-24T13:26:33.839426",
     "exception": false,
     "start_time": "2025-10-24T13:26:33.763079",
     "status": "completed"
    },
    "tags": []
   },
   "outputs": [],
   "source": [
    "df['Product_list'] = df['Products'].apply(lambda x: [p.strip() for p in x.split(',')])"
   ]
  },
  {
   "cell_type": "code",
   "execution_count": 17,
   "id": "bdede027",
   "metadata": {
    "execution": {
     "iopub.execute_input": "2025-10-24T13:26:33.857508Z",
     "iopub.status.busy": "2025-10-24T13:26:33.857168Z",
     "iopub.status.idle": "2025-10-24T13:26:33.869971Z",
     "shell.execute_reply": "2025-10-24T13:26:33.868636Z"
    },
    "papermill": {
     "duration": 0.024351,
     "end_time": "2025-10-24T13:26:33.871655",
     "exception": false,
     "start_time": "2025-10-24T13:26:33.847304",
     "status": "completed"
    },
    "tags": []
   },
   "outputs": [
    {
     "data": {
      "text/html": [
       "<div>\n",
       "<style scoped>\n",
       "    .dataframe tbody tr th:only-of-type {\n",
       "        vertical-align: middle;\n",
       "    }\n",
       "\n",
       "    .dataframe tbody tr th {\n",
       "        vertical-align: top;\n",
       "    }\n",
       "\n",
       "    .dataframe thead th {\n",
       "        text-align: right;\n",
       "    }\n",
       "</style>\n",
       "<table border=\"1\" class=\"dataframe\">\n",
       "  <thead>\n",
       "    <tr style=\"text-align: right;\">\n",
       "      <th></th>\n",
       "      <th>TransactionID</th>\n",
       "      <th>CustomerID</th>\n",
       "      <th>Products</th>\n",
       "      <th>Timestamp</th>\n",
       "      <th>Product_list</th>\n",
       "    </tr>\n",
       "  </thead>\n",
       "  <tbody>\n",
       "    <tr>\n",
       "      <th>0</th>\n",
       "      <td>1</td>\n",
       "      <td>C546</td>\n",
       "      <td>Dish Sponge, Flatbread with Meat, Chips, Orang...</td>\n",
       "      <td>2025-02-18</td>\n",
       "      <td>[Dish Sponge, Flatbread with Meat, Chips, Oran...</td>\n",
       "    </tr>\n",
       "    <tr>\n",
       "      <th>1</th>\n",
       "      <td>2</td>\n",
       "      <td>C385</td>\n",
       "      <td>Onion, Juice, Flatbread with Meat, Chicken</td>\n",
       "      <td>2025-04-26</td>\n",
       "      <td>[Onion, Juice, Flatbread with Meat, Chicken]</td>\n",
       "    </tr>\n",
       "    <tr>\n",
       "      <th>2</th>\n",
       "      <td>3</td>\n",
       "      <td>C292</td>\n",
       "      <td>Egg, Flatbread with Meat, Banana, Pizza</td>\n",
       "      <td>2025-04-25</td>\n",
       "      <td>[Egg, Flatbread with Meat, Banana, Pizza]</td>\n",
       "    </tr>\n",
       "    <tr>\n",
       "      <th>3</th>\n",
       "      <td>4</td>\n",
       "      <td>C863</td>\n",
       "      <td>Ice Cream, Soda, Orange, Potato, Cereal, Choco...</td>\n",
       "      <td>2025-01-14</td>\n",
       "      <td>[Ice Cream, Soda, Orange, Potato, Cereal, Choc...</td>\n",
       "    </tr>\n",
       "    <tr>\n",
       "      <th>4</th>\n",
       "      <td>5</td>\n",
       "      <td>C171</td>\n",
       "      <td>Ice Cream, Soap, Shampoo, Chicken, Banana, Bea...</td>\n",
       "      <td>2025-04-20</td>\n",
       "      <td>[Ice Cream, Soap, Shampoo, Chicken, Banana, Be...</td>\n",
       "    </tr>\n",
       "  </tbody>\n",
       "</table>\n",
       "</div>"
      ],
      "text/plain": [
       "   TransactionID CustomerID  \\\n",
       "0              1       C546   \n",
       "1              2       C385   \n",
       "2              3       C292   \n",
       "3              4       C863   \n",
       "4              5       C171   \n",
       "\n",
       "                                            Products   Timestamp  \\\n",
       "0  Dish Sponge, Flatbread with Meat, Chips, Orang...  2025-02-18   \n",
       "1         Onion, Juice, Flatbread with Meat, Chicken  2025-04-26   \n",
       "2            Egg, Flatbread with Meat, Banana, Pizza  2025-04-25   \n",
       "3  Ice Cream, Soda, Orange, Potato, Cereal, Choco...  2025-01-14   \n",
       "4  Ice Cream, Soap, Shampoo, Chicken, Banana, Bea...  2025-04-20   \n",
       "\n",
       "                                        Product_list  \n",
       "0  [Dish Sponge, Flatbread with Meat, Chips, Oran...  \n",
       "1       [Onion, Juice, Flatbread with Meat, Chicken]  \n",
       "2          [Egg, Flatbread with Meat, Banana, Pizza]  \n",
       "3  [Ice Cream, Soda, Orange, Potato, Cereal, Choc...  \n",
       "4  [Ice Cream, Soap, Shampoo, Chicken, Banana, Be...  "
      ]
     },
     "execution_count": 17,
     "metadata": {},
     "output_type": "execute_result"
    }
   ],
   "source": [
    "df.head()"
   ]
  },
  {
   "cell_type": "code",
   "execution_count": 18,
   "id": "c55a7805",
   "metadata": {
    "execution": {
     "iopub.execute_input": "2025-10-24T13:26:33.890775Z",
     "iopub.status.busy": "2025-10-24T13:26:33.890451Z",
     "iopub.status.idle": "2025-10-24T13:26:33.911631Z",
     "shell.execute_reply": "2025-10-24T13:26:33.910542Z"
    },
    "papermill": {
     "duration": 0.033559,
     "end_time": "2025-10-24T13:26:33.913372",
     "exception": false,
     "start_time": "2025-10-24T13:26:33.879813",
     "status": "completed"
    },
    "tags": []
   },
   "outputs": [],
   "source": [
    "unique_products = set(chain.from_iterable(df['Product_list']))"
   ]
  },
  {
   "cell_type": "code",
   "execution_count": 19,
   "id": "b2a2688c",
   "metadata": {
    "execution": {
     "iopub.execute_input": "2025-10-24T13:26:33.931518Z",
     "iopub.status.busy": "2025-10-24T13:26:33.931186Z",
     "iopub.status.idle": "2025-10-24T13:26:33.938025Z",
     "shell.execute_reply": "2025-10-24T13:26:33.937021Z"
    },
    "papermill": {
     "duration": 0.018366,
     "end_time": "2025-10-24T13:26:33.939894",
     "exception": false,
     "start_time": "2025-10-24T13:26:33.921528",
     "status": "completed"
    },
    "tags": []
   },
   "outputs": [
    {
     "data": {
      "text/plain": [
       "40"
      ]
     },
     "execution_count": 19,
     "metadata": {},
     "output_type": "execute_result"
    }
   ],
   "source": [
    "len(unique_products)"
   ]
  },
  {
   "cell_type": "code",
   "execution_count": 20,
   "id": "ca9b31ab",
   "metadata": {
    "execution": {
     "iopub.execute_input": "2025-10-24T13:26:33.957710Z",
     "iopub.status.busy": "2025-10-24T13:26:33.957097Z",
     "iopub.status.idle": "2025-10-24T13:26:33.964899Z",
     "shell.execute_reply": "2025-10-24T13:26:33.963953Z"
    },
    "papermill": {
     "duration": 0.018496,
     "end_time": "2025-10-24T13:26:33.966680",
     "exception": false,
     "start_time": "2025-10-24T13:26:33.948184",
     "status": "completed"
    },
    "tags": []
   },
   "outputs": [
    {
     "data": {
      "text/plain": [
       "{'Apple',\n",
       " 'Banana',\n",
       " 'Beans',\n",
       " 'Bread',\n",
       " 'Butter',\n",
       " 'Cereal',\n",
       " 'Cheese',\n",
       " 'Chicken',\n",
       " 'Chickpeas',\n",
       " 'Chips',\n",
       " 'Chocolate',\n",
       " 'Cola',\n",
       " 'Cookie',\n",
       " 'Cracker',\n",
       " 'Cucumber',\n",
       " 'Detergent',\n",
       " 'Dish Sponge',\n",
       " 'Dumpling',\n",
       " 'Egg',\n",
       " 'Fish',\n",
       " 'Flatbread with Meat',\n",
       " 'Honey',\n",
       " 'Ice Cream',\n",
       " 'Juice',\n",
       " 'Lentil',\n",
       " 'Milk',\n",
       " 'Minced Meat',\n",
       " 'Onion',\n",
       " 'Orange',\n",
       " 'Pizza',\n",
       " 'Potato',\n",
       " 'Rice',\n",
       " 'Sausage',\n",
       " 'Shampoo',\n",
       " 'Soap',\n",
       " 'Soda',\n",
       " 'Strawberry',\n",
       " 'Tomato',\n",
       " 'Water',\n",
       " 'Yogurt'}"
      ]
     },
     "execution_count": 20,
     "metadata": {},
     "output_type": "execute_result"
    }
   ],
   "source": [
    "unique_products"
   ]
  },
  {
   "cell_type": "code",
   "execution_count": 21,
   "id": "6846782e",
   "metadata": {
    "execution": {
     "iopub.execute_input": "2025-10-24T13:26:33.984290Z",
     "iopub.status.busy": "2025-10-24T13:26:33.983920Z",
     "iopub.status.idle": "2025-10-24T13:26:34.234858Z",
     "shell.execute_reply": "2025-10-24T13:26:34.233612Z"
    },
    "papermill": {
     "duration": 0.261876,
     "end_time": "2025-10-24T13:26:34.236761",
     "exception": false,
     "start_time": "2025-10-24T13:26:33.974885",
     "status": "completed"
    },
    "tags": []
   },
   "outputs": [
    {
     "data": {
      "image/png": "[encoded data removed]",
      "text/plain": [
       "<Figure size 640x480 with 1 Axes>"
      ]
     },
     "metadata": {},
     "output_type": "display_data"
    }
   ],
   "source": [
    "plt.hist(df['Products'].apply(lambda x: len(x.split(','))), bins=20)\n",
    "plt.title('Распределение размера корзины')\n",
    "plt.xlabel('Количество товаров')\n",
    "plt.ylabel('Количество транзакций')\n",
    "plt.show()"
   ]
  },
  {
   "cell_type": "code",
   "execution_count": 22,
   "id": "aa327b30",
   "metadata": {
    "execution": {
     "iopub.execute_input": "2025-10-24T13:26:34.256103Z",
     "iopub.status.busy": "2025-10-24T13:26:34.255810Z",
     "iopub.status.idle": "2025-10-24T13:26:34.767969Z",
     "shell.execute_reply": "2025-10-24T13:26:34.766589Z"
    },
    "papermill": {
     "duration": 0.524084,
     "end_time": "2025-10-24T13:26:34.769753",
     "exception": false,
     "start_time": "2025-10-24T13:26:34.245669",
     "status": "completed"
    },
    "tags": []
   },
   "outputs": [
    {
     "data": {
      "image/png": "[encoded data removed]",
      "text/plain": [
       "<Figure size 1500x800 with 1 Axes>"
      ]
     },
     "metadata": {},
     "output_type": "display_data"
    }
   ],
   "source": [
    "from collections import Counter\n",
    "\n",
    "all_products = list(chain.from_iterable(df['Product_list']))\n",
    "product_counts = Counter(all_products)\n",
    "top_products = product_counts.most_common(40)\n",
    "\n",
    "plt.figure(figsize=(15, 8))\n",
    "plt.bar([p[0] for p in top_products], [p[1] for p in top_products])\n",
    "plt.xticks(rotation=45, ha='right', fontsize=9)\n",
    "plt.title('Топ-10 самых популярных товаров')\n",
    "plt.show()"
   ]
  },
  {
   "cell_type": "code",
   "execution_count": 23,
   "id": "0c929ab9",
   "metadata": {
    "execution": {
     "iopub.execute_input": "2025-10-24T13:26:34.791920Z",
     "iopub.status.busy": "2025-10-24T13:26:34.790962Z",
     "iopub.status.idle": "2025-10-24T13:26:34.803550Z",
     "shell.execute_reply": "2025-10-24T13:26:34.802178Z"
    },
    "papermill": {
     "duration": 0.025391,
     "end_time": "2025-10-24T13:26:34.805348",
     "exception": false,
     "start_time": "2025-10-24T13:26:34.779957",
     "status": "completed"
    },
    "tags": []
   },
   "outputs": [
    {
     "data": {
      "text/html": [
       "<div>\n",
       "<style scoped>\n",
       "    .dataframe tbody tr th:only-of-type {\n",
       "        vertical-align: middle;\n",
       "    }\n",
       "\n",
       "    .dataframe tbody tr th {\n",
       "        vertical-align: top;\n",
       "    }\n",
       "\n",
       "    .dataframe thead th {\n",
       "        text-align: right;\n",
       "    }\n",
       "</style>\n",
       "<table border=\"1\" class=\"dataframe\">\n",
       "  <thead>\n",
       "    <tr style=\"text-align: right;\">\n",
       "      <th></th>\n",
       "      <th>TransactionID</th>\n",
       "      <th>CustomerID</th>\n",
       "      <th>Products</th>\n",
       "      <th>Timestamp</th>\n",
       "      <th>Product_list</th>\n",
       "    </tr>\n",
       "  </thead>\n",
       "  <tbody>\n",
       "    <tr>\n",
       "      <th>0</th>\n",
       "      <td>1</td>\n",
       "      <td>C546</td>\n",
       "      <td>Dish Sponge, Flatbread with Meat, Chips, Orang...</td>\n",
       "      <td>2025-02-18</td>\n",
       "      <td>[Dish Sponge, Flatbread with Meat, Chips, Oran...</td>\n",
       "    </tr>\n",
       "    <tr>\n",
       "      <th>1</th>\n",
       "      <td>2</td>\n",
       "      <td>C385</td>\n",
       "      <td>Onion, Juice, Flatbread with Meat, Chicken</td>\n",
       "      <td>2025-04-26</td>\n",
       "      <td>[Onion, Juice, Flatbread with Meat, Chicken]</td>\n",
       "    </tr>\n",
       "    <tr>\n",
       "      <th>2</th>\n",
       "      <td>3</td>\n",
       "      <td>C292</td>\n",
       "      <td>Egg, Flatbread with Meat, Banana, Pizza</td>\n",
       "      <td>2025-04-25</td>\n",
       "      <td>[Egg, Flatbread with Meat, Banana, Pizza]</td>\n",
       "    </tr>\n",
       "    <tr>\n",
       "      <th>3</th>\n",
       "      <td>4</td>\n",
       "      <td>C863</td>\n",
       "      <td>Ice Cream, Soda, Orange, Potato, Cereal, Choco...</td>\n",
       "      <td>2025-01-14</td>\n",
       "      <td>[Ice Cream, Soda, Orange, Potato, Cereal, Choc...</td>\n",
       "    </tr>\n",
       "    <tr>\n",
       "      <th>4</th>\n",
       "      <td>5</td>\n",
       "      <td>C171</td>\n",
       "      <td>Ice Cream, Soap, Shampoo, Chicken, Banana, Bea...</td>\n",
       "      <td>2025-04-20</td>\n",
       "      <td>[Ice Cream, Soap, Shampoo, Chicken, Banana, Be...</td>\n",
       "    </tr>\n",
       "  </tbody>\n",
       "</table>\n",
       "</div>"
      ],
      "text/plain": [
       "   TransactionID CustomerID  \\\n",
       "0              1       C546   \n",
       "1              2       C385   \n",
       "2              3       C292   \n",
       "3              4       C863   \n",
       "4              5       C171   \n",
       "\n",
       "                                            Products   Timestamp  \\\n",
       "0  Dish Sponge, Flatbread with Meat, Chips, Orang...  2025-02-18   \n",
       "1         Onion, Juice, Flatbread with Meat, Chicken  2025-04-26   \n",
       "2            Egg, Flatbread with Meat, Banana, Pizza  2025-04-25   \n",
       "3  Ice Cream, Soda, Orange, Potato, Cereal, Choco...  2025-01-14   \n",
       "4  Ice Cream, Soap, Shampoo, Chicken, Banana, Bea...  2025-04-20   \n",
       "\n",
       "                                        Product_list  \n",
       "0  [Dish Sponge, Flatbread with Meat, Chips, Oran...  \n",
       "1       [Onion, Juice, Flatbread with Meat, Chicken]  \n",
       "2          [Egg, Flatbread with Meat, Banana, Pizza]  \n",
       "3  [Ice Cream, Soda, Orange, Potato, Cereal, Choc...  \n",
       "4  [Ice Cream, Soap, Shampoo, Chicken, Banana, Be...  "
      ]
     },
     "execution_count": 23,
     "metadata": {},
     "output_type": "execute_result"
    }
   ],
   "source": [
    "df.head()"
   ]
  },
  {
   "cell_type": "markdown",
   "id": "3b3be080",
   "metadata": {
    "papermill": {
     "duration": 0.009453,
     "end_time": "2025-10-24T13:26:34.824911",
     "exception": false,
     "start_time": "2025-10-24T13:26:34.815458",
     "status": "completed"
    },
    "tags": []
   },
   "source": [
    "# Dataset prep"
   ]
  },
  {
   "cell_type": "code",
   "execution_count": 24,
   "id": "0e600681",
   "metadata": {
    "execution": {
     "iopub.execute_input": "2025-10-24T13:26:34.846356Z",
     "iopub.status.busy": "2025-10-24T13:26:34.846008Z",
     "iopub.status.idle": "2025-10-24T13:26:34.852436Z",
     "shell.execute_reply": "2025-10-24T13:26:34.851210Z"
    },
    "papermill": {
     "duration": 0.018857,
     "end_time": "2025-10-24T13:26:34.853966",
     "exception": false,
     "start_time": "2025-10-24T13:26:34.835109",
     "status": "completed"
    },
    "tags": []
   },
   "outputs": [],
   "source": [
    "transactions = df['Product_list'].tolist()"
   ]
  },
  {
   "cell_type": "code",
   "execution_count": 25,
   "id": "3dd65cbe",
   "metadata": {
    "execution": {
     "iopub.execute_input": "2025-10-24T13:26:34.876079Z",
     "iopub.status.busy": "2025-10-24T13:26:34.875784Z",
     "iopub.status.idle": "2025-10-24T13:26:34.880043Z",
     "shell.execute_reply": "2025-10-24T13:26:34.879102Z"
    },
    "papermill": {
     "duration": 0.017087,
     "end_time": "2025-10-24T13:26:34.881946",
     "exception": false,
     "start_time": "2025-10-24T13:26:34.864859",
     "status": "completed"
    },
    "tags": []
   },
   "outputs": [],
   "source": [
    "te = TransactionEncoder()"
   ]
  },
  {
   "cell_type": "code",
   "execution_count": 26,
   "id": "4c1dd0bf",
   "metadata": {
    "execution": {
     "iopub.execute_input": "2025-10-24T13:26:34.904281Z",
     "iopub.status.busy": "2025-10-24T13:26:34.903951Z",
     "iopub.status.idle": "2025-10-24T13:26:34.965105Z",
     "shell.execute_reply": "2025-10-24T13:26:34.963968Z"
    },
    "papermill": {
     "duration": 0.07413,
     "end_time": "2025-10-24T13:26:34.967143",
     "exception": false,
     "start_time": "2025-10-24T13:26:34.893013",
     "status": "completed"
    },
    "tags": []
   },
   "outputs": [],
   "source": [
    "te_ary = te.fit(transactions).transform(transactions)"
   ]
  },
  {
   "cell_type": "code",
   "execution_count": 27,
   "id": "39ff4285",
   "metadata": {
    "execution": {
     "iopub.execute_input": "2025-10-24T13:26:34.988813Z",
     "iopub.status.busy": "2025-10-24T13:26:34.988505Z",
     "iopub.status.idle": "2025-10-24T13:26:34.993917Z",
     "shell.execute_reply": "2025-10-24T13:26:34.992767Z"
    },
    "papermill": {
     "duration": 0.01851,
     "end_time": "2025-10-24T13:26:34.995799",
     "exception": false,
     "start_time": "2025-10-24T13:26:34.977289",
     "status": "completed"
    },
    "tags": []
   },
   "outputs": [],
   "source": [
    "basket_df = pd.DataFrame(te_ary, columns=te.columns_)"
   ]
  },
  {
   "cell_type": "code",
   "execution_count": 28,
   "id": "3c2f99cf",
   "metadata": {
    "execution": {
     "iopub.execute_input": "2025-10-24T13:26:35.019187Z",
     "iopub.status.busy": "2025-10-24T13:26:35.018835Z",
     "iopub.status.idle": "2025-10-24T13:26:35.038741Z",
     "shell.execute_reply": "2025-10-24T13:26:35.037758Z"
    },
    "papermill": {
     "duration": 0.033326,
     "end_time": "2025-10-24T13:26:35.040702",
     "exception": false,
     "start_time": "2025-10-24T13:26:35.007376",
     "status": "completed"
    },
    "tags": []
   },
   "outputs": [
    {
     "data": {
      "text/html": [
       "<div>\n",
       "<style scoped>\n",
       "    .dataframe tbody tr th:only-of-type {\n",
       "        vertical-align: middle;\n",
       "    }\n",
       "\n",
       "    .dataframe tbody tr th {\n",
       "        vertical-align: top;\n",
       "    }\n",
       "\n",
       "    .dataframe thead th {\n",
       "        text-align: right;\n",
       "    }\n",
       "</style>\n",
       "<table border=\"1\" class=\"dataframe\">\n",
       "  <thead>\n",
       "    <tr style=\"text-align: right;\">\n",
       "      <th></th>\n",
       "      <th>Apple</th>\n",
       "      <th>Banana</th>\n",
       "      <th>Beans</th>\n",
       "      <th>Bread</th>\n",
       "      <th>Butter</th>\n",
       "      <th>Cereal</th>\n",
       "      <th>Cheese</th>\n",
       "      <th>Chicken</th>\n",
       "      <th>Chickpeas</th>\n",
       "      <th>Chips</th>\n",
       "      <th>...</th>\n",
       "      <th>Potato</th>\n",
       "      <th>Rice</th>\n",
       "      <th>Sausage</th>\n",
       "      <th>Shampoo</th>\n",
       "      <th>Soap</th>\n",
       "      <th>Soda</th>\n",
       "      <th>Strawberry</th>\n",
       "      <th>Tomato</th>\n",
       "      <th>Water</th>\n",
       "      <th>Yogurt</th>\n",
       "    </tr>\n",
       "  </thead>\n",
       "  <tbody>\n",
       "    <tr>\n",
       "      <th>0</th>\n",
       "      <td>False</td>\n",
       "      <td>False</td>\n",
       "      <td>False</td>\n",
       "      <td>False</td>\n",
       "      <td>True</td>\n",
       "      <td>False</td>\n",
       "      <td>False</td>\n",
       "      <td>False</td>\n",
       "      <td>False</td>\n",
       "      <td>True</td>\n",
       "      <td>...</td>\n",
       "      <td>False</td>\n",
       "      <td>True</td>\n",
       "      <td>True</td>\n",
       "      <td>False</td>\n",
       "      <td>False</td>\n",
       "      <td>False</td>\n",
       "      <td>False</td>\n",
       "      <td>False</td>\n",
       "      <td>False</td>\n",
       "      <td>False</td>\n",
       "    </tr>\n",
       "    <tr>\n",
       "      <th>1</th>\n",
       "      <td>False</td>\n",
       "      <td>False</td>\n",
       "      <td>False</td>\n",
       "      <td>False</td>\n",
       "      <td>False</td>\n",
       "      <td>False</td>\n",
       "      <td>False</td>\n",
       "      <td>True</td>\n",
       "      <td>False</td>\n",
       "      <td>False</td>\n",
       "      <td>...</td>\n",
       "      <td>False</td>\n",
       "      <td>False</td>\n",
       "      <td>False</td>\n",
       "      <td>False</td>\n",
       "      <td>False</td>\n",
       "      <td>False</td>\n",
       "      <td>False</td>\n",
       "      <td>False</td>\n",
       "      <td>False</td>\n",
       "      <td>False</td>\n",
       "    </tr>\n",
       "    <tr>\n",
       "      <th>2</th>\n",
       "      <td>False</td>\n",
       "      <td>True</td>\n",
       "      <td>False</td>\n",
       "      <td>False</td>\n",
       "      <td>False</td>\n",
       "      <td>False</td>\n",
       "      <td>False</td>\n",
       "      <td>False</td>\n",
       "      <td>False</td>\n",
       "      <td>False</td>\n",
       "      <td>...</td>\n",
       "      <td>False</td>\n",
       "      <td>False</td>\n",
       "      <td>False</td>\n",
       "      <td>False</td>\n",
       "      <td>False</td>\n",
       "      <td>False</td>\n",
       "      <td>False</td>\n",
       "      <td>False</td>\n",
       "      <td>False</td>\n",
       "      <td>False</td>\n",
       "    </tr>\n",
       "    <tr>\n",
       "      <th>3</th>\n",
       "      <td>False</td>\n",
       "      <td>False</td>\n",
       "      <td>False</td>\n",
       "      <td>False</td>\n",
       "      <td>False</td>\n",
       "      <td>True</td>\n",
       "      <td>False</td>\n",
       "      <td>False</td>\n",
       "      <td>False</td>\n",
       "      <td>False</td>\n",
       "      <td>...</td>\n",
       "      <td>True</td>\n",
       "      <td>False</td>\n",
       "      <td>False</td>\n",
       "      <td>False</td>\n",
       "      <td>False</td>\n",
       "      <td>True</td>\n",
       "      <td>False</td>\n",
       "      <td>False</td>\n",
       "      <td>False</td>\n",
       "      <td>False</td>\n",
       "    </tr>\n",
       "    <tr>\n",
       "      <th>4</th>\n",
       "      <td>False</td>\n",
       "      <td>True</td>\n",
       "      <td>True</td>\n",
       "      <td>False</td>\n",
       "      <td>False</td>\n",
       "      <td>False</td>\n",
       "      <td>True</td>\n",
       "      <td>True</td>\n",
       "      <td>False</td>\n",
       "      <td>False</td>\n",
       "      <td>...</td>\n",
       "      <td>False</td>\n",
       "      <td>False</td>\n",
       "      <td>False</td>\n",
       "      <td>True</td>\n",
       "      <td>True</td>\n",
       "      <td>False</td>\n",
       "      <td>False</td>\n",
       "      <td>False</td>\n",
       "      <td>False</td>\n",
       "      <td>False</td>\n",
       "    </tr>\n",
       "  </tbody>\n",
       "</table>\n",
       "<p>5 rows × 40 columns</p>\n",
       "</div>"
      ],
      "text/plain": [
       "   Apple  Banana  Beans  Bread  Butter  Cereal  Cheese  Chicken  Chickpeas  \\\n",
       "0  False   False  False  False    True   False   False    False      False   \n",
       "1  False   False  False  False   False   False   False     True      False   \n",
       "2  False    True  False  False   False   False   False    False      False   \n",
       "3  False   False  False  False   False    True   False    False      False   \n",
       "4  False    True   True  False   False   False    True     True      False   \n",
       "\n",
       "   Chips  ...  Potato   Rice  Sausage  Shampoo   Soap   Soda  Strawberry  \\\n",
       "0   True  ...   False   True     True    False  False  False       False   \n",
       "1  False  ...   False  False    False    False  False  False       False   \n",
       "2  False  ...   False  False    False    False  False  False       False   \n",
       "3  False  ...    True  False    False    False  False   True       False   \n",
       "4  False  ...   False  False    False     True   True  False       False   \n",
       "\n",
       "   Tomato  Water  Yogurt  \n",
       "0   False  False   False  \n",
       "1   False  False   False  \n",
       "2   False  False   False  \n",
       "3   False  False   False  \n",
       "4   False  False   False  \n",
       "\n",
       "[5 rows x 40 columns]"
      ]
     },
     "execution_count": 28,
     "metadata": {},
     "output_type": "execute_result"
    }
   ],
   "source": [
    "basket_df.head()"
   ]
  },
  {
   "cell_type": "code",
   "execution_count": 29,
   "id": "1211c30a",
   "metadata": {
    "execution": {
     "iopub.execute_input": "2025-10-24T13:26:35.064132Z",
     "iopub.status.busy": "2025-10-24T13:26:35.063803Z",
     "iopub.status.idle": "2025-10-24T13:26:35.088569Z",
     "shell.execute_reply": "2025-10-24T13:26:35.087019Z"
    },
    "papermill": {
     "duration": 0.038743,
     "end_time": "2025-10-24T13:26:35.090430",
     "exception": false,
     "start_time": "2025-10-24T13:26:35.051687",
     "status": "completed"
    },
    "tags": []
   },
   "outputs": [
    {
     "name": "stdout",
     "output_type": "stream",
     "text": [
      "<class 'pandas.core.frame.DataFrame'>\n",
      "RangeIndex: 30000 entries, 0 to 29999\n",
      "Data columns (total 40 columns):\n",
      " #   Column               Non-Null Count  Dtype\n",
      "---  ------               --------------  -----\n",
      " 0   Apple                30000 non-null  bool \n",
      " 1   Banana               30000 non-null  bool \n",
      " 2   Beans                30000 non-null  bool \n",
      " 3   Bread                30000 non-null  bool \n",
      " 4   Butter               30000 non-null  bool \n",
      " 5   Cereal               30000 non-null  bool \n",
      " 6   Cheese               30000 non-null  bool \n",
      " 7   Chicken              30000 non-null  bool \n",
      " 8   Chickpeas            30000 non-null  bool \n",
      " 9   Chips                30000 non-null  bool \n",
      " 10  Chocolate            30000 non-null  bool \n",
      " 11  Cola                 30000 non-null  bool \n",
      " 12  Cookie               30000 non-null  bool \n",
      " 13  Cracker              30000 non-null  bool \n",
      " 14  Cucumber             30000 non-null  bool \n",
      " 15  Detergent            30000 non-null  bool \n",
      " 16  Dish Sponge          30000 non-null  bool \n",
      " 17  Dumpling             30000 non-null  bool \n",
      " 18  Egg                  30000 non-null  bool \n",
      " 19  Fish                 30000 non-null  bool \n",
      " 20  Flatbread with Meat  30000 non-null  bool \n",
      " 21  Honey                30000 non-null  bool \n",
      " 22  Ice Cream            30000 non-null  bool \n",
      " 23  Juice                30000 non-null  bool \n",
      " 24  Lentil               30000 non-null  bool \n",
      " 25  Milk                 30000 non-null  bool \n",
      " 26  Minced Meat          30000 non-null  bool \n",
      " 27  Onion                30000 non-null  bool \n",
      " 28  Orange               30000 non-null  bool \n",
      " 29  Pizza                30000 non-null  bool \n",
      " 30  Potato               30000 non-null  bool \n",
      " 31  Rice                 30000 non-null  bool \n",
      " 32  Sausage              30000 non-null  bool \n",
      " 33  Shampoo              30000 non-null  bool \n",
      " 34  Soap                 30000 non-null  bool \n",
      " 35  Soda                 30000 non-null  bool \n",
      " 36  Strawberry           30000 non-null  bool \n",
      " 37  Tomato               30000 non-null  bool \n",
      " 38  Water                30000 non-null  bool \n",
      " 39  Yogurt               30000 non-null  bool \n",
      "dtypes: bool(40)\n",
      "memory usage: 1.1 MB\n"
     ]
    }
   ],
   "source": [
    "basket_df.info()"
   ]
  },
  {
   "cell_type": "code",
   "execution_count": 30,
   "id": "ce113164",
   "metadata": {
    "execution": {
     "iopub.execute_input": "2025-10-24T13:26:35.112569Z",
     "iopub.status.busy": "2025-10-24T13:26:35.112252Z",
     "iopub.status.idle": "2025-10-24T13:26:37.998167Z",
     "shell.execute_reply": "2025-10-24T13:26:37.997173Z"
    },
    "papermill": {
     "duration": 2.898909,
     "end_time": "2025-10-24T13:26:37.999952",
     "exception": false,
     "start_time": "2025-10-24T13:26:35.101043",
     "status": "completed"
    },
    "tags": []
   },
   "outputs": [
    {
     "data": {
      "image/png": "[encoded data removed]",
      "text/plain": [
       "<Figure size 1000x600 with 1 Axes>"
      ]
     },
     "metadata": {},
     "output_type": "display_data"
    }
   ],
   "source": [
    "plt.figure(figsize=(10, 6))\n",
    "sns.heatmap(basket_df.T, cmap='Oranges', cbar=False)\n",
    "plt.title('Data Structure')\n",
    "plt.xlabel('Transactions')\n",
    "plt.ylabel('Products')\n",
    "plt.show()"
   ]
  },
  {
   "cell_type": "markdown",
   "id": "5fa8f747",
   "metadata": {
    "papermill": {
     "duration": 0.015476,
     "end_time": "2025-10-24T13:26:38.028075",
     "exception": false,
     "start_time": "2025-10-24T13:26:38.012599",
     "status": "completed"
    },
    "tags": []
   },
   "source": [
    "# Association Rules"
   ]
  },
  {
   "cell_type": "code",
   "execution_count": 31,
   "id": "88f5509c",
   "metadata": {
    "execution": {
     "iopub.execute_input": "2025-10-24T13:26:38.064078Z",
     "iopub.status.busy": "2025-10-24T13:26:38.063147Z",
     "iopub.status.idle": "2025-10-24T13:26:38.332960Z",
     "shell.execute_reply": "2025-10-24T13:26:38.331631Z"
    },
    "papermill": {
     "duration": 0.290037,
     "end_time": "2025-10-24T13:26:38.335726",
     "exception": false,
     "start_time": "2025-10-24T13:26:38.045689",
     "status": "completed"
    },
    "tags": []
   },
   "outputs": [
    {
     "name": "stdout",
     "output_type": "stream",
     "text": [
      "Processing 2193 combinations | Sampling itemset size 3\n"
     ]
    }
   ],
   "source": [
    "freq_items = apriori(basket_df, min_support=0.035, use_colnames=True, verbose=1)"
   ]
  },
  {
   "cell_type": "code",
   "execution_count": 32,
   "id": "1a41d6e4",
   "metadata": {
    "execution": {
     "iopub.execute_input": "2025-10-24T13:26:38.369305Z",
     "iopub.status.busy": "2025-10-24T13:26:38.368941Z",
     "iopub.status.idle": "2025-10-24T13:26:38.388531Z",
     "shell.execute_reply": "2025-10-24T13:26:38.387219Z"
    },
    "papermill": {
     "duration": 0.038879,
     "end_time": "2025-10-24T13:26:38.390968",
     "exception": false,
     "start_time": "2025-10-24T13:26:38.352089",
     "status": "completed"
    },
    "tags": []
   },
   "outputs": [
    {
     "data": {
      "text/html": [
       "<div>\n",
       "<style scoped>\n",
       "    .dataframe tbody tr th:only-of-type {\n",
       "        vertical-align: middle;\n",
       "    }\n",
       "\n",
       "    .dataframe tbody tr th {\n",
       "        vertical-align: top;\n",
       "    }\n",
       "\n",
       "    .dataframe thead th {\n",
       "        text-align: right;\n",
       "    }\n",
       "</style>\n",
       "<table border=\"1\" class=\"dataframe\">\n",
       "  <thead>\n",
       "    <tr style=\"text-align: right;\">\n",
       "      <th></th>\n",
       "      <th>support</th>\n",
       "      <th>itemsets</th>\n",
       "    </tr>\n",
       "  </thead>\n",
       "  <tbody>\n",
       "    <tr>\n",
       "      <th>0</th>\n",
       "      <td>0.160467</td>\n",
       "      <td>(Apple)</td>\n",
       "    </tr>\n",
       "    <tr>\n",
       "      <th>1</th>\n",
       "      <td>0.163033</td>\n",
       "      <td>(Banana)</td>\n",
       "    </tr>\n",
       "    <tr>\n",
       "      <th>2</th>\n",
       "      <td>0.164967</td>\n",
       "      <td>(Beans)</td>\n",
       "    </tr>\n",
       "    <tr>\n",
       "      <th>3</th>\n",
       "      <td>0.162333</td>\n",
       "      <td>(Bread)</td>\n",
       "    </tr>\n",
       "    <tr>\n",
       "      <th>4</th>\n",
       "      <td>0.162033</td>\n",
       "      <td>(Butter)</td>\n",
       "    </tr>\n",
       "    <tr>\n",
       "      <th>...</th>\n",
       "      <td>...</td>\n",
       "      <td>...</td>\n",
       "    </tr>\n",
       "    <tr>\n",
       "      <th>74</th>\n",
       "      <td>0.039400</td>\n",
       "      <td>(Soda, Cereal)</td>\n",
       "    </tr>\n",
       "    <tr>\n",
       "      <th>75</th>\n",
       "      <td>0.037367</td>\n",
       "      <td>(Strawberry, Cereal)</td>\n",
       "    </tr>\n",
       "    <tr>\n",
       "      <th>76</th>\n",
       "      <td>0.038300</td>\n",
       "      <td>(Cereal, Tomato)</td>\n",
       "    </tr>\n",
       "    <tr>\n",
       "      <th>77</th>\n",
       "      <td>0.036700</td>\n",
       "      <td>(Cereal, Water)</td>\n",
       "    </tr>\n",
       "    <tr>\n",
       "      <th>78</th>\n",
       "      <td>0.037867</td>\n",
       "      <td>(Yogurt, Cereal)</td>\n",
       "    </tr>\n",
       "  </tbody>\n",
       "</table>\n",
       "<p>79 rows × 2 columns</p>\n",
       "</div>"
      ],
      "text/plain": [
       "     support              itemsets\n",
       "0   0.160467               (Apple)\n",
       "1   0.163033              (Banana)\n",
       "2   0.164967               (Beans)\n",
       "3   0.162333               (Bread)\n",
       "4   0.162033              (Butter)\n",
       "..       ...                   ...\n",
       "74  0.039400        (Soda, Cereal)\n",
       "75  0.037367  (Strawberry, Cereal)\n",
       "76  0.038300      (Cereal, Tomato)\n",
       "77  0.036700       (Cereal, Water)\n",
       "78  0.037867      (Yogurt, Cereal)\n",
       "\n",
       "[79 rows x 2 columns]"
      ]
     },
     "execution_count": 32,
     "metadata": {},
     "output_type": "execute_result"
    }
   ],
   "source": [
    "freq_items"
   ]
  }
 ],
 "metadata": {
  "kaggle": {
   "accelerator": "none",
   "dataSources": [
    {
     "datasetId": 7553557,
     "sourceId": 12006936,
     "sourceType": "datasetVersion"
    }
   ],
   "dockerImageVersionId": 31153,
   "isGpuEnabled": false,
   "isInternetEnabled": true,
   "language": "python",
   "sourceType": "notebook"
  },
  "kernelspec": {
   "display_name": "Python 3",
   "language": "python",
   "name": "python3"
  },
  "language_info": {
   "codemirror_mode": {
    "name": "ipython",
    "version": 3
   },
   "file_extension": ".py",
   "mimetype": "text/x-python",
   "name": "python",
   "nbconvert_exporter": "python",
   "pygments_lexer": "ipython3",
   "version": "3.11.13"
  },
  "papermill": {
   "default_parameters": {},
   "duration": 17.16109,
   "end_time": "2025-10-24T13:26:39.228505",
   "environment_variables": {},
   "exception": null,
   "input_path": "__notebook__.ipynb",
   "output_path": "__notebook__.ipynb",
   "parameters": {},
   "start_time": "2025-10-24T13:26:22.067415",
   "version": "2.6.0"
  }
 },
 "nbformat": 4,
 "nbformat_minor": 5
}
